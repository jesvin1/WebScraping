{
  "nbformat": 4,
  "nbformat_minor": 0,
  "metadata": {
    "colab": {
      "name": "Webscraping Basics.ipynb",
      "provenance": [],
      "authorship_tag": "ABX9TyMwQG4/o4lxoDdhPD5oa3+5",
      "include_colab_link": true
    },
    "kernelspec": {
      "name": "python3",
      "display_name": "Python 3"
    }
  },
  "cells": [
    {
      "cell_type": "markdown",
      "metadata": {
        "id": "view-in-github",
        "colab_type": "text"
      },
      "source": [
        "<a href=\"https://colab.research.google.com/github/jesvin1/WebScraping/blob/master/Webscraping_Basics.ipynb\" target=\"_parent\"><img src=\"https://colab.research.google.com/assets/colab-badge.svg\" alt=\"Open In Colab\"/></a>"
      ]
    },
    {
      "cell_type": "code",
      "metadata": {
        "id": "DYhwBP6gZqmi",
        "colab_type": "code",
        "colab": {}
      },
      "source": [
        "import requests\n",
        "import pandas as pd"
      ],
      "execution_count": 0,
      "outputs": []
    },
    {
      "cell_type": "code",
      "metadata": {
        "id": "nIs6qL_uZ3Gw",
        "colab_type": "code",
        "colab": {}
      },
      "source": [
        "url = 'https://finance.yahoo.com/quote/HDFCBANK.NS'\n",
        "wikiurl = 'https://en.wikipedia.org/wiki/NIFTY_50'"
      ],
      "execution_count": 0,
      "outputs": []
    },
    {
      "cell_type": "code",
      "metadata": {
        "id": "-ATCHL6vaFE1",
        "colab_type": "code",
        "colab": {}
      },
      "source": [
        "request = requests.get(url)\n",
        "request_comlist = requests.get(wikiurl)"
      ],
      "execution_count": 0,
      "outputs": []
    },
    {
      "cell_type": "code",
      "metadata": {
        "id": "XurCbBXxaJDq",
        "colab_type": "code",
        "outputId": "24c01cd0-709c-43c6-c63a-8c3d7b6e35b3",
        "colab": {
          "base_uri": "https://localhost:8080/",
          "height": 35
        }
      },
      "source": [
        "request"
      ],
      "execution_count": 4,
      "outputs": [
        {
          "output_type": "execute_result",
          "data": {
            "text/plain": [
              "<Response [200]>"
            ]
          },
          "metadata": {
            "tags": []
          },
          "execution_count": 4
        }
      ]
    },
    {
      "cell_type": "code",
      "metadata": {
        "id": "zmmpooegaTcP",
        "colab_type": "code",
        "outputId": "d2f78ec6-f91d-440b-f33c-4d03b44d89fe",
        "colab": {
          "base_uri": "https://localhost:8080/",
          "height": 35
        }
      },
      "source": [
        "request.status_code"
      ],
      "execution_count": 5,
      "outputs": [
        {
          "output_type": "execute_result",
          "data": {
            "text/plain": [
              "200"
            ]
          },
          "metadata": {
            "tags": []
          },
          "execution_count": 5
        }
      ]
    },
    {
      "cell_type": "code",
      "metadata": {
        "id": "oDJZv7bhaXcp",
        "colab_type": "code",
        "colab": {}
      },
      "source": [
        "htmltext = request.text\n",
        "htmltextwiki = request_comlist.text"
      ],
      "execution_count": 0,
      "outputs": []
    },
    {
      "cell_type": "code",
      "metadata": {
        "id": "TBStPk-H5bJD",
        "colab_type": "code",
        "outputId": "ed0fd7f6-fa5b-417d-a919-66d99ff46242",
        "colab": {
          "base_uri": "https://localhost:8080/",
          "height": 55
        }
      },
      "source": [
        "htmltextwiki"
      ],
      "execution_count": 7,
      "outputs": [
        {
          "output_type": "execute_result",
          "data": {
            "text/plain": [
              "'\\n<!DOCTYPE html>\\n<html class=\"client-nojs\" lang=\"en\" dir=\"ltr\">\\n<head>\\n<meta charset=\"UTF-8\"/>\\n<title>NIFTY 50 - Wikipedia</title>\\n<script>document.documentElement.className=\"client-js\";RLCONF={\"wgBreakFrames\":!1,\"wgSeparatorTransformTable\":[\"\",\"\"],\"wgDigitTransformTable\":[\"\",\"\"],\"wgDefaultDateFormat\":\"dmy\",\"wgMonthNames\":[\"\",\"January\",\"February\",\"March\",\"April\",\"May\",\"June\",\"July\",\"August\",\"September\",\"October\",\"November\",\"December\"],\"wgRequestId\":\"XrG8nwpAEJkAA3uC8VUAAAAF\",\"wgCSPNonce\":!1,\"wgCanonicalNamespace\":\"\",\"wgCanonicalSpecialPageName\":!1,\"wgNamespaceNumber\":0,\"wgPageName\":\"NIFTY_50\",\"wgTitle\":\"NIFTY 50\",\"wgCurRevisionId\":955061512,\"wgRevisionId\":955061512,\"wgArticleId\":1328813,\"wgIsArticle\":!0,\"wgIsRedirect\":!1,\"wgAction\":\"view\",\"wgUserName\":null,\"wgUserGroups\":[\"*\"],\"wgCategories\":[\"Use Indian English from June 2019\",\"All Wikipedia articles written in Indian English\",\"Use dmy dates from June 2019\",\"Indian stock market indices\",\"National Stock Exchange of India\"],\"wgPageContentLanguage\":\"en\",\"wgPageContentModel\":\"wikitext\",\"wgRelevantPageName\":\"NIFTY_50\",\"wgRelevantArticleId\":1328813,\\n\"wgIsProbablyEditable\":!0,\"wgRelevantPageIsProbablyEditable\":!0,\"wgRestrictionEdit\":[],\"wgRestrictionMove\":[],\"wgMediaViewerOnClick\":!0,\"wgMediaViewerEnabledByDefault\":!0,\"wgPopupsReferencePreviews\":!1,\"wgPopupsConflictsWithNavPopupGadget\":!1,\"wgVisualEditor\":{\"pageLanguageCode\":\"en\",\"pageLanguageDir\":\"ltr\",\"pageVariantFallbacks\":\"en\"},\"wgMFDisplayWikibaseDescriptions\":{\"search\":!0,\"nearby\":!0,\"watchlist\":!0,\"tagline\":!1},\"wgWMESchemaEditAttemptStepOversample\":!1,\"wgULSCurrentAutonym\":\"English\",\"wgNoticeProject\":\"wikipedia\",\"wgWikibaseItemId\":\"Q1853402\",\"wgCentralAuthMobileDomain\":!1,\"wgEditSubmitButtonLabelPublish\":!0};RLSTATE={\"ext.globalCssJs.user.styles\":\"ready\",\"site.styles\":\"ready\",\"noscript\":\"ready\",\"user.styles\":\"ready\",\"ext.globalCssJs.user\":\"ready\",\"user\":\"ready\",\"user.options\":\"loading\",\"ext.cite.styles\":\"ready\",\"jquery.tablesorter.styles\":\"ready\",\"jquery.makeCollapsible.styles\":\"ready\",\"mediawiki.toc.styles\":\"ready\",\\n\"skins.vector.styles.legacy\":\"ready\",\"wikibase.client.init\":\"ready\",\"ext.visualEditor.desktopArticleTarget.noscript\":\"ready\",\"ext.uls.interlanguage\":\"ready\",\"ext.wikimediaBadges\":\"ready\"};RLPAGEMODULES=[\"ext.cite.ux-enhancements\",\"site\",\"mediawiki.page.startup\",\"skins.vector.js\",\"mediawiki.page.ready\",\"jquery.tablesorter\",\"jquery.makeCollapsible\",\"mediawiki.toc\",\"ext.gadget.ReferenceTooltips\",\"ext.gadget.charinsert\",\"ext.gadget.refToolbar\",\"ext.gadget.extra-toolbar-buttons\",\"ext.gadget.switcher\",\"ext.centralauth.centralautologin\",\"mmv.head\",\"mmv.bootstrap.autostart\",\"ext.popups\",\"ext.visualEditor.desktopArticleTarget.init\",\"ext.visualEditor.targetLoader\",\"ext.eventLogging\",\"ext.wikimediaEvents\",\"ext.navigationTiming\",\"ext.uls.compactlinks\",\"ext.uls.interface\",\"ext.cx.eventlogging.campaigns\",\"ext.quicksurveys.init\",\"ext.centralNotice.geoIP\",\"ext.centralNotice.startUp\"];</script>\\n<script>(RLQ=window.RLQ||[]).push(function(){mw.loader.implement(\"user.options@1hzgi\",function($,jQuery,require,module){/*@nomin*/mw.user.tokens.set({\"patrolToken\":\"+\\\\\\\\\",\"watchToken\":\"+\\\\\\\\\",\"csrfToken\":\"+\\\\\\\\\"});\\n});});</script>\\n<link rel=\"stylesheet\" href=\"/w/load.php?lang=en&amp;modules=ext.cite.styles%7Cext.uls.interlanguage%7Cext.visualEditor.desktopArticleTarget.noscript%7Cext.wikimediaBadges%7Cjquery.makeCollapsible.styles%7Cjquery.tablesorter.styles%7Cmediawiki.toc.styles%7Cskins.vector.styles.legacy%7Cwikibase.client.init&amp;only=styles&amp;skin=vector\"/>\\n<script async=\"\" src=\"/w/load.php?lang=en&amp;modules=startup&amp;only=scripts&amp;raw=1&amp;skin=vector\"></script>\\n<meta name=\"ResourceLoaderDynamicStyles\" content=\"\"/>\\n<link rel=\"stylesheet\" href=\"/w/load.php?lang=en&amp;modules=site.styles&amp;only=styles&amp;skin=vector\"/>\\n<meta name=\"generator\" content=\"MediaWiki 1.35.0-wmf.30\"/>\\n<meta name=\"referrer\" content=\"origin\"/>\\n<meta name=\"referrer\" content=\"origin-when-crossorigin\"/>\\n<meta name=\"referrer\" content=\"origin-when-cross-origin\"/>\\n<meta property=\"og:image\" content=\"https://upload.wikimedia.org/wikipedia/en/9/92/NIFTY_50_logo.png\"/>\\n<link rel=\"alternate\" type=\"application/x-wiki\" title=\"Edit this page\" href=\"/w/index.php?title=NIFTY_50&amp;action=edit\"/>\\n<link rel=\"edit\" title=\"Edit this page\" href=\"/w/index.php?title=NIFTY_50&amp;action=edit\"/>\\n<link rel=\"apple-touch-icon\" href=\"/static/apple-touch/wikipedia.png\"/>\\n<link rel=\"shortcut icon\" href=\"/static/favicon/wikipedia.ico\"/>\\n<link rel=\"search\" type=\"application/opensearchdescription+xml\" href=\"/w/opensearch_desc.php\" title=\"Wikipedia (en)\"/>\\n<link rel=\"EditURI\" type=\"application/rsd+xml\" href=\"//en.wikipedia.org/w/api.php?action=rsd\"/>\\n<link rel=\"license\" href=\"//creativecommons.org/licenses/by-sa/3.0/\"/>\\n<link rel=\"alternate\" type=\"application/atom+xml\" title=\"Wikipedia Atom feed\" href=\"/w/index.php?title=Special:RecentChanges&amp;feed=atom\"/>\\n<link rel=\"canonical\" href=\"https://en.wikipedia.org/wiki/NIFTY_50\"/>\\n<link rel=\"dns-prefetch\" href=\"//login.wikimedia.org\"/>\\n<link rel=\"dns-prefetch\" href=\"//meta.wikimedia.org\" />\\n<!--[if lt IE 9]><script src=\"/w/resources/lib/html5shiv/html5shiv.js\"></script><![endif]-->\\n</head>\\n<body class=\"mediawiki ltr sitedir-ltr mw-hide-empty-elt ns-0 ns-subject mw-editable page-NIFTY_50 rootpage-NIFTY_50 skin-vector action-view\">\\n<div id=\"mw-page-base\" class=\"noprint\"></div>\\n<div id=\"mw-head-base\" class=\"noprint\"></div>\\n<div id=\"content\" class=\"mw-body\" role=\"main\">\\n\\t<a id=\"top\"></a>\\n\\t\\t<div id=\"siteNotice\" class=\"mw-body-content\"><!-- CentralNotice --></div>\\n\\t<div class=\"mw-indicators mw-body-content\">\\n</div>\\n\\n\\t<h1 id=\"firstHeading\" class=\"firstHeading\" lang=\"en\">NIFTY 50</h1>\\n\\t\\n\\t<div id=\"bodyContent\" class=\"mw-body-content\">\\n\\t\\t<div id=\"siteSub\" class=\"noprint\">From Wikipedia, the free encyclopedia</div>\\n\\t\\t<div id=\"contentSub\"></div>\\n\\t\\t\\n\\t\\t\\n\\t\\t<div id=\"jump-to-nav\"></div>\\n\\t\\t<a class=\"mw-jump-link\" href=\"#mw-head\">Jump to navigation</a>\\n\\t\\t<a class=\"mw-jump-link\" href=\"#p-search\">Jump to search</a>\\n\\t\\t<div id=\"mw-content-text\" lang=\"en\" dir=\"ltr\" class=\"mw-content-ltr\"><div class=\"mw-parser-output\"><div role=\"note\" class=\"hatnote navigation-not-searchable\">For other uses, see <a href=\"/wiki/Nifty_Fifty_(disambiguation)\" class=\"mw-disambig\" title=\"Nifty Fifty (disambiguation)\">Nifty Fifty (disambiguation)</a>.</div>\\n<p class=\"mw-empty-elt\">\\n\\n</p>\\n<table class=\"infobox vcard\" style=\"width:22em\"><caption class=\"fn n org\">NIFTY 50 Index</caption><tbody><tr class=\"logo\"><td colspan=\"2\" style=\"text-align:center\"><a href=\"/wiki/File:NIFTY_50_logo.png\" class=\"image\" title=\"Logo\"><img alt=\"Logo\" src=\"//upload.wikimedia.org/wikipedia/en/thumb/9/92/NIFTY_50_logo.png/220px-NIFTY_50_logo.png\" decoding=\"async\" width=\"220\" height=\"126\" srcset=\"//upload.wikimedia.org/wikipedia/en/9/92/NIFTY_50_logo.png 1.5x\" data-file-width=\"297\" data-file-height=\"170\" /></a></td></tr><tr><th scope=\"row\">Operator</th><td><a href=\"/wiki/India_Index_Services_and_Products\" title=\"India Index Services and Products\">India Index Services and Products</a></td></tr><tr><th scope=\"row\"><a href=\"/wiki/Stock_exchange\" title=\"Stock exchange\">Exchanges</a></th><td><a href=\"/wiki/National_Stock_Exchange_of_India\" title=\"National Stock Exchange of India\">National Stock Exchange of India</a></td></tr><tr><th scope=\"row\">Constituents</th><td>50</td></tr><tr><th scope=\"row\">Type</th><td><a href=\"/wiki/Large_cap\" class=\"mw-redirect\" title=\"Large cap\">Large cap</a></td></tr><tr><th scope=\"row\"><a href=\"/wiki/Market_capitalization\" title=\"Market capitalization\">Market cap</a></th><td>US$2.27 trillion <small>(April 2018)</small></td></tr><tr><th scope=\"row\">Weighting method</th><td><a href=\"/wiki/Capitalization-weighted_index\" title=\"Capitalization-weighted index\">Capitalization-weighted</a></td></tr><tr><th scope=\"row\">Website</th><td><span class=\"url\"><a rel=\"nofollow\" class=\"external text\" href=\"https://www.nseindia.com/\">www<wbr />.nseindia<wbr />.com</a></span></td></tr></tbody></table>\\n<p>The <b>NIFTY 50</b> index is <a href=\"/wiki/National_Stock_Exchange_of_India\" title=\"National Stock Exchange of India\">National Stock Exchange of India</a>\\'s benchmark broad based <a href=\"/wiki/Stock_market_index\" title=\"Stock market index\">stock market index</a> for the Indian equity market. NIFTY 50 stands for National Index Fifty, and represents the weighted average of 50 Indian company stocks in 17<sup id=\"cite_ref-1\" class=\"reference\"><a href=\"#cite_note-1\">&#91;1&#93;</a></sup> sectors. It is one of the two main stock indices used in India, the other being the <a href=\"/wiki/BSE_SENSEX\" title=\"BSE SENSEX\">BSE Sensex</a>.<sup id=\"cite_ref-nse_2-0\" class=\"reference\"><a href=\"#cite_note-nse-2\">&#91;2&#93;</a></sup> \\n</p><p>Nifty is owned and managed by <a href=\"/wiki/India_Index_Services_and_Products\" title=\"India Index Services and Products\">India Index Services and Products</a> (IISL), which is a wholly owned subsidiary of the NSE Strategic Investment Corporation Limited. <a href=\"/wiki/India_Index_Services_and_Products\" title=\"India Index Services and Products\">IISL</a> had a marketing and licensing agreement with <a href=\"/wiki/Standard_%26_Poor%27s\" class=\"mw-redirect\" title=\"Standard &amp; Poor&#39;s\">Standard &amp; Poor\\'s</a> for co-branding equity indices until 2013. The Nifty 50 was launched 1 April 1996, and is one of the many stock indices of Nifty.\\n</p><p>NIFTY 50 Index has shaped up as a largest single financial product in India, with an ecosystem comprising: <a href=\"/wiki/Exchange-traded_fund\" title=\"Exchange-traded fund\">exchange-traded funds</a> (onshore and offshore), exchange-traded options at the <a href=\"/wiki/National_Stock_Exchange_of_India\" title=\"National Stock Exchange of India\">NSE</a> in <a href=\"/wiki/India\" title=\"India\">India</a><sup id=\"cite_ref-3\" class=\"reference\"><a href=\"#cite_note-3\">&#91;3&#93;</a></sup>, and futures and options abroad at the <a href=\"/wiki/Singapore_Exchange\" title=\"Singapore Exchange\">SGX</a>.<sup id=\"cite_ref-4\" class=\"reference\"><a href=\"#cite_note-4\">&#91;4&#93;</a></sup> NIFTY 50 is the world\\'s most actively trade contract. WFE, IOMA and FIA surveys endorse NSE\\'s leadership position.<sup id=\"cite_ref-5\" class=\"reference\"><a href=\"#cite_note-5\">&#91;5&#93;</a></sup>\\n</p><p>The NIFTY 50 covers 13 sectors (as of 31 October 2019) of the <a href=\"/wiki/Indian_economy\" class=\"mw-redirect\" title=\"Indian economy\">Indian economy</a> and offers investment managers exposure to the Indian market in one portfolio. During 2008–12, NIFTY 50 Index share of NSE market capitalisation fell from 65% to 29%<sup id=\"cite_ref-6\" class=\"reference\"><a href=\"#cite_note-6\">&#91;6&#93;</a></sup> due to the rise of sectoral indices like NIFTY Bank, NIFTY IT, NIFTY Pharma, NIFTY SERV SECTOR, NIFTY Next 50, etc. The NIFTY 50 Index gives weightage of 39.47% to <a href=\"/wiki/Financial_services\" title=\"Financial services\">financial services</a>, 15.31% to Energy, 13.01% to IT, 12.38% to Consumer Goods, 6.11 to Automobile and nil to agricultural sector.<sup id=\"cite_ref-7\" class=\"reference\"><a href=\"#cite_note-7\">&#91;7&#93;</a></sup>\\n</p><p>The NIFTY 50 index is a <a href=\"/wiki/Capitalization-weighted_index\" title=\"Capitalization-weighted index\">free float market capitalisation weighted index</a>. The index was initially calculated on full market capitalisation methodology. From 26 June 2009, the computation was changed to a free-float methodology. \\nThe base period for the CNX Nifty index is 3 November 1995, which marked the completion of one year of operations of <i>National Stock Exchange Equity Market Segment</i>. The base value of the index has been set at 1000 and a base capital of Rs 2.06 trillion.<sup id=\"cite_ref-8\" class=\"reference\"><a href=\"#cite_note-8\">&#91;8&#93;</a></sup>\\n<sup id=\"cite_ref-9\" class=\"reference\"><a href=\"#cite_note-9\">&#91;9&#93;</a></sup>\\nIn February 2019, Britannia Industries entered into Nifty 50 by replacing Hindustan Petroleum Corporation Ltd. HPCL will move into Nifty Next 50<sup id=\"cite_ref-10\" class=\"reference\"><a href=\"#cite_note-10\">&#91;10&#93;</a></sup> From 27 September, Nestle India will be included in NSE Nifty 50 Index and Nifty 50 Equal Weight Index. It will be replacing Indiabulls Housing Finance Ltd.<sup id=\"cite_ref-11\" class=\"reference\"><a href=\"#cite_note-11\">&#91;11&#93;</a></sup>\\n</p>\\n<div id=\"toc\" class=\"toc\" role=\"navigation\" aria-labelledby=\"mw-toc-heading\"><input type=\"checkbox\" role=\"button\" id=\"toctogglecheckbox\" class=\"toctogglecheckbox\" style=\"display:none\" /><div class=\"toctitle\" lang=\"en\" dir=\"ltr\"><h2 id=\"mw-toc-heading\">Contents</h2><span class=\"toctogglespan\"><label class=\"toctogglelabel\" for=\"toctogglecheckbox\"></label></span></div>\\n<ul>\\n<li class=\"toclevel-1 tocsection-1\"><a href=\"#Components\"><span class=\"tocnumber\">1</span> <span class=\"toctext\">Components</span></a></li>\\n<li class=\"toclevel-1 tocsection-2\"><a href=\"#Major_single_day_falls\"><span class=\"tocnumber\">2</span> <span class=\"toctext\">Major single day falls</span></a></li>\\n<li class=\"toclevel-1 tocsection-3\"><a href=\"#Major_single_day_gains\"><span class=\"tocnumber\">3</span> <span class=\"toctext\">Major single day gains</span></a></li>\\n<li class=\"toclevel-1 tocsection-4\"><a href=\"#Annual_Returns\"><span class=\"tocnumber\">4</span> <span class=\"toctext\">Annual Returns</span></a></li>\\n<li class=\"toclevel-1 tocsection-5\"><a href=\"#All_time_highs\"><span class=\"tocnumber\">5</span> <span class=\"toctext\">All time highs</span></a></li>\\n<li class=\"toclevel-1 tocsection-6\"><a href=\"#Derivatives\"><span class=\"tocnumber\">6</span> <span class=\"toctext\">Derivatives</span></a></li>\\n<li class=\"toclevel-1 tocsection-7\"><a href=\"#NIFTY_Next_50\"><span class=\"tocnumber\">7</span> <span class=\"toctext\">NIFTY Next 50</span></a></li>\\n<li class=\"toclevel-1 tocsection-8\"><a href=\"#NIFTY_sectoral_indices\"><span class=\"tocnumber\">8</span> <span class=\"toctext\">NIFTY sectoral indices</span></a></li>\\n<li class=\"toclevel-1 tocsection-9\"><a href=\"#See_also\"><span class=\"tocnumber\">9</span> <span class=\"toctext\">See also</span></a></li>\\n<li class=\"toclevel-1 tocsection-10\"><a href=\"#References\"><span class=\"tocnumber\">10</span> <span class=\"toctext\">References</span></a></li>\\n<li class=\"toclevel-1 tocsection-11\"><a href=\"#External_links\"><span class=\"tocnumber\">11</span> <span class=\"toctext\">External links</span></a></li>\\n</ul>\\n</div>\\n\\n<h2><span class=\"mw-headline\" id=\"Components\">Components</span><span class=\"mw-editsection\"><span class=\"mw-editsection-bracket\">[</span><a href=\"/w/index.php?title=NIFTY_50&amp;action=edit&amp;section=1\" title=\"Edit section: Components\">edit</a><span class=\"mw-editsection-bracket\">]</span></span></h2>\\n<p>List of 50 companies that form part of NIFTY 50 Index as on 17 November 2019:\\n</p>\\n<table class=\"wikitable sortable\" id=\"constituents\" style=\"font-size:85%\">\\n\\n<tbody><tr>\\n<th>Company Name</th>\\n<th>Symbol</th>\\n<th>Sector\\n</th></tr>\\n<tr>\\n<td><a href=\"/wiki/Adani_Ports_%26_SEZ\" title=\"Adani Ports &amp; SEZ\">Adani Ports</a></td>\\n<td>ADANIPORTS.NS</td>\\n<td>Infrastructure\\n</td></tr>\\n<tr>\\n<td><a href=\"/wiki/Asian_Paints\" title=\"Asian Paints\">Asian Paints</a></td>\\n<td>ASIANPAINT.NS</td>\\n<td>Consumer Goods\\n</td></tr>\\n<tr>\\n<td><a href=\"/wiki/Axis_Bank\" title=\"Axis Bank\">Axis Bank</a></td>\\n<td>AXISBANK.NS</td>\\n<td>Banking\\n</td></tr>\\n<tr>\\n<td><a href=\"/wiki/Bajaj_Auto\" title=\"Bajaj Auto\">Bajaj Auto</a></td>\\n<td>BAJAJ-AUTO.NS</td>\\n<td>Automobile\\n</td></tr>\\n<tr>\\n<td><a href=\"/wiki/Bajaj_Finance\" title=\"Bajaj Finance\">Bajaj Finance</a></td>\\n<td>BAJFINANCE.NS</td>\\n<td>Financial Services\\n</td></tr>\\n<tr>\\n<td><a href=\"/wiki/Bajaj_Finserv\" title=\"Bajaj Finserv\">Bajaj Finserv</a></td>\\n<td>BAJAJFINSV.NS</td>\\n<td>Financial Services\\n</td></tr>\\n<tr>\\n<td><a href=\"/wiki/Bharti_Airtel\" title=\"Bharti Airtel\">Bharti Airtel</a></td>\\n<td>BHARTIARTL.NS</td>\\n<td>Telecommunication\\n</td></tr>\\n<tr>\\n<td><a href=\"/wiki/Bharti_Enterprises\" title=\"Bharti Enterprises\">Bharti Infratel</a></td>\\n<td>INFRATEL.NS</td>\\n<td>Telecommunication\\n</td></tr>\\n<tr>\\n<td><a href=\"/wiki/Bharat_Petroleum\" title=\"Bharat Petroleum\">BPCL</a></td>\\n<td>BPCL.NS</td>\\n<td>Energy - Oil &amp; Gas\\n</td></tr>\\n<tr>\\n<td><a href=\"/wiki/Britannia_Industries\" title=\"Britannia Industries\">Britannia Industries</a></td>\\n<td>BRITANNIA.NS</td>\\n<td>Consumer Goods\\n</td></tr>\\n<tr>\\n<td><a href=\"/wiki/Cipla\" title=\"Cipla\">Cipla</a></td>\\n<td>CIPLA.NS</td>\\n<td>Pharmaceuticals\\n</td></tr>\\n<tr>\\n<td><a href=\"/wiki/Coal_India\" title=\"Coal India\">Coal India</a></td>\\n<td>COALINDIA.NS</td>\\n<td>Energy &amp; Mining\\n</td></tr>\\n<tr>\\n<td><a href=\"/wiki/Dr._Reddy%27s_Laboratories\" title=\"Dr. Reddy&#39;s Laboratories\">Dr. Reddy\\'s Laboratories</a></td>\\n<td>DRREDDY.NS</td>\\n<td>Pharmaceuticals\\n</td></tr>\\n<tr>\\n<td><a href=\"/wiki/Eicher_Motors\" title=\"Eicher Motors\">Eicher Motors</a></td>\\n<td>EICHERMOT.NS</td>\\n<td>Automobile\\n</td></tr>\\n<tr>\\n<td><a href=\"/wiki/GAIL\" title=\"GAIL\">GAIL</a></td>\\n<td>GAIL.NS</td>\\n<td>Energy - Oil &amp; Gas\\n</td></tr>\\n<tr>\\n<td><a href=\"/wiki/Grasim_Industries\" title=\"Grasim Industries\">Grasim Industries</a></td>\\n<td>GRASIM.NS</td>\\n<td>Cement\\n</td></tr>\\n<tr>\\n<td><a href=\"/wiki/HCL_Technologies\" title=\"HCL Technologies\">HCL Technologies</a></td>\\n<td>HCLTECH.NS</td>\\n<td>Information Technology\\n</td></tr>\\n<tr>\\n<td><a href=\"/wiki/Housing_Development_Finance_Corporation\" title=\"Housing Development Finance Corporation\">HDFC</a></td>\\n<td>HDFC.NS</td>\\n<td>Financial Services\\n</td></tr>\\n<tr>\\n<td><a href=\"/wiki/HDFC_Bank\" title=\"HDFC Bank\">HDFC Bank</a></td>\\n<td>HDFCBANK.NS</td>\\n<td>Banking\\n</td></tr>\\n<tr>\\n<td><a href=\"/wiki/Hero_MotoCorp\" title=\"Hero MotoCorp\">Hero MotoCorp</a></td>\\n<td>HEROMOTOCO.NS</td>\\n<td>Automobile\\n</td></tr>\\n<tr>\\n<td><a href=\"/wiki/Hindalco_Industries\" title=\"Hindalco Industries\">Hindalco Industries</a></td>\\n<td>HINDALCO.NS</td>\\n<td>Metals\\n</td></tr>\\n<tr>\\n<td><a href=\"/wiki/Hindustan_Unilever\" title=\"Hindustan Unilever\">Hindustan Unilever</a></td>\\n<td>HINDUNILVR.NS</td>\\n<td>Consumer Goods\\n</td></tr>\\n<tr>\\n<td><a href=\"/wiki/ICICI_Bank\" title=\"ICICI Bank\">ICICI Bank</a></td>\\n<td>ICICIBANK.NS</td>\\n<td>Banking\\n</td></tr>\\n<tr>\\n<td><a href=\"/wiki/IndusInd_Bank\" title=\"IndusInd Bank\">IndusInd Bank</a></td>\\n<td>INDUSINDBK.NS</td>\\n<td>Banking\\n</td></tr>\\n<tr>\\n<td><a href=\"/wiki/Infosys\" title=\"Infosys\">Infosys</a></td>\\n<td>INFY.NS</td>\\n<td>Information Technology\\n</td></tr>\\n<tr>\\n<td><a href=\"/wiki/Indian_Oil_Corporation\" title=\"Indian Oil Corporation\">IOC</a></td>\\n<td>IOC.NS</td>\\n<td>Energy - Oil &amp; Gas\\n</td></tr>\\n<tr>\\n<td><a href=\"/wiki/ITC_Limited\" title=\"ITC Limited\">ITC Limited</a></td>\\n<td>ITC.NS</td>\\n<td>Consumer Goods\\n</td></tr>\\n<tr>\\n<td><a href=\"/wiki/JSW_Steel\" class=\"mw-redirect\" title=\"JSW Steel\">JSW Steel</a></td>\\n<td>JSWSTEEL.NS</td>\\n<td>Metals\\n</td></tr>\\n<tr>\\n<td><a href=\"/wiki/Kotak_Mahindra_Bank\" title=\"Kotak Mahindra Bank\">Kotak Mahindra Bank</a></td>\\n<td>KOTAKBANK.NS</td>\\n<td>Banking\\n</td></tr>\\n<tr>\\n<td><a href=\"/wiki/Larsen_%26_Toubro\" title=\"Larsen &amp; Toubro\">Larsen &amp; Toubro</a></td>\\n<td>LT.NS</td>\\n<td>Construction\\n</td></tr>\\n<tr>\\n<td><a href=\"/wiki/Mahindra_%26_Mahindra\" title=\"Mahindra &amp; Mahindra\">Mahindra &amp; Mahindra</a></td>\\n<td>M&amp;M.NS</td>\\n<td>Automobile\\n</td></tr>\\n<tr>\\n<td><a href=\"/wiki/Maruti_Suzuki\" title=\"Maruti Suzuki\">Maruti Suzuki</a></td>\\n<td>MARUTI.NS</td>\\n<td>Automobile\\n</td></tr>\\n<tr>\\n<td><a href=\"/wiki/Nestl%C3%A9\" title=\"Nestlé\">Nestle India</a></td>\\n<td>NESTLEIND.NS</td>\\n<td>Consumer Goods\\n</td></tr>\\n<tr>\\n<td><a href=\"/wiki/NTPC_Limited\" title=\"NTPC Limited\">NTPC</a></td>\\n<td>NTPC.NS</td>\\n<td>Energy - Power\\n</td></tr>\\n<tr>\\n<td><a href=\"/wiki/Oil_and_Natural_Gas_Corporation\" title=\"Oil and Natural Gas Corporation\">ONGC</a></td>\\n<td>ONGC.NS</td>\\n<td>Energy - Oil &amp; Gas\\n</td></tr>\\n<tr>\\n<td><a href=\"/wiki/PowerGrid_Corporation_of_India\" class=\"mw-redirect\" title=\"PowerGrid Corporation of India\">PowerGrid Corporation of India</a></td>\\n<td>POWERGRID.NS</td>\\n<td>Energy - Power\\n</td></tr>\\n<tr>\\n<td><a href=\"/wiki/Reliance_Industries\" class=\"mw-redirect\" title=\"Reliance Industries\">Reliance Industries</a></td>\\n<td>RELIANCE.NS</td>\\n<td>Energy - Oil &amp; Gas\\n</td></tr>\\n<tr>\\n<td><a href=\"/wiki/Shree_Cement\" title=\"Shree Cement\">Shree Cement</a></td>\\n<td>SHREECEM.NS</td>\\n<td>Cement\\n</td></tr>\\n<tr>\\n<td><a href=\"/wiki/State_Bank_of_India\" title=\"State Bank of India\">State Bank of India</a></td>\\n<td>SBIN.NS</td>\\n<td>Banking\\n</td></tr>\\n<tr>\\n<td><a href=\"/wiki/Sun_Pharmaceutical\" title=\"Sun Pharmaceutical\">Sun Pharmaceutical</a></td>\\n<td>SUNPHARMA.NS</td>\\n<td>Pharmaceuticals\\n</td></tr>\\n<tr>\\n<td><a href=\"/wiki/Tata_Consultancy_Services\" title=\"Tata Consultancy Services\">Tata Consultancy Services</a></td>\\n<td>TCS.NS</td>\\n<td>Information Technology\\n</td></tr>\\n<tr>\\n<td><a href=\"/wiki/Tata_Motors\" title=\"Tata Motors\">Tata Motors</a></td>\\n<td>TATAMOTORS.NS</td>\\n<td>Automobile\\n</td></tr>\\n<tr>\\n<td><a href=\"/wiki/Tata_Steel\" title=\"Tata Steel\">Tata Steel</a></td>\\n<td>TATASTEEL.NS</td>\\n<td>Metals\\n</td></tr>\\n<tr>\\n<td><a href=\"/wiki/Tech_Mahindra\" title=\"Tech Mahindra\">Tech Mahindra</a></td>\\n<td>TECHM.NS</td>\\n<td>Information Technology\\n</td></tr>\\n<tr>\\n<td><a href=\"/wiki/Titan_Company\" title=\"Titan Company\">Titan Company</a></td>\\n<td>TITAN.NS</td>\\n<td>Consumer Goods\\n</td></tr>\\n<tr>\\n<td><a href=\"/wiki/UltraTech_Cement\" title=\"UltraTech Cement\">UltraTech Cement</a></td>\\n<td>ULTRACEMCO.NS</td>\\n<td>Cement\\n</td></tr>\\n<tr>\\n<td><a href=\"/wiki/United_Phosphorus_Limited\" class=\"mw-redirect\" title=\"United Phosphorus Limited\">United Phosphorus Limited</a></td>\\n<td>UPL.NS</td>\\n<td>Chemicals\\n</td></tr>\\n<tr>\\n<td><a href=\"/wiki/Vedanta_Resources\" title=\"Vedanta Resources\">Vedanta</a></td>\\n<td>VEDL.NS</td>\\n<td>Metals\\n</td></tr>\\n<tr>\\n<td><a href=\"/wiki/Wipro\" title=\"Wipro\">Wipro</a></td>\\n<td>WIPRO.NS</td>\\n<td>Information Technology\\n</td></tr>\\n<tr>\\n<td><a href=\"/wiki/Zee_Entertainment_Enterprises\" class=\"mw-redirect\" title=\"Zee Entertainment Enterprises\">Zee Entertainment Enterprises</a></td>\\n<td>ZEEL.NS</td>\\n<td>Media &amp; Entertainment\\n</td></tr>\\n</tbody></table>\\n<h2><span class=\"mw-headline\" id=\"Major_single_day_falls\">Major single day falls</span><span class=\"mw-editsection\"><span class=\"mw-editsection-bracket\">[</span><a href=\"/w/index.php?title=NIFTY_50&amp;action=edit&amp;section=2\" title=\"Edit section: Major single day falls\">edit</a><span class=\"mw-editsection-bracket\">]</span></span></h2>\\n<p>Following are some of the notable single-day falls of the NIFTY 50 Index -\\n</p>\\n<table class=\"wikitable\">\\n<caption>\\n</caption>\\n<tbody><tr>\\n<th>Sl. No.\\n</th>\\n<th>Date\\n</th>\\n<th>Fall\\n</th>\\n<th>Reason\\n</th></tr>\\n<tr>\\n<td>1\\n</td>\\n<td>28 October 1997\\n</td>\\n<td>8.01%\\n</td>\\n<td>Investors deserted emerging Asian shares during the <a href=\"/wiki/1997_Asian_financial_crisis\" title=\"1997 Asian financial crisis\">Asian Financial Crisis</a>. Crashes also occurred in Thailand, Indonesia, South Korea, Philippines,\\n</td></tr>\\n<tr>\\n<td>2\\n</td>\\n<td>21 January 2008\\n</td>\\n<td>10%\\n</td>\\n<td>Due to the US <a href=\"/wiki/Subprime_mortgage_crisis\" title=\"Subprime mortgage crisis\">Subprime Mortgage Crisis</a>.\\n</td></tr>\\n<tr>\\n<td>3\\n</td>\\n<td>16 August 2013\\n</td>\\n<td>4.08% (234.45 Points)\\n</td>\\n<td>Due to depreciation of the Indian Rupee<sup id=\"cite_ref-12\" class=\"reference\"><a href=\"#cite_note-12\">&#91;12&#93;</a></sup><sup id=\"cite_ref-13\" class=\"reference\"><a href=\"#cite_note-13\">&#91;13&#93;</a></sup>.\\n</td></tr>\\n<tr>\\n<td>4\\n</td>\\n<td>24 August 2015\\n</td>\\n<td>5.92% (490.95 Points)\\n</td>\\n<td>Driven by the <a href=\"/wiki/2015%E2%80%9316_Chinese_stock_market_turbulence\" title=\"2015–16 Chinese stock market turbulence\">meltdown in the Chinese Stock market</a>.<sup id=\"cite_ref-14\" class=\"reference\"><a href=\"#cite_note-14\">&#91;14&#93;</a></sup>\\n</td></tr>\\n<tr>\\n<td>5\\n</td>\\n<td>24 June 2016\\n</td>\\n<td>181.5 Points\\n</td>\\n<td>Driven by the <a href=\"/wiki/Brexit\" title=\"Brexit\">Brexit</a> Referendum.<sup id=\"cite_ref-15\" class=\"reference\"><a href=\"#cite_note-15\">&#91;15&#93;</a></sup>\\n</td></tr>\\n<tr>\\n<td>6\\n</td>\\n<td>11 November 2016\\n</td>\\n<td>229.45 Points\\n</td>\\n<td>Driven by the <a href=\"/wiki/2016_Indian_banknote_demonetisation\" title=\"2016 Indian banknote demonetisation\">Demonetization</a> move by the Indian Government and the <a href=\"/wiki/2016_United_States_presidential_election\" title=\"2016 United States presidential election\">2016 US Election Results</a>.<sup id=\"cite_ref-16\" class=\"reference\"><a href=\"#cite_note-16\">&#91;16&#93;</a></sup>\\n</td></tr>\\n<tr>\\n<td>7\\n</td>\\n<td>2 February 2018\\n</td>\\n<td>256.30 Points\\n</td>\\n<td>Driven by the <a href=\"/wiki/2018_Union_budget_of_India\" title=\"2018 Union budget of India\">2018 Union budget of India</a> and Global breakdown.\\n</td></tr>\\n<tr>\\n<td>8\\n</td>\\n<td>24 September 2018\\n</td>\\n<td>175.55 Points\\n</td>\\n<td>Panic Fall, wherein in the last trading session (21 September 2018) there were rumors of Fraud by Housing Loan companies\\n</td></tr>\\n<tr>\\n<td>9\\n</td>\\n<td>4 October 2018\\n</td>\\n<td>303.20 Points\\n</td>\\n<td>Panic Fall, due to Oil price Increase and rupee fall against US Dollar.\\n</td></tr>\\n<tr>\\n<td>10\\n</td>\\n<td>5 October 2018\\n</td>\\n<td>282.80 Points\\n</td>\\n<td>Panic Fall, due to Oil price Increase and rupee fall against US Dollar.\\n</td></tr>\\n<tr>\\n<td>11\\n</td>\\n<td>5 July 2019\\n</td>\\n<td>132.80 Points\\n</td>\\n<td>Due to Union Budget FY 2019.\\n</td></tr>\\n<tr>\\n<td>12\\n</td>\\n<td>8 July 2019\\n</td>\\n<td>252.55 Points\\n</td>\\n<td>Due to Union Budget FY 2019. (Downfall Continues)\\n</td></tr>\\n<tr>\\n<td>13\\n</td>\\n<td>22 Aug 2019\\n</td>\\n<td>177.35 Points\\n</td>\\n<td>\\n</td></tr>\\n<tr>\\n<td>14\\n</td>\\n<td>03 Sep 2019\\n</td>\\n<td>246.75 points\\n</td>\\n<td>Due to Multiple PSU Bank Merger Announcements\\n</td></tr>\\n<tr>\\n<td>15\\n</td>\\n<td>17 Sep 2019\\n</td>\\n<td>177.70 points\\n</td>\\n<td>\\n</td></tr>\\n<tr>\\n<td>16\\n</td>\\n<td>1 February 2020\\n</td>\\n<td>373.95 points (3.11%)\\n</td>\\n<td>Driven by the <a href=\"/wiki/2020_Union_budget_of_India\" title=\"2020 Union budget of India\">Union Budget FY 2020</a> and <a href=\"/wiki/2019%E2%80%9320_coronavirus_pandemic\" class=\"mw-redirect\" title=\"2019–20 coronavirus pandemic\">coronavirus pandemic</a> which saw global breakdown a day before Budget.<sup id=\"cite_ref-17\" class=\"reference\"><a href=\"#cite_note-17\">&#91;17&#93;</a></sup>\\n</td>\\n<td>\\n</td></tr>\\n<tr>\\n<td>17\\n</td>\\n<td>9 March 2020\\n</td>\\n<td>538.00 points (4.90%)\\n</td>\\n<td>Driven by the impact of <a href=\"/wiki/Coronavirus_disease_2019\" title=\"Coronavirus disease 2019\">Coronavirus disease 2019</a>\\n</td></tr>\\n<tr>\\n<td>18\\n</td>\\n<td>12 March 2020\\n</td>\\n<td>868.25 points (8.30%)\\n</td>\\n<td>Driven by the impact of <a href=\"/wiki/Coronavirus_disease_2019\" title=\"Coronavirus disease 2019\">Coronavirus disease 2019</a> after <a href=\"/wiki/WHO\" class=\"mw-redirect\" title=\"WHO\">WHO</a> declared it a <a href=\"/wiki/Pandemic\" title=\"Pandemic\">Pandemic</a>\\n</td></tr>\\n<tr>\\n<td>19\\n</td>\\n<td>16 March 2020\\n</td>\\n<td>757.80 points (7.61%)\\n</td>\\n<td>Driven by the impact of <a href=\"/wiki/Coronavirus_disease_2019\" title=\"Coronavirus disease 2019\">Coronavirus disease 2019</a>\\n</td></tr>\\n<tr>\\n<td>20\\n</td>\\n<td>23 March 2020\\n</td>\\n<td>1135.20 points (12.98%)\\n</td>\\n<td>Driven by the impact of <a href=\"/wiki/Coronavirus_disease_2019\" title=\"Coronavirus disease 2019\">Coronavirus disease 2019</a>\\n</td></tr></tbody></table>\\n<h2><span class=\"mw-headline\" id=\"Major_single_day_gains\">Major single day gains</span><span class=\"mw-editsection\"><span class=\"mw-editsection-bracket\">[</span><a href=\"/w/index.php?title=NIFTY_50&amp;action=edit&amp;section=3\" title=\"Edit section: Major single day gains\">edit</a><span class=\"mw-editsection-bracket\">]</span></span></h2>\\n<p>Following are some of the notable single-day gains of the NIFTY 50 Index -\\n</p>\\n<table class=\"wikitable\">\\n<caption>\\n</caption>\\n<tbody><tr>\\n<th>Sl. No.\\n</th>\\n<th>Date\\n</th>\\n<th>High\\n</th>\\n<th>Probable Reason\\n</th></tr>\\n<tr>\\n<td>1\\n</td>\\n<td>20 May 2019\\n</td>\\n<td>3.69&#160;% (421.10 points)\\n</td>\\n<td>Exit Polls of 2019 General elections predict clear majority for <a href=\"/wiki/Bharatiya_Janata_Party\" title=\"Bharatiya Janata Party\">BJP</a> government.\\n</td></tr>\\n\\n<tr>\\n<td>2\\n</td>\\n<td>23 May 2019\\n</td>\\n<td>2.49&#160;% (300.90 points)\\n</td>\\n<td>Results of the 2019 General Elections in which <a href=\"/wiki/Bharatiya_Janata_Party\" title=\"Bharatiya Janata Party\">BJP</a> led <a href=\"/wiki/National_Democratic_Alliance_(India)\" class=\"mw-redirect\" title=\"National Democratic Alliance (India)\">NDA</a> alliance wins.\\n</td></tr>\\n<tr>\\n<td>3\\n</td>\\n<td>08 Aug 2019\\n</td>\\n<td>1.63% (176.95 point<span id=\"arrow_class\" class=\"green_arw\"></span>s)\\n</td>\\n<td>FPI surcharge <a rel=\"nofollow\" class=\"external text\" href=\"https://www.moneycontrol.com/news/business/markets/market-live-sgx-nifty-hcl-technologies-bse-nse-nifty-sensex-tata-steel-cipla-fpi-4306301.html\">rollback</a>\\n</td></tr>\\n<tr>\\n<td>4\\n</td>\\n<td>26 Aug 2019\\n</td>\\n<td>2.16% (234.45 points)\\n</td>\\n<td>Relief measures, likely US-China trade talks begin.<a rel=\"nofollow\" class=\"external autonumber\" href=\"https://www.moneycontrol.com/news/business/markets/market-live-nifty-sensex-tata-steel-psu-bank-lt-metal-4370471.html\">[2]</a>\\n</td></tr>\\n<tr>\\n<td>5\\n</td>\\n<td>20 Sep 2019\\n</td>\\n<td><b>6.12%</b> ( <b>655.45 points)</b>\\n</td>\\n<td>Indian FM announced a cut in the corporate tax rate for domestic companies and new domestic manufacturing <a rel=\"nofollow\" class=\"external text\" href=\"https://www.moneycontrol.com/news/india/nirmala-sitharaman-press-conference-live-updates-economic-slowdown-gst-council-meeting-gst-rate-cut-economic-boost-hotel-outdoor-catering-loan-rates-auto-sector-finance-minister-nirmala-sitharaman-lat-4456871.html\">companies</a>\\n</td></tr>\\n<tr>\\n<td>6\\n</td>\\n<td>23 Sep 2019\\n</td>\\n<td>3.73% (420.65 points )\\n</td>\\n<td>Corporate tax cut following effect\\n</td></tr></tbody></table>\\n<p>|-\\n|7\\n|07 April 2020\\n|708.40 (8.76%)\\n|Italy Coronavirus Nos went down \\n|}\\n</p>\\n<h2><span class=\"mw-headline\" id=\"Annual_Returns\">Annual Returns</span><span class=\"mw-editsection\"><span class=\"mw-editsection-bracket\">[</span><a href=\"/w/index.php?title=NIFTY_50&amp;action=edit&amp;section=4\" title=\"Edit section: Annual Returns\">edit</a><span class=\"mw-editsection-bracket\">]</span></span></h2>\\n<p>The following table shows the annual development of the NIFTY 50 since 2000.<sup id=\"cite_ref-18\" class=\"reference\"><a href=\"#cite_note-18\">&#91;18&#93;</a></sup>\\n</p>\\n<table class=\"wikitable sortable\" style=\"text-align:right;\">\\n<tbody><tr>\\n<th>Year\\n</th>\\n<th>Closing level\\n</th>\\n<th>Change in Index<br />in Points\\n</th>\\n<th>Change in Index<br />in&#160;%\\n</th></tr>\\n<tr>\\n<td>2000\\n</td>\\n<td>1,263.55\\n</td>\\n<td>\\n</td>\\n<td>\\n</td></tr>\\n<tr>\\n<td>2001\\n</td>\\n<td>1,059.05\\n</td>\\n<td>−204.50\\n</td>\\n<td>−13.94\\n</td></tr>\\n<tr>\\n<td>2002\\n</td>\\n<td>1,093.50\\n</td>\\n<td>34.45\\n</td>\\n<td>3.25\\n</td></tr>\\n<tr>\\n<td>2003\\n</td>\\n<td>1,879.75\\n</td>\\n<td>786.25\\n</td>\\n<td>71.90\\n</td></tr>\\n<tr>\\n<td>2004\\n</td>\\n<td>2,080.50\\n</td>\\n<td>200.75\\n</td>\\n<td>10.68\\n</td></tr>\\n<tr>\\n<td>2005\\n</td>\\n<td>2,836.55\\n</td>\\n<td>756.05\\n</td>\\n<td>36.34\\n</td></tr>\\n<tr>\\n<td>2006\\n</td>\\n<td>3,966.40\\n</td>\\n<td>1,129.85\\n</td>\\n<td>39.83\\n</td></tr>\\n<tr>\\n<td>2007\\n</td>\\n<td>6,138.60\\n</td>\\n<td>2,172.20\\n</td>\\n<td>54.77\\n</td></tr>\\n<tr>\\n<td>2008\\n</td>\\n<td>2,959.15\\n</td>\\n<td>−3,179.45\\n</td>\\n<td>−51.79\\n</td></tr>\\n<tr>\\n<td>2009\\n</td>\\n<td>5,201.05\\n</td>\\n<td>2,241.90\\n</td>\\n<td>75.76\\n</td></tr>\\n<tr>\\n<td>2010\\n</td>\\n<td>6,134.50\\n</td>\\n<td>933.45\\n</td>\\n<td>17.95\\n</td></tr>\\n<tr>\\n<td>2011\\n</td>\\n<td>4,624.30\\n</td>\\n<td>−1,510.20\\n</td>\\n<td>−24.62\\n</td></tr>\\n<tr>\\n<td>2012\\n</td>\\n<td>5,905.10\\n</td>\\n<td>1,280.80\\n</td>\\n<td>27.70\\n</td></tr>\\n<tr>\\n<td>2013\\n</td>\\n<td>6,304.00\\n</td>\\n<td>398.90\\n</td>\\n<td>6.76\\n</td></tr>\\n<tr>\\n<td>2014\\n</td>\\n<td>8,282.70\\n</td>\\n<td>1,978.70\\n</td>\\n<td>31.39\\n</td></tr>\\n<tr>\\n<td>2015\\n</td>\\n<td>7,964.35\\n</td>\\n<td>−318.35\\n</td>\\n<td>−3.84\\n</td></tr>\\n<tr>\\n<td>2016\\n</td>\\n<td>8,185.80\\n</td>\\n<td>239.45\\n</td>\\n<td>3.01\\n</td></tr>\\n<tr>\\n<td>2017\\n</td>\\n<td>10,530.70\\n</td>\\n<td>2,344.90\\n</td>\\n<td>28.65\\n</td></tr>\\n<tr>\\n<td>2018\\n</td>\\n<td>10,862.55\\n</td>\\n<td>331.85\\n</td>\\n<td>3.15\\n</td></tr>\\n<tr>\\n<td>2019\\n</td>\\n<td>12,168.45\\n</td>\\n<td>1,305.90\\n</td>\\n<td>12.02\\n</td></tr>\\n</tbody></table>\\n<h2><span class=\"mw-headline\" id=\"All_time_highs\">All time highs</span><span class=\"mw-editsection\"><span class=\"mw-editsection-bracket\">[</span><a href=\"/w/index.php?title=NIFTY_50&amp;action=edit&amp;section=5\" title=\"Edit section: All time highs\">edit</a><span class=\"mw-editsection-bracket\">]</span></span></h2>\\n<ul><li>All time Closing high was 12,355.50 on 16 January 2020.</li></ul>\\n<ul><li>All Time Intraday high was 12,389.05 on 16 January 2020.</li></ul>\\n<h2><span class=\"mw-headline\" id=\"Derivatives\">Derivatives</span><span class=\"mw-editsection\"><span class=\"mw-editsection-bracket\">[</span><a href=\"/w/index.php?title=NIFTY_50&amp;action=edit&amp;section=6\" title=\"Edit section: Derivatives\">edit</a><span class=\"mw-editsection-bracket\">]</span></span></h2>\\n<p>Trading in <a href=\"/wiki/Call_option\" title=\"Call option\">call</a> and <a href=\"/wiki/Put_option\" title=\"Put option\">put</a> options on the Nifty 50 are offered by the NSE.<sup id=\"cite_ref-19\" class=\"reference\"><a href=\"#cite_note-19\">&#91;19&#93;</a></sup>\\n</p>\\n<h2><span class=\"mw-headline\" id=\"NIFTY_Next_50\">NIFTY Next 50</span><span class=\"mw-editsection\"><span class=\"mw-editsection-bracket\">[</span><a href=\"/w/index.php?title=NIFTY_50&amp;action=edit&amp;section=7\" title=\"Edit section: NIFTY Next 50\">edit</a><span class=\"mw-editsection-bracket\">]</span></span></h2>\\n<p>NIFTY Next 50, also called NIFTY Junior, is an index of 50 companies whose free float market capitalization comes after that of the companies in NIFTY 50. NIFTY Next 50 constituents are thus potential candidates for future inclusion in NIFTY 50.<sup id=\"cite_ref-20\" class=\"reference\"><a href=\"#cite_note-20\">&#91;20&#93;</a></sup>\\n</p>\\n<dl><dt>Components</dt></dl>\\n<table class=\"wikitable sortable\" id=\"constituents\" style=\"font-size:85%\">\\n\\n<tbody><tr>\\n<th>Company Name</th>\\n<th>Symbol</th>\\n<th>Sector\\n</th></tr>\\n<tr>\\n<td><a href=\"/wiki/ACC_(company)\" title=\"ACC (company)\">ACC</a></td>\\n<td>ACC</td>\\n<td>Cement\\n</td></tr>\\n<tr>\\n<td><a href=\"/w/index.php?title=Adani_Transmission&amp;action=edit&amp;redlink=1\" class=\"new\" title=\"Adani Transmission (page does not exist)\">Adani Transmission</a></td>\\n<td>ADANITRANS</td>\\n<td>Energy - Power\\n</td></tr>\\n<tr>\\n<td><a href=\"/wiki/Ambuja_Cements\" title=\"Ambuja Cements\">Ambuja Cements</a></td>\\n<td>AMBUJACEM</td>\\n<td>Cement\\n</td></tr>\\n<tr>\\n<td><a href=\"/wiki/Ashok_Leyland\" title=\"Ashok Leyland\">Ashok Leyland</a></td>\\n<td>ASHOKLEY</td>\\n<td>Automobile\\n</td></tr>\\n<tr>\\n<td><a href=\"/wiki/Aurobindo_Pharma\" title=\"Aurobindo Pharma\">Aurobindo Pharma</a></td>\\n<td>AUROPHARMA</td>\\n<td>Pharmaceuticals\\n</td></tr>\\n<tr>\\n<td><a href=\"/wiki/D-Mart\" class=\"mw-redirect\" title=\"D-Mart\">Avenue Supermarts</a></td>\\n<td>DMART</td>\\n<td>Consumer Goods\\n</td></tr>\\n<tr>\\n<td><a href=\"/w/index.php?title=Bajaj_Holdings&amp;action=edit&amp;redlink=1\" class=\"new\" title=\"Bajaj Holdings (page does not exist)\">Bajaj Holdings</a></td>\\n<td>BAJAJHLDNG</td>\\n<td>Financial Services\\n</td></tr>\\n<tr>\\n<td><a href=\"/wiki/Bandhan_Bank\" title=\"Bandhan Bank\">Bandhan Bank</a></td>\\n<td>BANDHANBNK</td>\\n<td>Banking\\n</td></tr>\\n<tr>\\n<td><a href=\"/wiki/Bank_of_Baroda\" title=\"Bank of Baroda\">Bank of Baroda</a></td>\\n<td>BANKBARODA</td>\\n<td>Banking\\n</td></tr>\\n<tr>\\n<td><a href=\"/wiki/Berger_Paints\" title=\"Berger Paints\">Berger Paints</a></td>\\n<td>BERGEPAINT</td>\\n<td>Consumer Goods\\n</td></tr>\\n<tr>\\n<td><a href=\"/wiki/Biocon\" title=\"Biocon\">Biocon</a></td>\\n<td>BIOCON</td>\\n<td>Pharmaceuticals\\n</td></tr>\\n<tr>\\n<td><a href=\"/wiki/Robert_Bosch_GmbH\" title=\"Robert Bosch GmbH\">Bosch</a></td>\\n<td>BOSCHLTD</td>\\n<td>Automobile\\n</td></tr>\\n<tr>\\n<td><a href=\"/wiki/Cadila_Healthcare\" title=\"Cadila Healthcare\">Cadila Healthcare</a></td>\\n<td>CADILAHC</td>\\n<td>Pharmaceuticals\\n</td></tr>\\n<tr>\\n<td><a href=\"/wiki/Colgate-Palmolive\" title=\"Colgate-Palmolive\">Colgate-Palmolive</a></td>\\n<td>COLPAL</td>\\n<td>Consumer Goods\\n</td></tr>\\n<tr>\\n<td><a href=\"/wiki/Container_Corporation_of_India\" title=\"Container Corporation of India\">Container Corporation of India</a></td>\\n<td>CONCOR</td>\\n<td>Services - Transport &amp; Logistics\\n</td></tr>\\n<tr>\\n<td><a href=\"/wiki/Dabur\" title=\"Dabur\">Dabur</a></td>\\n<td>DABUR</td>\\n<td>Consumer Goods\\n</td></tr>\\n<tr>\\n<td><a href=\"/w/index.php?title=Divi%27s_Laboratories&amp;action=edit&amp;redlink=1\" class=\"new\" title=\"Divi&#39;s Laboratories (page does not exist)\">Divi\\'s Laboratories</a></td>\\n<td>DIVISLAB</td>\\n<td>Pharmaceuticals\\n</td></tr>\\n<tr>\\n<td><a href=\"/wiki/DLF_(company)\" title=\"DLF (company)\">DLF</a></td>\\n<td>DLF</td>\\n<td>Construction\\n</td></tr>\\n<tr>\\n<td><a href=\"/wiki/General_Insurance_Corporation_of_India\" title=\"General Insurance Corporation of India\">General Insurance Corporation of India</a></td>\\n<td>GICRE</td>\\n<td>Financial Services\\n</td></tr>\\n<tr>\\n<td><a href=\"/wiki/Godrej_Consumer_Products_Limited\" title=\"Godrej Consumer Products Limited\">Godrej Consumer Products Limited</a></td>\\n<td>GODREJCP</td>\\n<td>Consumer Goods\\n</td></tr>\\n<tr>\\n<td><a href=\"/wiki/Havells\" title=\"Havells\">Havells</a></td>\\n<td>HAVELLS</td>\\n<td>Consumer Goods\\n</td></tr>\\n<tr>\\n<td><a href=\"/w/index.php?title=HDFC_AMC&amp;action=edit&amp;redlink=1\" class=\"new\" title=\"HDFC AMC (page does not exist)\">HDFC AMC</a></td>\\n<td>HDFCAMC</td>\\n<td>Financial Services\\n</td></tr>\\n<tr>\\n<td><a href=\"/wiki/HDFC_Standard_Life_Insurance\" class=\"mw-redirect\" title=\"HDFC Standard Life Insurance\">HDFC Standard Life Insurance</a></td>\\n<td>HDFCLIFE</td>\\n<td>Financial Services\\n</td></tr>\\n<tr>\\n<td><a href=\"/wiki/Hindustan_Petroleum\" title=\"Hindustan Petroleum\">Hindustan Petroleum</a></td>\\n<td>HINDPETRO</td>\\n<td>Energy - Oil &amp; Gas\\n</td></tr>\\n<tr>\\n<td><a href=\"/wiki/Hindustan_Zinc\" title=\"Hindustan Zinc\">Hindustan Zinc</a></td>\\n<td>HINDZINC</td>\\n<td>Metals\\n</td></tr>\\n<tr>\\n<td><a href=\"/wiki/ICICI_Lombard\" title=\"ICICI Lombard\">ICICI Lombard General Insurance</a></td>\\n<td>ICICIGI</td>\\n<td>Financial Services\\n</td></tr>\\n<tr>\\n<td><a href=\"/w/index.php?title=ICICI_Prudential_Life_Insurance&amp;action=edit&amp;redlink=1\" class=\"new\" title=\"ICICI Prudential Life Insurance (page does not exist)\">ICICI Prudential Life Insurance</a></td>\\n<td>ICICIPRULI</td>\\n<td>Financial Services\\n</td></tr>\\n<tr>\\n<td><a href=\"/wiki/Indiabulls_Housing_Finance\" title=\"Indiabulls Housing Finance\">Indiabulls Housing Finance</a></td>\\n<td>IBULHSGFIN</td>\\n<td>Financial Services\\n</td></tr>\\n<tr>\\n<td><a href=\"/wiki/IndiGo\" title=\"IndiGo\">Interglobe Aviation</a></td>\\n<td>INDIGO</td>\\n<td>Services - Transport &amp; Logistics\\n</td></tr>\\n<tr>\\n<td><a href=\"/w/index.php?title=L%26T_Finance&amp;action=edit&amp;redlink=1\" class=\"new\" title=\"L&amp;T Finance (page does not exist)\">L&amp;T Finance</a></td>\\n<td>L&amp;TFH</td>\\n<td>Financial Services\\n</td></tr>\\n<tr>\\n<td><a href=\"/wiki/Lupin_Limited\" title=\"Lupin Limited\">Lupin</a></td>\\n<td>LUPIN</td>\\n<td>Pharmaceuticals\\n</td></tr>\\n<tr>\\n<td><a href=\"/wiki/Marico\" title=\"Marico\">Marico</a></td>\\n<td>MARICO</td>\\n<td>Consumer Goods\\n</td></tr>\\n<tr>\\n<td><a href=\"/wiki/Motherson_Sumi_Systems\" title=\"Motherson Sumi Systems\">Motherson Sumi Systems</a></td>\\n<td>MOTHERSUMI</td>\\n<td>Automobile\\n</td></tr>\\n<tr>\\n<td><a href=\"/wiki/NHPC_Limited\" title=\"NHPC Limited\">NHPC Limited</a></td>\\n<td>NHPC</td>\\n<td>Energy - Power\\n</td></tr>\\n<tr>\\n<td><a href=\"/wiki/National_Mineral_Development_Corporation\" title=\"National Mineral Development Corporation\">NMDC</a></td>\\n<td>NMDC</td>\\n<td>Metals\\n</td></tr>\\n<tr>\\n<td><a href=\"/wiki/New_India_Assurance\" title=\"New India Assurance\">New India Assurance</a></td>\\n<td>NIACL</td>\\n<td>Financial Services\\n</td></tr>\\n<tr>\\n<td><a href=\"/wiki/Oracle_Financial_Services_Software\" title=\"Oracle Financial Services Software\">Oracle Financial Services Software</a></td>\\n<td>OFSS</td>\\n<td>Information Technology\\n</td></tr>\\n<tr>\\n<td><a href=\"/wiki/Page_Industries\" title=\"Page Industries\">Page Industries</a></td>\\n<td>PAGEIND</td>\\n<td>Textiles\\n</td></tr>\\n<tr>\\n<td><a href=\"/wiki/Petronet_LNG\" title=\"Petronet LNG\">Petronet LNG</a></td>\\n<td>PETRONET</td>\\n<td>Energy - Oil &amp; Gas\\n</td></tr>\\n<tr>\\n<td><a href=\"/wiki/Pidilite_Industries\" title=\"Pidilite Industries\">Pidilite Industries</a></td>\\n<td>PIDILITIND</td>\\n<td>Chemicals\\n</td></tr>\\n<tr>\\n<td><a href=\"/wiki/Piramal_Enterprises\" class=\"mw-redirect\" title=\"Piramal Enterprises\">Piramal Enterprises</a></td>\\n<td>PEL</td>\\n<td>Pharmaceuticals\\n</td></tr>\\n<tr>\\n<td><a href=\"/wiki/Power_Finance_Corporation\" title=\"Power Finance Corporation\">Power Finance Corporation</a></td>\\n<td>PFC</td>\\n<td>Financial Services\\n</td></tr>\\n<tr>\\n<td><a href=\"/wiki/Procter_%26_Gamble\" title=\"Procter &amp; Gamble\">Procter &amp; Gamble</a></td>\\n<td>PGHH</td>\\n<td>Consumer Goods\\n</td></tr>\\n<tr>\\n<td><a href=\"/wiki/Punjab_National_Bank\" title=\"Punjab National Bank\">Punjab National Bank</a></td>\\n<td>PNB</td>\\n<td>Banking\\n</td></tr>\\n<tr>\\n<td><a href=\"/wiki/SBI_Life_Insurance_Company\" title=\"SBI Life Insurance Company\">SBI Life Insurance Company</a></td>\\n<td>SBILIFE</td>\\n<td>Financial Services\\n</td></tr>\\n<tr>\\n<td><a href=\"/wiki/Shriram_Transport_Finance\" class=\"mw-redirect\" title=\"Shriram Transport Finance\">Shriram Transport Finance</a></td>\\n<td>SRTRANSFIN</td>\\n<td>Financial Services\\n</td></tr>\\n<tr>\\n<td><a href=\"/wiki/Siemens\" title=\"Siemens\">Siemens</a></td>\\n<td>SIEMENS</td>\\n<td>Industrial Manufacturing\\n</td></tr>\\n<tr>\\n<td><a href=\"/wiki/United_Breweries\" class=\"mw-redirect\" title=\"United Breweries\">United Breweries</a></td>\\n<td>UBL</td>\\n<td>Consumer Goods\\n</td></tr>\\n<tr>\\n<td><a href=\"/wiki/United_Spirits\" title=\"United Spirits\">United Spirits</a></td>\\n<td>MCDOWELL-N</td>\\n<td>Consumer Goods\\n</td></tr>\\n<tr>\\n<td><a href=\"/wiki/Vodafone_Idea\" title=\"Vodafone Idea\">Vodafone Idea</a></td>\\n<td>IDEA</td>\\n<td>Telecommunication\\n</td></tr>\\n</tbody></table>\\n<h2><span class=\"mw-headline\" id=\"NIFTY_sectoral_indices\">NIFTY sectoral indices</span><span class=\"mw-editsection\"><span class=\"mw-editsection-bracket\">[</span><a href=\"/w/index.php?title=NIFTY_50&amp;action=edit&amp;section=8\" title=\"Edit section: NIFTY sectoral indices\">edit</a><span class=\"mw-editsection-bracket\">]</span></span></h2>\\n<table class=\"wikitable sortable\" id=\"constituents\" style=\"font-size:85%\">\\n\\n<tbody><tr>\\n<th>Index<sup id=\"cite_ref-21\" class=\"reference\"><a href=\"#cite_note-21\">&#91;21&#93;</a></sup></th>\\n<th>Components\\n</th></tr>\\n<tr>\\n<td>NIFTY Auto</td>\\n<td><a href=\"/w/index.php?title=Amara_Raja_Batteries&amp;action=edit&amp;redlink=1\" class=\"new\" title=\"Amara Raja Batteries (page does not exist)\">Amara Raja Batteries</a>, <a href=\"/wiki/Apollo_Tyres\" title=\"Apollo Tyres\">Apollo Tyres</a>, <a href=\"/wiki/Ashok_Leyland\" title=\"Ashok Leyland\">Ashok Leyland</a>, <a href=\"/wiki/Bajaj_Auto\" title=\"Bajaj Auto\">Bajaj Auto</a>, <a href=\"/wiki/Bharat_Forge\" title=\"Bharat Forge\">Bharat Forge</a>, <a href=\"/wiki/Robert_Bosch_GmbH\" title=\"Robert Bosch GmbH\">Bosch</a>, <a href=\"/wiki/Eicher_Motors\" title=\"Eicher Motors\">Eicher Motors</a>, <a href=\"/wiki/Exide\" title=\"Exide\">Exide</a>, <a href=\"/wiki/Hero_Motocorp\" class=\"mw-redirect\" title=\"Hero Motocorp\">Hero Motocorp</a>, <a href=\"/wiki/Mahindra_%26_Mahindra\" title=\"Mahindra &amp; Mahindra\">Mahindra &amp; Mahindra</a>, <a href=\"/wiki/Maruti_Suzuki\" title=\"Maruti Suzuki\">Maruti Suzuki</a>, <a href=\"/wiki/Motherson_Sumi_Systems\" title=\"Motherson Sumi Systems\">Motherson Sumi Systems</a>, <a href=\"/wiki/MRF_(company)\" title=\"MRF (company)\">MRF</a>, <a href=\"/wiki/Tata_Motors\" title=\"Tata Motors\">Tata Motors</a>, <a href=\"/wiki/TVS_Motors\" class=\"mw-redirect\" title=\"TVS Motors\">TVS Motors</a>\\n</td></tr>\\n<tr>\\n<td>NIFTY Bank</td>\\n<td><a href=\"/wiki/Axis_Bank\" title=\"Axis Bank\">Axis Bank</a>, <a href=\"/wiki/Bandhan_Bank\" title=\"Bandhan Bank\">Bandhan Bank</a>, <a href=\"/wiki/Bank_of_Baroda\" title=\"Bank of Baroda\">Bank of Baroda</a>, <a href=\"/wiki/Federal_Bank\" title=\"Federal Bank\">Federal Bank</a>, <a href=\"/wiki/HDFC_Bank\" title=\"HDFC Bank\">HDFC Bank</a>, <a href=\"/wiki/ICICI_Bank\" title=\"ICICI Bank\">ICICI Bank</a>, <a href=\"/wiki/IDFC_First_Bank\" title=\"IDFC First Bank\">IDFC First Bank</a>, <a href=\"/wiki/IndusInd_Bank\" title=\"IndusInd Bank\">IndusInd Bank</a>, <a href=\"/wiki/Kotak_Mahindra_Bank\" title=\"Kotak Mahindra Bank\">Kotak Mahindra Bank</a>, <a href=\"/wiki/Punjab_National_Bank\" title=\"Punjab National Bank\">Punjab National Bank</a>, <a href=\"/wiki/RBL_Bank\" title=\"RBL Bank\">RBL Bank</a>, <a href=\"/wiki/State_Bank_of_India\" title=\"State Bank of India\">State Bank of India</a>\\n</td></tr>\\n<tr>\\n<td>NIFTY Consumer Durables</td>\\n<td><a href=\"/wiki/Bajaj_Electricals\" title=\"Bajaj Electricals\">Bajaj Electricals</a>, <a href=\"/wiki/Bata_(company)\" title=\"Bata (company)\">Bata</a>, <a href=\"/wiki/Blue_Star_(company)\" title=\"Blue Star (company)\">Blue Star</a>, <a href=\"/wiki/Crompton_Greaves\" class=\"mw-redirect\" title=\"Crompton Greaves\">Crompton Greaves</a>, <a href=\"/wiki/Havells\" title=\"Havells\">Havells</a>, <a href=\"/wiki/Orient_Electric\" title=\"Orient Electric\">Orient Electric</a>, <a href=\"/wiki/Rajesh_Exports\" title=\"Rajesh Exports\">Rajesh Exports</a>, <a href=\"/w/index.php?title=Relaxo&amp;action=edit&amp;redlink=1\" class=\"new\" title=\"Relaxo (page does not exist)\">Relaxo</a>, <a href=\"/w/index.php?title=Symphony_(company)&amp;action=edit&amp;redlink=1\" class=\"new\" title=\"Symphony (company) (page does not exist)\">Symphony</a>, <a href=\"/wiki/Titan_Company\" title=\"Titan Company\">Titan Company</a>, <a href=\"/wiki/TTK_Prestige\" title=\"TTK Prestige\">TTK Prestige</a>, <a href=\"/wiki/V-Guard\" class=\"mw-redirect\" title=\"V-Guard\">V-Guard</a>, <a href=\"/wiki/VIP_Industries\" title=\"VIP Industries\">VIP Industries</a>, <a href=\"/wiki/Voltas\" title=\"Voltas\">Voltas</a>, <a href=\"/wiki/Whirlpool_Corporation\" title=\"Whirlpool Corporation\">Whirlpool</a>\\n</td></tr>\\n<tr>\\n<td>NIFTY Financial Services</td>\\n<td><a href=\"/wiki/Axis_Bank\" title=\"Axis Bank\">Axis Bank</a>, <a href=\"/wiki/Bajaj_Finance\" title=\"Bajaj Finance\">Bajaj Finance</a>, <a href=\"/wiki/Bajaj_Finserv\" title=\"Bajaj Finserv\">Bajaj Finserv</a>, <a href=\"/w/index.php?title=Bajaj_Holdings&amp;action=edit&amp;redlink=1\" class=\"new\" title=\"Bajaj Holdings (page does not exist)\">Bajaj Holdings</a>, <a href=\"/wiki/Cholamandalam_Investment_and_Finance_Company\" title=\"Cholamandalam Investment and Finance Company\">Cholamandalam</a>, <a href=\"/wiki/Edelweiss_Group\" title=\"Edelweiss Group\">Edelweiss</a>, <a href=\"/wiki/Housing_Development_Finance_Corporation\" title=\"Housing Development Finance Corporation\">HDFC</a>, <a href=\"/wiki/HDFC_Bank\" title=\"HDFC Bank\">HDFC Bank</a>, <a href=\"/wiki/HDFC_Life\" title=\"HDFC Life\">HDFC Life</a>, <a href=\"/wiki/ICICI_Bank\" title=\"ICICI Bank\">ICICI Bank</a>, <a href=\"/wiki/ICICI_Lombard\" title=\"ICICI Lombard\">ICICI Lombard</a>, <a href=\"/w/index.php?title=ICICI_Prudential&amp;action=edit&amp;redlink=1\" class=\"new\" title=\"ICICI Prudential (page does not exist)\">ICICI Prudential</a>, <a href=\"/wiki/Indiabulls_Housing_Finance\" title=\"Indiabulls Housing Finance\">Indiabulls Housing Finance</a>, <a href=\"/wiki/Kotak_Mahindra_Bank\" title=\"Kotak Mahindra Bank\">Kotak Mahindra Bank</a>, <a href=\"/w/index.php?title=M%26M_Finance&amp;action=edit&amp;redlink=1\" class=\"new\" title=\"M&amp;M Finance (page does not exist)\">M&amp;M Finance</a>, <a href=\"/wiki/Power_Finance_Corporation\" title=\"Power Finance Corporation\">Power Finance Corporation</a>, <a href=\"/wiki/REC_Limited\" title=\"REC Limited\">REC</a>, <a href=\"/wiki/SBI_Life_Insurance_Company\" title=\"SBI Life Insurance Company\">SBI Life Insurance Company</a>, <a href=\"/wiki/Shriram_Transport_Finance\" class=\"mw-redirect\" title=\"Shriram Transport Finance\">Shriram Transport Finance</a>, <a href=\"/wiki/State_Bank_of_India\" title=\"State Bank of India\">State Bank of India</a>\\n</td></tr>\\n<tr>\\n<td>NIFTY FMCG</td>\\n<td><a href=\"/wiki/Britannia_Industries\" title=\"Britannia Industries\">Britannia</a>, <a href=\"/wiki/Colgate-Palmolive\" title=\"Colgate-Palmolive\">Colgate-Palmolive</a>, <a href=\"/wiki/Dabur\" title=\"Dabur\">Dabur</a>, <a href=\"/wiki/Emami\" title=\"Emami\">Emami</a>, <a href=\"/wiki/Godrej_Consumer_Products\" class=\"mw-redirect\" title=\"Godrej Consumer Products\">Godrej Consumer Products</a>, <a href=\"/wiki/Godrej_Industries\" class=\"mw-redirect\" title=\"Godrej Industries\">Godrej Industries</a>, <a href=\"/wiki/Hindustan_Unilever\" title=\"Hindustan Unilever\">Hindustan Unilever</a>, <a href=\"/wiki/ITC_Limited\" title=\"ITC Limited\">ITC Limited</a>, <a href=\"/wiki/Jubilant_FoodWorks\" title=\"Jubilant FoodWorks\">Jubilant FoodWorks</a>, <a href=\"/wiki/Marico\" title=\"Marico\">Marico</a>, <a href=\"/wiki/Nestle\" class=\"mw-redirect\" title=\"Nestle\">Nestle</a>, <a href=\"/wiki/Procter_%26_Gamble\" title=\"Procter &amp; Gamble\">Procter &amp; Gamble</a>, <a href=\"/wiki/Tata_Consumer_Products\" title=\"Tata Consumer Products\">Tata Consumer Products</a>, <a href=\"/wiki/United_Breweries\" class=\"mw-redirect\" title=\"United Breweries\">United Breweries</a>, <a href=\"/wiki/United_Spirits\" title=\"United Spirits\">United Spirits</a>\\n</td></tr>\\n<tr>\\n<td>NIFTY IT</td>\\n<td><a href=\"/wiki/HCL_Technologies\" title=\"HCL Technologies\">HCL Technologies</a>, <a href=\"/w/index.php?title=Hexaware&amp;action=edit&amp;redlink=1\" class=\"new\" title=\"Hexaware (page does not exist)\">Hexaware</a>, <a href=\"/wiki/Infosys\" title=\"Infosys\">Infosys</a>, <a href=\"/wiki/Justdial\" title=\"Justdial\">Justdial</a>, <a href=\"/wiki/Mindtree\" title=\"Mindtree\">Mindtree</a>, <a href=\"/w/index.php?title=NIIT_Technologies&amp;action=edit&amp;redlink=1\" class=\"new\" title=\"NIIT Technologies (page does not exist)\">NIIT Technologies</a>, <a href=\"/wiki/Tata_Consultancy_Services\" title=\"Tata Consultancy Services\">Tata Consultancy Services</a>, <a href=\"/wiki/Tata_Elxsi\" class=\"mw-redirect\" title=\"Tata Elxsi\">Tata Elxsi</a>, <a href=\"/wiki/Tech_Mahindra\" title=\"Tech Mahindra\">Tech Mahindra</a>, <a href=\"/wiki/Wipro\" title=\"Wipro\">Wipro</a>\\n</td></tr>\\n<tr>\\n<td>NIFTY Media</td>\\n<td><a href=\"/wiki/Balaji_Telefilms\" title=\"Balaji Telefilms\">Balaji Telefilms</a>, <a href=\"/w/index.php?title=DB_Corp&amp;action=edit&amp;redlink=1\" class=\"new\" title=\"DB Corp (page does not exist)\">DB Corp</a>, <a href=\"/wiki/Dish_TV\" title=\"Dish TV\">Dish TV</a>, <a href=\"/wiki/INOX_Leisure_Limited\" title=\"INOX Leisure Limited\">INOX Leisure</a>, <a href=\"/wiki/Jagran_Prakashan_Limited\" title=\"Jagran Prakashan Limited\">Jagran Prakashan</a>, <a href=\"/wiki/Jump_Networks\" class=\"mw-redirect\" title=\"Jump Networks\">Jump Networks</a>, <a href=\"/wiki/Network18_Group\" title=\"Network18 Group\">Network18</a>, <a href=\"/wiki/PVR_Cinemas\" title=\"PVR Cinemas\">PVR Cinemas</a>, <a href=\"/wiki/Saregama\" title=\"Saregama\">Saregama</a>, <a href=\"/wiki/Sun_TV_Network\" title=\"Sun TV Network\">Sun TV Network</a>, <a href=\"/wiki/TV_Today_Network\" title=\"TV Today Network\">TV Today Network</a>, <a href=\"/wiki/TV18\" title=\"TV18\">TV18</a>, <a href=\"/wiki/Zee_Entertainment_Enterprises\" class=\"mw-redirect\" title=\"Zee Entertainment Enterprises\">Zee Entertainment Enterprises</a>, <a href=\"/wiki/Zee_Media\" class=\"mw-redirect\" title=\"Zee Media\">Zee Media</a>\\n</td></tr>\\n<tr>\\n<td>NIFTY Metal</td>\\n<td><a href=\"/w/index.php?title=APL_Apollo_Tubes&amp;action=edit&amp;redlink=1\" class=\"new\" title=\"APL Apollo Tubes (page does not exist)\">APL Apollo Tubes</a>, <a href=\"/wiki/Coal_India\" title=\"Coal India\">Coal India</a>, <a href=\"/wiki/Hindalco\" class=\"mw-redirect\" title=\"Hindalco\">Hindalco</a>, <a href=\"/wiki/Hindustan_Copper\" title=\"Hindustan Copper\">Hindustan Copper</a>, <a href=\"/wiki/Hindustan_Zinc\" title=\"Hindustan Zinc\">Hindustan Zinc</a>, <a href=\"/wiki/Jindal_Steel\" class=\"mw-redirect\" title=\"Jindal Steel\">Jindal Steel</a>, <a href=\"/wiki/JSW_Steel\" class=\"mw-redirect\" title=\"JSW Steel\">JSW Steel</a>, <a href=\"/wiki/MOIL_(company)\" title=\"MOIL (company)\">MOIL</a>, <a href=\"/wiki/National_Aluminium_Company\" title=\"National Aluminium Company\">National Aluminium Company</a>, <a href=\"/wiki/National_Mineral_Development_Corporation\" title=\"National Mineral Development Corporation\">NMDC</a>, <a href=\"/w/index.php?title=Ratnamani_Metals_%26_Tubes&amp;action=edit&amp;redlink=1\" class=\"new\" title=\"Ratnamani Metals &amp; Tubes (page does not exist)\">Ratnamani Metals &amp; Tubes</a>, <a href=\"/wiki/Steel_Authority_of_India\" title=\"Steel Authority of India\">Steel Authority of India</a>, <a href=\"/wiki/Tata_Steel\" title=\"Tata Steel\">Tata Steel</a>, <a href=\"/wiki/Vedanta_Resources\" title=\"Vedanta Resources\">Vedanta</a>, <a href=\"/wiki/Welspun_Corp\" title=\"Welspun Corp\">Welspun Corp</a>\\n</td></tr>\\n<tr>\\n<td>NIFTY Oil &amp; Gas</td>\\n<td><a href=\"/w/index.php?title=Adani_Gas&amp;action=edit&amp;redlink=1\" class=\"new\" title=\"Adani Gas (page does not exist)\">Adani Gas</a>, <a href=\"/w/index.php?title=Aegis_Logistics&amp;action=edit&amp;redlink=1\" class=\"new\" title=\"Aegis Logistics (page does not exist)\">Aegis Logistics</a>, <a href=\"/wiki/Bharat_Petroleum\" title=\"Bharat Petroleum\">BPCL</a>, <a href=\"/wiki/Castrol\" title=\"Castrol\">Castrol</a>, <a href=\"/wiki/GAIL\" title=\"GAIL\">GAIL</a>, <a href=\"/wiki/Gujarat_Gas\" title=\"Gujarat Gas\">Gujarat Gas</a>, <a href=\"/wiki/Gujarat_State_Petroleum_Corporation\" title=\"Gujarat State Petroleum Corporation\">Gujarat State Petronet</a>, <a href=\"/wiki/Hindustan_Petroleum\" title=\"Hindustan Petroleum\">HPCL</a>, <a href=\"/wiki/Indraprastha_Gas\" title=\"Indraprastha Gas\">Indraprastha Gas</a>, <a href=\"/wiki/Indian_Oil_Corporation\" title=\"Indian Oil Corporation\">IOC</a>, <a href=\"/wiki/Mahanagar_Gas\" title=\"Mahanagar Gas\">Mahanagar Gas</a>, <a href=\"/wiki/Oil_India\" title=\"Oil India\">Oil India</a>, <a href=\"/wiki/Oil_and_Natural_Gas_Corporation\" title=\"Oil and Natural Gas Corporation\">ONGC</a>, <a href=\"/wiki/Petronet_LNG\" title=\"Petronet LNG\">Petronet LNG</a>, <a href=\"/wiki/Reliance_Industries\" class=\"mw-redirect\" title=\"Reliance Industries\">Reliance Industries</a>\\n</td></tr>\\n<tr>\\n<td>NIFTY Pharma</td>\\n<td><a href=\"/wiki/Aurobindo_Pharma\" title=\"Aurobindo Pharma\">Aurobindo Pharma</a>, <a href=\"/wiki/Biocon\" title=\"Biocon\">Biocon</a>, <a href=\"/wiki/Cadila_Healthcare\" title=\"Cadila Healthcare\">Cadila Healthcare</a>, <a href=\"/wiki/Cipla\" title=\"Cipla\">Cipla</a>, <a href=\"/w/index.php?title=Divis_Laboratories&amp;action=edit&amp;redlink=1\" class=\"new\" title=\"Divis Laboratories (page does not exist)\">Divis Laboratories</a>, <a href=\"/wiki/Dr._Reddy%27s_Laboratories\" title=\"Dr. Reddy&#39;s Laboratories\">Dr. Reddy\\'s Laboratories</a>, <a href=\"/wiki/Glenmark_Pharmaceuticals\" title=\"Glenmark Pharmaceuticals\">Glenmark Pharmaceuticals</a>, <a href=\"/wiki/Lupin\" class=\"mw-redirect\" title=\"Lupin\">Lupin</a>, <a href=\"/wiki/Piramal_Enterprises\" class=\"mw-redirect\" title=\"Piramal Enterprises\">Piramal Enterprises</a>, <a href=\"/wiki/Sun_Pharmaceutical\" title=\"Sun Pharmaceutical\">Sun Pharmaceutical</a>\\n</td></tr>\\n<tr>\\n<td>NIFTY Private Bank</td>\\n<td><a href=\"/wiki/Axis_Bank\" title=\"Axis Bank\">Axis Bank</a>, <a href=\"/wiki/Bandhan_Bank\" title=\"Bandhan Bank\">Bandhan Bank</a>, <a href=\"/wiki/City_Union_Bank\" title=\"City Union Bank\">City Union Bank</a>, <a href=\"/wiki/Federal_Bank\" title=\"Federal Bank\">Federal Bank</a>, <a href=\"/wiki/HDFC_Bank\" title=\"HDFC Bank\">HDFC Bank</a>, <a href=\"/wiki/ICICI_Bank\" title=\"ICICI Bank\">ICICI Bank</a>, <a href=\"/wiki/IDFC_First_Bank\" title=\"IDFC First Bank\">IDFC First Bank</a>, <a href=\"/wiki/IndusInd_Bank\" title=\"IndusInd Bank\">IndusInd Bank</a>, <a href=\"/wiki/Kotak_Mahindra_Bank\" title=\"Kotak Mahindra Bank\">Kotak Mahindra Bank</a>, <a href=\"/wiki/RBL_Bank\" title=\"RBL Bank\">RBL Bank</a>\\n</td></tr>\\n<tr>\\n<td>NIFTY PSU Bank</td>\\n<td><a href=\"/wiki/Bank_of_Baroda\" title=\"Bank of Baroda\">Bank of Baroda</a>, <a href=\"/wiki/Bank_of_Maharashtra\" title=\"Bank of Maharashtra\">Bank of Maharashtra</a>, <a href=\"/wiki/Bank_of_India\" title=\"Bank of India\">Bank of India</a>, <a href=\"/wiki/Canara_Bank\" title=\"Canara Bank\">Canara Bank</a>, <a href=\"/wiki/Central_Bank_of_India\" title=\"Central Bank of India\">Central Bank of India</a>, <a href=\"/wiki/Indian_Bank\" title=\"Indian Bank\">Indian Bank</a>, <a href=\"/wiki/Indian_Overseas_Bank\" title=\"Indian Overseas Bank\">Indian Overseas Bank</a>, <a href=\"/wiki/Jammu_%26_Kashmir_Bank\" title=\"Jammu &amp; Kashmir Bank\">J&amp;K Bank</a>, <a href=\"/wiki/Punjab_%26_Sind_Bank\" title=\"Punjab &amp; Sind Bank\">Punjab &amp; Sind Bank</a>, <a href=\"/wiki/Punjab_National_Bank\" title=\"Punjab National Bank\">Punjab National Bank</a>, <a href=\"/wiki/State_Bank_of_India\" title=\"State Bank of India\">State Bank of India</a>, <a href=\"/wiki/UCO_Bank\" title=\"UCO Bank\">UCO Bank</a>, <a href=\"/wiki/Union_Bank_of_India\" title=\"Union Bank of India\">Union Bank of India</a>\\n</td></tr>\\n<tr>\\n<td>NIFTY Realty</td>\\n<td><a href=\"/wiki/Brigade_Group\" title=\"Brigade Group\">Brigade Enterprises</a>, <a href=\"/wiki/DLF_(company)\" title=\"DLF (company)\">DLF</a>, <a href=\"/wiki/Godrej_Properties\" class=\"mw-redirect\" title=\"Godrej Properties\">Godrej Properties</a>, <a href=\"/w/index.php?title=Indiabulls_Real_Estate&amp;action=edit&amp;redlink=1\" class=\"new\" title=\"Indiabulls Real Estate (page does not exist)\">Indiabulls Real Estate</a>, <a href=\"/wiki/Mahindra_Lifespaces\" title=\"Mahindra Lifespaces\">Mahindra Lifespaces</a>, <a href=\"/wiki/Oberoi_Realty\" title=\"Oberoi Realty\">Oberoi Realty</a>, <a href=\"/wiki/Phoenix_Mills\" class=\"mw-redirect\" title=\"Phoenix Mills\">Phoenix Mills</a>, <a href=\"/wiki/Prestige_Group\" title=\"Prestige Group\">Prestige Group</a>, <a href=\"/wiki/Sobha_Ltd.\" title=\"Sobha Ltd.\">Sobha Developers</a>, <a href=\"/wiki/Sunteck_Realty_Limited\" class=\"mw-redirect\" title=\"Sunteck Realty Limited\">Sunteck</a>\\n</td></tr>\\n</tbody></table>\\n<h2><span class=\"mw-headline\" id=\"See_also\">See also</span><span class=\"mw-editsection\"><span class=\"mw-editsection-bracket\">[</span><a href=\"/w/index.php?title=NIFTY_50&amp;action=edit&amp;section=9\" title=\"Edit section: See also\">edit</a><span class=\"mw-editsection-bracket\">]</span></span></h2>\\n<ul><li><a href=\"/wiki/India_Index_Services_and_Products\" title=\"India Index Services and Products\">India Index Services and Products Ltd</a></li>\\n<li><a href=\"/wiki/CRISIL\" title=\"CRISIL\">CRISIL</a></li>\\n<li><a href=\"/wiki/National_Stock_Exchange_of_India\" title=\"National Stock Exchange of India\">National Stock Exchange of India</a></li></ul>\\n<h2><span class=\"mw-headline\" id=\"References\">References</span><span class=\"mw-editsection\"><span class=\"mw-editsection-bracket\">[</span><a href=\"/w/index.php?title=NIFTY_50&amp;action=edit&amp;section=10\" title=\"Edit section: References\">edit</a><span class=\"mw-editsection-bracket\">]</span></span></h2>\\n<div class=\"reflist\" style=\"list-style-type: decimal;\">\\n<div class=\"mw-references-wrap mw-references-columns\"><ol class=\"references\">\\n<li id=\"cite_note-1\"><span class=\"mw-cite-backlink\"><b><a href=\"#cite_ref-1\">^</a></b></span> <span class=\"reference-text\"><cite class=\"citation web\"><a rel=\"nofollow\" class=\"external text\" href=\"https://www.nseindia.com/content/indices/ind_nifty50.pdf\">\"NSE India- Nifty 50 Fact Sheet\"</a> <span class=\"cs1-format\">(PDF)</span>. <i>NSE India</i>.</cite><span title=\"ctx_ver=Z39.88-2004&amp;rft_val_fmt=info%3Aofi%2Ffmt%3Akev%3Amtx%3Ajournal&amp;rft.genre=unknown&amp;rft.jtitle=NSE+India&amp;rft.atitle=NSE+India-+Nifty+50+Fact+Sheet&amp;rft_id=https%3A%2F%2Fwww.nseindia.com%2Fcontent%2Findices%2Find_nifty50.pdf&amp;rfr_id=info%3Asid%2Fen.wikipedia.org%3ANIFTY+50\" class=\"Z3988\"></span><style data-mw-deduplicate=\"TemplateStyles:r951705291\">.mw-parser-output cite.citation{font-style:inherit}.mw-parser-output .citation q{quotes:\"\\\\\"\"\"\\\\\"\"\"\\'\"\"\\'\"}.mw-parser-output .id-lock-free a,.mw-parser-output .citation .cs1-lock-free a{background-image:url(\"//upload.wikimedia.org/wikipedia/commons/thumb/6/65/Lock-green.svg/9px-Lock-green.svg.png\");background-image:linear-gradient(transparent,transparent),url(\"//upload.wikimedia.org/wikipedia/commons/6/65/Lock-green.svg\");background-repeat:no-repeat;background-size:9px;background-position:right .1em center}.mw-parser-output .id-lock-limited a,.mw-parser-output .id-lock-registration a,.mw-parser-output .citation .cs1-lock-limited a,.mw-parser-output .citation .cs1-lock-registration a{background-image:url(\"//upload.wikimedia.org/wikipedia/commons/thumb/d/d6/Lock-gray-alt-2.svg/9px-Lock-gray-alt-2.svg.png\");background-image:linear-gradient(transparent,transparent),url(\"//upload.wikimedia.org/wikipedia/commons/d/d6/Lock-gray-alt-2.svg\");background-repeat:no-repeat;background-size:9px;background-position:right .1em center}.mw-parser-output .id-lock-subscription a,.mw-parser-output .citation .cs1-lock-subscription a{background-image:url(\"//upload.wikimedia.org/wikipedia/commons/thumb/a/aa/Lock-red-alt-2.svg/9px-Lock-red-alt-2.svg.png\");background-image:linear-gradient(transparent,transparent),url(\"//upload.wikimedia.org/wikipedia/commons/a/aa/Lock-red-alt-2.svg\");background-repeat:no-repeat;background-size:9px;background-position:right .1em center}.mw-parser-output .cs1-subscription,.mw-parser-output .cs1-registration{color:#555}.mw-parser-output .cs1-subscription span,.mw-parser-output .cs1-registration span{border-bottom:1px dotted;cursor:help}.mw-parser-output .cs1-ws-icon a{background-image:url(\"//upload.wikimedia.org/wikipedia/commons/thumb/4/4c/Wikisource-logo.svg/12px-Wikisource-logo.svg.png\");background-image:linear-gradient(transparent,transparent),url(\"//upload.wikimedia.org/wikipedia/commons/4/4c/Wikisource-logo.svg\");background-repeat:no-repeat;background-size:12px;background-position:right .1em center}.mw-parser-output code.cs1-code{color:inherit;background:inherit;border:inherit;padding:inherit}.mw-parser-output .cs1-hidden-error{display:none;font-size:100%}.mw-parser-output .cs1-visible-error{font-size:100%}.mw-parser-output .cs1-maint{display:none;color:#33aa33;margin-left:0.3em}.mw-parser-output .cs1-subscription,.mw-parser-output .cs1-registration,.mw-parser-output .cs1-format{font-size:95%}.mw-parser-output .cs1-kern-left,.mw-parser-output .cs1-kern-wl-left{padding-left:0.2em}.mw-parser-output .cs1-kern-right,.mw-parser-output .cs1-kern-wl-right{padding-right:0.2em}.mw-parser-output .citation .mw-selflink{font-weight:inherit}</style></span>\\n</li>\\n<li id=\"cite_note-nse-2\"><span class=\"mw-cite-backlink\"><b><a href=\"#cite_ref-nse_2-0\">^</a></b></span> <span class=\"reference-text\"><cite class=\"citation web\"><a rel=\"nofollow\" class=\"external text\" href=\"https://nseindia.com/products/content/equities/indices/nifty_50.htm\">\"Broadmarket indices - NIFTY 50 Index\"</a>. <i>nseindia.com</i>. NSE - National stock exchange (official website)<span class=\"reference-accessdate\">. Retrieved <span class=\"nowrap\">29 November</span> 2017</span>.</cite><span title=\"ctx_ver=Z39.88-2004&amp;rft_val_fmt=info%3Aofi%2Ffmt%3Akev%3Amtx%3Ajournal&amp;rft.genre=unknown&amp;rft.jtitle=nseindia.com&amp;rft.atitle=Broadmarket+indices+-+NIFTY+50+Index&amp;rft_id=https%3A%2F%2Fnseindia.com%2Fproducts%2Fcontent%2Fequities%2Findices%2Fnifty_50.htm&amp;rfr_id=info%3Asid%2Fen.wikipedia.org%3ANIFTY+50\" class=\"Z3988\"></span><link rel=\"mw-deduplicated-inline-style\" href=\"mw-data:TemplateStyles:r951705291\"/></span>\\n</li>\\n<li id=\"cite_note-3\"><span class=\"mw-cite-backlink\"><b><a href=\"#cite_ref-3\">^</a></b></span> <span class=\"reference-text\"><cite class=\"citation web\"><a rel=\"nofollow\" class=\"external text\" href=\"https://www.nseindia.com/products/content/derivatives/equities/contract_specifitns.htm\">\"NSE Equity Derivatives Contract Specifications\"</a>. <i>National Stock Exchange of India</i><span class=\"reference-accessdate\">. Retrieved <span class=\"nowrap\">16 August</span> 2019</span>.</cite><span title=\"ctx_ver=Z39.88-2004&amp;rft_val_fmt=info%3Aofi%2Ffmt%3Akev%3Amtx%3Ajournal&amp;rft.genre=unknown&amp;rft.jtitle=National+Stock+Exchange+of+India&amp;rft.atitle=NSE+Equity+Derivatives+Contract+Specifications&amp;rft_id=https%3A%2F%2Fwww.nseindia.com%2Fproducts%2Fcontent%2Fderivatives%2Fequities%2Fcontract_specifitns.htm&amp;rfr_id=info%3Asid%2Fen.wikipedia.org%3ANIFTY+50\" class=\"Z3988\"></span><link rel=\"mw-deduplicated-inline-style\" href=\"mw-data:TemplateStyles:r951705291\"/></span>\\n</li>\\n<li id=\"cite_note-4\"><span class=\"mw-cite-backlink\"><b><a href=\"#cite_ref-4\">^</a></b></span> <span class=\"reference-text\"><cite class=\"citation web\"><a rel=\"nofollow\" class=\"external text\" href=\"https://www2.sgx.com/derivatives/products/nifty?cc=IN#Product%20Information\">\"SGX Derivatives Products Nifty Indices Futures and Options Product Information\"</a>. <i>Singapore Exchange Ltd</i><span class=\"reference-accessdate\">. Retrieved <span class=\"nowrap\">16 August</span> 2019</span>.</cite><span title=\"ctx_ver=Z39.88-2004&amp;rft_val_fmt=info%3Aofi%2Ffmt%3Akev%3Amtx%3Ajournal&amp;rft.genre=unknown&amp;rft.jtitle=Singapore+Exchange+Ltd.&amp;rft.atitle=SGX+Derivatives+Products+Nifty+Indices+Futures+and+Options+Product+Information&amp;rft_id=https%3A%2F%2Fwww2.sgx.com%2Fderivatives%2Fproducts%2Fnifty%3Fcc%3DIN%23Product%2520Information&amp;rfr_id=info%3Asid%2Fen.wikipedia.org%3ANIFTY+50\" class=\"Z3988\"></span><link rel=\"mw-deduplicated-inline-style\" href=\"mw-data:TemplateStyles:r951705291\"/></span>\\n</li>\\n<li id=\"cite_note-5\"><span class=\"mw-cite-backlink\"><b><a href=\"#cite_ref-5\">^</a></b></span> <span class=\"reference-text\"><a rel=\"nofollow\" class=\"external free\" href=\"https://www.nseindia.com/content/press/PR_cc_12052016.pdf\">https://www.nseindia.com/content/press/PR_cc_12052016.pdf</a></span>\\n</li>\\n<li id=\"cite_note-6\"><span class=\"mw-cite-backlink\"><b><a href=\"#cite_ref-6\">^</a></b></span> <span class=\"reference-text\"><a rel=\"nofollow\" class=\"external text\" href=\"http://www.sebi.gov.in/cms/sebi_data/attachdocs/1378192045802.pdf\">NIFTY 50 loses importance to sectoral indices</a></span>\\n</li>\\n<li id=\"cite_note-7\"><span class=\"mw-cite-backlink\"><b><a href=\"#cite_ref-7\">^</a></b></span> <span class=\"reference-text\"><cite class=\"citation web\"><a rel=\"nofollow\" class=\"external text\" href=\"https://web.archive.org/web/20140123020946/http://nseindia.com/content/indices/ind_cnx_nifty.pdf\">\"Sectoral weightage of CNX Nifty 50 Index\"</a> <span class=\"cs1-format\">(PDF)</span>. Archived from <a rel=\"nofollow\" class=\"external text\" href=\"http://www.nseindia.com/content/indices/ind_cnx_nifty.pdf\">the original</a> <span class=\"cs1-format\">(PDF)</span> on 23 January 2014<span class=\"reference-accessdate\">. Retrieved <span class=\"nowrap\">14 September</span> 2013</span>.</cite><span title=\"ctx_ver=Z39.88-2004&amp;rft_val_fmt=info%3Aofi%2Ffmt%3Akev%3Amtx%3Abook&amp;rft.genre=unknown&amp;rft.btitle=Sectoral+weightage+of+CNX+Nifty+50+Index&amp;rft_id=http%3A%2F%2Fwww.nseindia.com%2Fcontent%2Findices%2Find_cnx_nifty.pdf&amp;rfr_id=info%3Asid%2Fen.wikipedia.org%3ANIFTY+50\" class=\"Z3988\"></span><link rel=\"mw-deduplicated-inline-style\" href=\"mw-data:TemplateStyles:r951705291\"/></span>\\n</li>\\n<li id=\"cite_note-8\"><span class=\"mw-cite-backlink\"><b><a href=\"#cite_ref-8\">^</a></b></span> <span class=\"reference-text\"><cite class=\"citation web\"><a rel=\"nofollow\" class=\"external text\" href=\"http://www.nseindia.com/content/indices/nifty_freefloat_method.pdf\">\"CNX Nifty Index Methodology\"</a> <span class=\"cs1-format\">(PDF)</span>.</cite><span title=\"ctx_ver=Z39.88-2004&amp;rft_val_fmt=info%3Aofi%2Ffmt%3Akev%3Amtx%3Abook&amp;rft.genre=unknown&amp;rft.btitle=CNX+Nifty+Index+Methodology&amp;rft_id=http%3A%2F%2Fwww.nseindia.com%2Fcontent%2Findices%2Fnifty_freefloat_method.pdf&amp;rfr_id=info%3Asid%2Fen.wikipedia.org%3ANIFTY+50\" class=\"Z3988\"></span><link rel=\"mw-deduplicated-inline-style\" href=\"mw-data:TemplateStyles:r951705291\"/></span>\\n</li>\\n<li id=\"cite_note-9\"><span class=\"mw-cite-backlink\"><b><a href=\"#cite_ref-9\">^</a></b></span> <span class=\"reference-text\"><cite class=\"citation web\"><a rel=\"nofollow\" class=\"external text\" href=\"https://www.nseindia.com/products/content/equities/indices/indices.htm\">\"NSE - National Stock Exchange of India Ltd\"</a>. <i>www.nseindia.com</i>.</cite><span title=\"ctx_ver=Z39.88-2004&amp;rft_val_fmt=info%3Aofi%2Ffmt%3Akev%3Amtx%3Ajournal&amp;rft.genre=unknown&amp;rft.jtitle=www.nseindia.com&amp;rft.atitle=NSE+-+National+Stock+Exchange+of+India+Ltd.&amp;rft_id=https%3A%2F%2Fwww.nseindia.com%2Fproducts%2Fcontent%2Fequities%2Findices%2Findices.htm&amp;rfr_id=info%3Asid%2Fen.wikipedia.org%3ANIFTY+50\" class=\"Z3988\"></span><link rel=\"mw-deduplicated-inline-style\" href=\"mw-data:TemplateStyles:r951705291\"/></span>\\n</li>\\n<li id=\"cite_note-10\"><span class=\"mw-cite-backlink\"><b><a href=\"#cite_ref-10\">^</a></b></span> <span class=\"reference-text\"><a rel=\"nofollow\" class=\"external free\" href=\"https://www.livemint.com/market/stock-market-news/britannia-to-replace-hindustan-petroleum-in-nifty-50-from-29-march-1551116705011.html\">https://www.livemint.com/market/stock-market-news/britannia-to-replace-hindustan-petroleum-in-nifty-50-from-29-march-1551116705011.html</a></span>\\n</li>\\n<li id=\"cite_note-11\"><span class=\"mw-cite-backlink\"><b><a href=\"#cite_ref-11\">^</a></b></span> <span class=\"reference-text\"><a rel=\"nofollow\" class=\"external free\" href=\"https://www.livemint.com/market/stock-market-news/nestle-india-to-be-included-in-nse-nifty-50-index-1566995646655.html\">https://www.livemint.com/market/stock-market-news/nestle-india-to-be-included-in-nse-nifty-50-index-1566995646655.html</a></span>\\n</li>\\n<li id=\"cite_note-12\"><span class=\"mw-cite-backlink\"><b><a href=\"#cite_ref-12\">^</a></b></span> <span class=\"reference-text\"><cite class=\"citation web\"><a rel=\"nofollow\" class=\"external text\" href=\"http://ibnlive.in.com/news/sensex-crashes-769-points-nifty-234-points-down/414676-7.html\">\"News18.com: CNN-News18 Breaking News India, Latest News, Current News Headlines\"</a>. <i>News18</i><span class=\"reference-accessdate\">. Retrieved <span class=\"nowrap\">21 December</span> 2017</span>.</cite><span title=\"ctx_ver=Z39.88-2004&amp;rft_val_fmt=info%3Aofi%2Ffmt%3Akev%3Amtx%3Ajournal&amp;rft.genre=unknown&amp;rft.jtitle=News18&amp;rft.atitle=News18.com%3A+CNN-News18+Breaking+News+India%2C+Latest+News%2C+Current+News+Headlines&amp;rft_id=http%3A%2F%2Fibnlive.in.com%2Fnews%2Fsensex-crashes-769-points-nifty-234-points-down%2F414676-7.html&amp;rfr_id=info%3Asid%2Fen.wikipedia.org%3ANIFTY+50\" class=\"Z3988\"></span><link rel=\"mw-deduplicated-inline-style\" href=\"mw-data:TemplateStyles:r951705291\"/></span>\\n</li>\\n<li id=\"cite_note-13\"><span class=\"mw-cite-backlink\"><b><a href=\"#cite_ref-13\">^</a></b></span> <span class=\"reference-text\"><cite class=\"citation web\"><a rel=\"nofollow\" class=\"external text\" href=\"https://www.thehindubusinessline.com/markets/stock-markets/sensex-nifty-reel-as-brexit-spooks-world-markets/article8768282.ece\">\"Sensex, Nifty reel as Brexit spooks world markets\"</a>. <i>Hindu BusinessLine</i><span class=\"reference-accessdate\">. Retrieved <span class=\"nowrap\">9 July</span> 2019</span>.</cite><span title=\"ctx_ver=Z39.88-2004&amp;rft_val_fmt=info%3Aofi%2Ffmt%3Akev%3Amtx%3Ajournal&amp;rft.genre=unknown&amp;rft.jtitle=Hindu+BusinessLine&amp;rft.atitle=Sensex%2C+Nifty+reel+as+Brexit+spooks+world+markets&amp;rft_id=https%3A%2F%2Fwww.thehindubusinessline.com%2Fmarkets%2Fstock-markets%2Fsensex-nifty-reel-as-brexit-spooks-world-markets%2Farticle8768282.ece&amp;rfr_id=info%3Asid%2Fen.wikipedia.org%3ANIFTY+50\" class=\"Z3988\"></span><link rel=\"mw-deduplicated-inline-style\" href=\"mw-data:TemplateStyles:r951705291\"/></span>\\n</li>\\n<li id=\"cite_note-14\"><span class=\"mw-cite-backlink\"><b><a href=\"#cite_ref-14\">^</a></b></span> <span class=\"reference-text\"><cite class=\"citation web\"><a rel=\"nofollow\" class=\"external text\" href=\"http://www.moneycontrol.com/news/business/markets/global-mayhem-sensex-crashes-1624-pts-nifty-breaches-7900-1487773.html\">\"Global mayhem: Sensex crashes 1624 pts; Nifty breaches 7900\"</a>. <i>Moneycontrol</i><span class=\"reference-accessdate\">. Retrieved <span class=\"nowrap\">21 December</span> 2017</span>.</cite><span title=\"ctx_ver=Z39.88-2004&amp;rft_val_fmt=info%3Aofi%2Ffmt%3Akev%3Amtx%3Ajournal&amp;rft.genre=unknown&amp;rft.jtitle=Moneycontrol&amp;rft.atitle=Global+mayhem%3A+Sensex+crashes+1624+pts%3B+Nifty+breaches+7900&amp;rft_id=http%3A%2F%2Fwww.moneycontrol.com%2Fnews%2Fbusiness%2Fmarkets%2Fglobal-mayhem-sensex-crashes-1624-pts-nifty-breaches-7900-1487773.html&amp;rfr_id=info%3Asid%2Fen.wikipedia.org%3ANIFTY+50\" class=\"Z3988\"></span><link rel=\"mw-deduplicated-inline-style\" href=\"mw-data:TemplateStyles:r951705291\"/></span>\\n</li>\\n<li id=\"cite_note-15\"><span class=\"mw-cite-backlink\"><b><a href=\"#cite_ref-15\">^</a></b></span> <span class=\"reference-text\"><cite id=\"CITEREFBureau/Agencies2016\" class=\"citation news\">Bureau/Agencies, Our (24 June 2016). <a rel=\"nofollow\" class=\"external text\" href=\"http://www.thehindubusinessline.com/markets/stock-markets/sensex-live-update/article8768282.ece\">\"Sensex, Nifty reel as Brexit spooks world markets\"</a>. <i>The Hindu Business Line</i><span class=\"reference-accessdate\">. Retrieved <span class=\"nowrap\">21 December</span> 2017</span>.</cite><span title=\"ctx_ver=Z39.88-2004&amp;rft_val_fmt=info%3Aofi%2Ffmt%3Akev%3Amtx%3Ajournal&amp;rft.genre=article&amp;rft.jtitle=The+Hindu+Business+Line&amp;rft.atitle=Sensex%2C+Nifty+reel+as+Brexit+spooks+world+markets&amp;rft.date=2016-06-24&amp;rft.aulast=Bureau%2FAgencies&amp;rft.aufirst=Our&amp;rft_id=http%3A%2F%2Fwww.thehindubusinessline.com%2Fmarkets%2Fstock-markets%2Fsensex-live-update%2Farticle8768282.ece&amp;rfr_id=info%3Asid%2Fen.wikipedia.org%3ANIFTY+50\" class=\"Z3988\"></span><link rel=\"mw-deduplicated-inline-style\" href=\"mw-data:TemplateStyles:r951705291\"/></span>\\n</li>\\n<li id=\"cite_note-16\"><span class=\"mw-cite-backlink\"><b><a href=\"#cite_ref-16\">^</a></b></span> <span class=\"reference-text\"><cite id=\"CITEREFNathan2016\" class=\"citation news\">Nathan, Narendra (14 November 2016). <a rel=\"nofollow\" class=\"external text\" href=\"https://economictimes.indiatimes.com/wealth/invest/how-demonetisation-move-and-donald-trumps-victory-impact-your-investments/articleshow/55384579.cms\">\"How demonetisation and Donald Trump\\'s victory impact your investments\"</a>. <i>The Economic Times</i><span class=\"reference-accessdate\">. Retrieved <span class=\"nowrap\">21 December</span> 2017</span>.</cite><span title=\"ctx_ver=Z39.88-2004&amp;rft_val_fmt=info%3Aofi%2Ffmt%3Akev%3Amtx%3Ajournal&amp;rft.genre=article&amp;rft.jtitle=The+Economic+Times&amp;rft.atitle=How+demonetisation+and+Donald+Trump%27s+victory+impact+your+investments&amp;rft.date=2016-11-14&amp;rft.aulast=Nathan&amp;rft.aufirst=Narendra&amp;rft_id=https%3A%2F%2Feconomictimes.indiatimes.com%2Fwealth%2Finvest%2Fhow-demonetisation-move-and-donald-trumps-victory-impact-your-investments%2Farticleshow%2F55384579.cms&amp;rfr_id=info%3Asid%2Fen.wikipedia.org%3ANIFTY+50\" class=\"Z3988\"></span><link rel=\"mw-deduplicated-inline-style\" href=\"mw-data:TemplateStyles:r951705291\"/></span>\\n</li>\\n<li id=\"cite_note-17\"><span class=\"mw-cite-backlink\"><b><a href=\"#cite_ref-17\">^</a></b></span> <span class=\"reference-text\"><cite class=\"citation news\"><a rel=\"nofollow\" class=\"external text\" href=\"https://www.dnaindia.com/business/report-stock-market-at-odds-with-union-budget-2020-sensex-slips-over-1000-pts-nifty-at-11643-2811660\">\"Stock market at odds with Union Budget 2020; SENSEX slips over 1,000 pts, NIFTY at 11,643\"</a>. <i><a href=\"/wiki/DNA_India\" class=\"mw-redirect\" title=\"DNA India\">DNA India</a></i>. 1 February 2020<span class=\"reference-accessdate\">. Retrieved <span class=\"nowrap\">1 February</span> 2020</span>.</cite><span title=\"ctx_ver=Z39.88-2004&amp;rft_val_fmt=info%3Aofi%2Ffmt%3Akev%3Amtx%3Ajournal&amp;rft.genre=article&amp;rft.jtitle=DNA+India&amp;rft.atitle=Stock+market+at+odds+with+Union+Budget+2020%3B+SENSEX+slips+over+1%2C000+pts%2C+NIFTY+at+11%2C643&amp;rft.date=2020-02-01&amp;rft_id=https%3A%2F%2Fwww.dnaindia.com%2Fbusiness%2Freport-stock-market-at-odds-with-union-budget-2020-sensex-slips-over-1000-pts-nifty-at-11643-2811660&amp;rfr_id=info%3Asid%2Fen.wikipedia.org%3ANIFTY+50\" class=\"Z3988\"></span><link rel=\"mw-deduplicated-inline-style\" href=\"mw-data:TemplateStyles:r951705291\"/></span>\\n</li>\\n<li id=\"cite_note-18\"><span class=\"mw-cite-backlink\"><b><a href=\"#cite_ref-18\">^</a></b></span> <span class=\"reference-text\"><cite class=\"citation web\"><a rel=\"nofollow\" class=\"external text\" href=\"http://www.1stock1.com/1stock1_2639.htm\">\"S&amp;P/CNX Nifty Index (India) Yearly Stock Returns\"</a>. <i>www.1stock1.com</i><span class=\"reference-accessdate\">. Retrieved <span class=\"nowrap\">20 January</span> 2020</span>.</cite><span title=\"ctx_ver=Z39.88-2004&amp;rft_val_fmt=info%3Aofi%2Ffmt%3Akev%3Amtx%3Ajournal&amp;rft.genre=unknown&amp;rft.jtitle=www.1stock1.com&amp;rft.atitle=S%26P%2FCNX+Nifty+Index+%28India%29+Yearly+Stock+Returns&amp;rft_id=http%3A%2F%2Fwww.1stock1.com%2F1stock1_2639.htm&amp;rfr_id=info%3Asid%2Fen.wikipedia.org%3ANIFTY+50\" class=\"Z3988\"></span><link rel=\"mw-deduplicated-inline-style\" href=\"mw-data:TemplateStyles:r951705291\"/></span>\\n</li>\\n<li id=\"cite_note-19\"><span class=\"mw-cite-backlink\"><b><a href=\"#cite_ref-19\">^</a></b></span> <span class=\"reference-text\"> <a rel=\"nofollow\" class=\"external free\" href=\"https://www.nseindia.com/products/content/derivatives/equities/contract_specifitns.htm\">https://www.nseindia.com/products/content/derivatives/equities/contract_specifitns.htm</a></span>\\n</li>\\n<li id=\"cite_note-20\"><span class=\"mw-cite-backlink\"><b><a href=\"#cite_ref-20\">^</a></b></span> <span class=\"reference-text\"><a rel=\"nofollow\" class=\"external autonumber\" href=\"https://www.nseindia.com/content/indices/NIFTY_Next_50_white_paper.pdf\">[1]</a></span>\\n</li>\\n<li id=\"cite_note-21\"><span class=\"mw-cite-backlink\"><b><a href=\"#cite_ref-21\">^</a></b></span> <span class=\"reference-text\"><cite class=\"citation web\"><a rel=\"nofollow\" class=\"external text\" href=\"https://www.nseindia.com/products-services/indices-sectoral\">\"Sectoral Indices\"</a>. NSE India<span class=\"reference-accessdate\">. Retrieved <span class=\"nowrap\">4 May</span> 2020</span>.</cite><span title=\"ctx_ver=Z39.88-2004&amp;rft_val_fmt=info%3Aofi%2Ffmt%3Akev%3Amtx%3Abook&amp;rft.genre=unknown&amp;rft.btitle=Sectoral+Indices&amp;rft.pub=NSE+India&amp;rft_id=https%3A%2F%2Fwww.nseindia.com%2Fproducts-services%2Findices-sectoral&amp;rfr_id=info%3Asid%2Fen.wikipedia.org%3ANIFTY+50\" class=\"Z3988\"></span><link rel=\"mw-deduplicated-inline-style\" href=\"mw-data:TemplateStyles:r951705291\"/></span>\\n</li>\\n</ol></div></div>\\n<h2><span class=\"mw-headline\" id=\"External_links\">External links</span><span class=\"mw-editsection\"><span class=\"mw-editsection-bracket\">[</span><a href=\"/w/index.php?title=NIFTY_50&amp;action=edit&amp;section=11\" title=\"Edit section: External links\">edit</a><span class=\"mw-editsection-bracket\">]</span></span></h2>\\n<ul><li><a rel=\"nofollow\" class=\"external text\" href=\"http://www.nseindia.com/products/content/equities/indices/index_funds.htm\">Products linked to CNX Nifty Index</a></li>\\n<li><a rel=\"nofollow\" class=\"external text\" href=\"http://www.nseindia.com/products/content/equities/indices/historical_index_data.htm\">Historical CNX Nifty Index values</a></li>\\n<li><a rel=\"nofollow\" class=\"external text\" href=\"https://www.bloomberg.com/apps/quote?ticker=NIFTY:IND\">Bloomberg page for NIFTY:IND</a></li>\\n<li><a rel=\"nofollow\" class=\"external text\" href=\"https://www.nseindia.com/products/content/equities/indices/nifty_50.htm\">NSE official site</a></li>\\n<li><a rel=\"nofollow\" class=\"external text\" href=\"https://www.moneyworks4me.com/best-index/nse-stocks/top-nifty50-companies-list\">MoneyWorks4me page for Nifty 50 Fundamental Analysis</a></li></ul>\\n<div role=\"navigation\" class=\"navbox\" aria-labelledby=\"Major_Asian_stock_market_indices\" style=\"padding:3px\"><table class=\"nowraplinks mw-collapsible autocollapse navbox-inner\" style=\"border-spacing:0;background:transparent;color:inherit\"><tbody><tr><th scope=\"col\" class=\"navbox-title\" colspan=\"2\"><div class=\"plainlinks hlist navbar mini\"><ul><li class=\"nv-view\"><a href=\"/wiki/Template:Asian_Stock_market_indices\" title=\"Template:Asian Stock market indices\"><abbr title=\"View this template\" style=\";;background:none transparent;border:none;-moz-box-shadow:none;-webkit-box-shadow:none;box-shadow:none; padding:0;\">v</abbr></a></li><li class=\"nv-talk\"><a href=\"/wiki/Template_talk:Asian_Stock_market_indices\" title=\"Template talk:Asian Stock market indices\"><abbr title=\"Discuss this template\" style=\";;background:none transparent;border:none;-moz-box-shadow:none;-webkit-box-shadow:none;box-shadow:none; padding:0;\">t</abbr></a></li><li class=\"nv-edit\"><a class=\"external text\" href=\"https://en.wikipedia.org/w/index.php?title=Template:Asian_Stock_market_indices&amp;action=edit\"><abbr title=\"Edit this template\" style=\";;background:none transparent;border:none;-moz-box-shadow:none;-webkit-box-shadow:none;box-shadow:none; padding:0;\">e</abbr></a></li></ul></div><div id=\"Major_Asian_stock_market_indices\" style=\"font-size:114%;margin:0 4em\">Major Asian <a href=\"/wiki/Stock_market_index\" title=\"Stock market index\">stock market indices</a></div></th></tr><tr><th scope=\"row\" class=\"navbox-group\" style=\"width:1%\">East Asia</th><td class=\"navbox-list navbox-odd hlist\" style=\"text-align:left;border-left-width:2px;border-left-style:solid;width:100%;padding:0px\"><div style=\"padding:0em 0.25em\">\\n<ul><li><a href=\"/wiki/CSI_300_Index\" title=\"CSI 300 Index\">CSI 300</a></li>\\n<li><a href=\"/wiki/Hang_Seng_Index\" title=\"Hang Seng Index\">Hang Seng</a></li>\\n<li><a href=\"/wiki/KOSPI\" title=\"KOSPI\">KOSPI</a></li>\\n<li><a href=\"/wiki/Nikkei_225\" title=\"Nikkei 225\">Nikkei 225</a></li>\\n<li><a href=\"/wiki/SSE_Composite_Index\" title=\"SSE Composite Index\">SSE Composite</a></li>\\n<li><a href=\"/wiki/SZSE_Component_Index\" title=\"SZSE Component Index\">SZSE Component</a></li>\\n<li><a href=\"/wiki/Taiwan_Capitalization_Weighted_Stock_Index\" title=\"Taiwan Capitalization Weighted Stock Index\">Taiwan Weighted</a></li>\\n<li><a href=\"/wiki/TOPIX\" title=\"TOPIX\">TOPIX</a></li></ul>\\n</div></td></tr><tr><th scope=\"row\" class=\"navbox-group\" style=\"width:1%\">South Asia</th><td class=\"navbox-list navbox-even hlist\" style=\"text-align:left;border-left-width:2px;border-left-style:solid;width:100%;padding:0px\"><div style=\"padding:0em 0.25em\">\\n<ul><li><a href=\"/wiki/BSE_SENSEX\" title=\"BSE SENSEX\">BSE SENSEX</a></li>\\n<li><a class=\"mw-selflink selflink\">CNX Nifty</a></li>\\n<li><a href=\"/wiki/KSE_100_Index\" title=\"KSE 100 Index\">KSE 100</a></li></ul>\\n</div></td></tr><tr><th scope=\"row\" class=\"navbox-group\" style=\"width:1%\">Southeast Asia</th><td class=\"navbox-list navbox-odd hlist\" style=\"text-align:left;border-left-width:2px;border-left-style:solid;width:100%;padding:0px\"><div style=\"padding:0em 0.25em\">\\n<ul><li><a href=\"/wiki/IDX_Composite\" title=\"IDX Composite\">IDX Composite</a></li>\\n<li><a href=\"/wiki/Kuala_Lumpur_Composite_Index\" class=\"mw-redirect\" title=\"Kuala Lumpur Composite Index\">KLCI</a></li>\\n<li><a href=\"/wiki/PSE_Composite_Index\" title=\"PSE Composite Index\">PSEi</a></li>\\n<li><a href=\"/wiki/Straits_Times_Index\" title=\"Straits Times Index\">STI</a></li>\\n<li><a href=\"/wiki/SET_Index\" title=\"SET Index\">SET Index</a> (<a href=\"/wiki/SET50_Index_and_SET100_Index\" title=\"SET50 Index and SET100 Index\">SET50/SET100</a>)</li></ul>\\n</div></td></tr><tr><th scope=\"row\" class=\"navbox-group\" style=\"width:1%\">Western Asia</th><td class=\"navbox-list navbox-even hlist\" style=\"text-align:left;border-left-width:2px;border-left-style:solid;width:100%;padding:0px\"><div style=\"padding:0em 0.25em\">\\n<ul><li><a href=\"/wiki/ASE_Market_Capitalization_Weighted_Index\" title=\"ASE Market Capitalization Weighted Index\">ASE Weighted</a></li>\\n<li><a href=\"/wiki/Dubai_Financial_Market\" title=\"Dubai Financial Market\">DFM Index</a></li>\\n<li><a href=\"/wiki/Tadawul\" title=\"Tadawul\">TASI</a></li>\\n<li><a href=\"/wiki/TA-125_Index\" title=\"TA-125 Index\">TA-125</a></li>\\n<li><a href=\"/wiki/Tehran_Stock_Exchange\" title=\"Tehran Stock Exchange\">TSE</a></li></ul>\\n</div></td></tr></tbody></table></div>\\n<!-- \\nNewPP limit report\\nParsed by mw1359\\nCached time: 20200505191518\\nCache expiry: 2592000\\nDynamic content: false\\nComplications: [vary‐revision‐sha1]\\nCPU time usage: 0.308 seconds\\nReal time usage: 0.405 seconds\\nPreprocessor visited node count: 1400/1000000\\nPost‐expand include size: 35799/2097152 bytes\\nTemplate argument size: 899/2097152 bytes\\nHighest expansion depth: 13/40\\nExpensive parser function count: 2/500\\nUnstrip recursion depth: 1/20\\nUnstrip post‐expand size: 59951/5000000 bytes\\nNumber of Wikibase entities loaded: 0/400\\nLua time usage: 0.132/10.000 seconds\\nLua memory usage: 4.51 MB/50 MB\\n-->\\n<!--\\nTransclusion expansion time report (%,ms,calls,template)\\n100.00%  307.568      1 -total\\n 48.54%  149.288      1 Template:Reflist\\n 38.38%  118.035     12 Template:Cite_web\\n 18.02%   55.426      1 Template:Infobox_financial_index\\n 16.73%   51.468      1 Template:Infobox\\n 10.13%   31.147      1 Template:Otheruses\\n  9.08%   27.928      1 Template:Use_Indian_English\\n  7.52%   23.144      2 Template:DMCA\\n  6.52%   20.060      2 Template:Dated_maintenance_category\\n  5.29%   16.270      1 Template:Use_dmy_dates\\n-->\\n\\n<!-- Saved in parser cache with key enwiki:pcache:idhash:1328813-0!canonical and timestamp 20200505191523 and revision id 955061512\\n -->\\n</div><noscript><img src=\"//en.wikipedia.org/wiki/Special:CentralAutoLogin/start?type=1x1\" alt=\"\" title=\"\" width=\"1\" height=\"1\" style=\"border: none; position: absolute;\" /></noscript></div>\\n\\t\\t<div class=\"printfooter\">Retrieved from \"<a dir=\"ltr\" href=\"https://en.wikipedia.org/w/index.php?title=NIFTY_50&amp;oldid=955061512\">https://en.wikipedia.org/w/index.php?title=NIFTY_50&amp;oldid=955061512</a>\"</div>\\n\\t\\t<div id=\"catlinks\" class=\"catlinks\" data-mw=\"interface\"><div id=\"mw-normal-catlinks\" class=\"mw-normal-catlinks\"><a href=\"/wiki/Help:Category\" title=\"Help:Category\">Categories</a>: <ul><li><a href=\"/wiki/Category:Indian_stock_market_indices\" title=\"Category:Indian stock market indices\">Indian stock market indices</a></li><li><a href=\"/wiki/Category:National_Stock_Exchange_of_India\" title=\"Category:National Stock Exchange of India\">National Stock Exchange of India</a></li></ul></div><div id=\"mw-hidden-catlinks\" class=\"mw-hidden-catlinks mw-hidden-cats-hidden\">Hidden categories: <ul><li><a href=\"/wiki/Category:Use_Indian_English_from_June_2019\" title=\"Category:Use Indian English from June 2019\">Use Indian English from June 2019</a></li><li><a href=\"/wiki/Category:All_Wikipedia_articles_written_in_Indian_English\" title=\"Category:All Wikipedia articles written in Indian English\">All Wikipedia articles written in Indian English</a></li><li><a href=\"/wiki/Category:Use_dmy_dates_from_June_2019\" title=\"Category:Use dmy dates from June 2019\">Use dmy dates from June 2019</a></li></ul></div></div>\\n\\t\\t<div class=\"visualClear\"></div>\\n\\t\\t\\n\\t</div>\\n</div>\\n<div id=\\'mw-data-after-content\\'>\\n\\t<div class=\"read-more-container\"></div>\\n</div>\\n\\n<div id=\"mw-navigation\">\\n\\t<h2>Navigation menu</h2>\\n\\t<div id=\"mw-head\">\\n\\t\\t\\n<div id=\"p-personal\" role=\"navigation\" class=\"\" aria-labelledby=\"p-personal-label\">\\n\\t<h3 id=\"p-personal-label\">Personal tools</h3>\\n\\t<ul >\\n\\t\\t<li id=\"pt-anonuserpage\">Not logged in</li><li id=\"pt-anontalk\"><a href=\"/wiki/Special:MyTalk\" title=\"Discussion about edits from this IP address [n]\" accesskey=\"n\">Talk</a></li><li id=\"pt-anoncontribs\"><a href=\"/wiki/Special:MyContributions\" title=\"A list of edits made from this IP address [y]\" accesskey=\"y\">Contributions</a></li><li id=\"pt-createaccount\"><a href=\"/w/index.php?title=Special:CreateAccount&amp;returnto=NIFTY+50\" title=\"You are encouraged to create an account and log in; however, it is not mandatory\">Create account</a></li><li id=\"pt-login\"><a href=\"/w/index.php?title=Special:UserLogin&amp;returnto=NIFTY+50\" title=\"You&#039;re encouraged to log in; however, it&#039;s not mandatory. [o]\" accesskey=\"o\">Log in</a></li>\\n\\t</ul>\\n</div>\\n\\n\\t\\t<div id=\"left-navigation\">\\n\\t\\t\\t<div id=\"p-namespaces\" role=\"navigation\" class=\"vectorTabs\" aria-labelledby=\"p-namespaces-label\">\\n\\t<h3 id=\"p-namespaces-label\">Namespaces</h3>\\n\\t<ul >\\n\\t\\t<li id=\"ca-nstab-main\" class=\"selected\"><a href=\"/wiki/NIFTY_50\" title=\"View the content page [c]\" accesskey=\"c\">Article</a></li><li id=\"ca-talk\"><a href=\"/wiki/Talk:NIFTY_50\" rel=\"discussion\" title=\"Discuss improvements to the content page [t]\" accesskey=\"t\">Talk</a></li>\\n\\t</ul>\\n</div>\\n\\n\\t\\t\\t<div id=\"p-variants\" role=\"navigation\" class=\"emptyPortlet vectorMenu\" aria-labelledby=\"p-variants-label\">\\n\\t<input type=\"checkbox\" class=\"vectorMenuCheckbox\" aria-labelledby=\"p-variants-label\" />\\n\\t<h3 id=\"p-variants-label\">\\n\\t\\t<span>Variants</span>\\n\\t</h3>\\n\\t<ul class=\"menu\" >\\n\\t\\t\\n\\t</ul>\\n</div>\\n\\n\\t\\t</div>\\n\\t\\t<div id=\"right-navigation\">\\n\\t\\t\\t<div id=\"p-views\" role=\"navigation\" class=\"vectorTabs\" aria-labelledby=\"p-views-label\">\\n\\t<h3 id=\"p-views-label\">Views</h3>\\n\\t<ul >\\n\\t\\t<li id=\"ca-view\" class=\"collapsible selected\"><a href=\"/wiki/NIFTY_50\">Read</a></li><li id=\"ca-edit\" class=\"collapsible\"><a href=\"/w/index.php?title=NIFTY_50&amp;action=edit\" title=\"Edit this page [e]\" accesskey=\"e\">Edit</a></li><li id=\"ca-history\" class=\"collapsible\"><a href=\"/w/index.php?title=NIFTY_50&amp;action=history\" title=\"Past revisions of this page [h]\" accesskey=\"h\">View history</a></li>\\n\\t</ul>\\n</div>\\n\\n\\t\\t\\t<div id=\"p-cactions\" role=\"navigation\" class=\"emptyPortlet vectorMenu\" aria-labelledby=\"p-cactions-label\">\\n\\t<input type=\"checkbox\" class=\"vectorMenuCheckbox\" aria-labelledby=\"p-cactions-label\" />\\n\\t<h3 id=\"p-cactions-label\">\\n\\t\\t<span>More</span>\\n\\t</h3>\\n\\t<ul class=\"menu\" >\\n\\t\\t\\n\\t</ul>\\n</div>\\n\\n\\t\\t\\t<div id=\"p-search\" role=\"search\">\\n\\t<h3 >\\n\\t\\t<label for=\"searchInput\">Search</label>\\n\\t</h3>\\n\\t<form action=\"/w/index.php\" id=\"searchform\">\\n\\t\\t<div id=\"simpleSearch\">\\n\\t\\t\\t<input type=\"search\" name=\"search\" placeholder=\"Search Wikipedia\" title=\"Search Wikipedia [f]\" accesskey=\"f\" id=\"searchInput\"/>\\n\\t\\t\\t<input type=\"hidden\" value=\"Special:Search\" name=\"title\"/>\\n\\t\\t\\t<input type=\"submit\" name=\"fulltext\" value=\"Search\" title=\"Search Wikipedia for this text\" id=\"mw-searchButton\" class=\"searchButton mw-fallbackSearchButton\"/>\\n\\t\\t\\t<input type=\"submit\" name=\"go\" value=\"Go\" title=\"Go to a page with this exact name if it exists\" id=\"searchButton\" class=\"searchButton\"/>\\n\\t\\t</div>\\n\\t</form>\\n</div>\\n\\n\\t\\t</div>\\n\\t</div>\\n\\t\\n<div id=\"mw-panel\">\\n\\t<div id=\"p-logo\" role=\"banner\">\\n\\t\\t<a  title=\"Visit the main page\" class=\"mw-wiki-logo\" href=\"/wiki/Main_Page\"></a>\\n\\t</div>\\n\\t<div class=\"portal portal-first\" role=\"navigation\" id=\"p-navigation\"  aria-labelledby=\"p-navigation-label\">\\n\\t<h3  id=\"p-navigation-label\">\\n\\t\\tNavigation\\n\\t</h3>\\n\\t<div class=\"body\">\\n\\t\\t<ul><li id=\"n-mainpage-description\"><a href=\"/wiki/Main_Page\" title=\"Visit the main page [z]\" accesskey=\"z\">Main page</a></li><li id=\"n-contents\"><a href=\"/wiki/Wikipedia:Contents\" title=\"Guides to browsing Wikipedia\">Contents</a></li><li id=\"n-featuredcontent\"><a href=\"/wiki/Wikipedia:Featured_content\" title=\"Featured content – the best of Wikipedia\">Featured content</a></li><li id=\"n-currentevents\"><a href=\"/wiki/Portal:Current_events\" title=\"Find background information on current events\">Current events</a></li><li id=\"n-randompage\"><a href=\"/wiki/Special:Random\" title=\"Load a random article [x]\" accesskey=\"x\">Random article</a></li><li id=\"n-sitesupport\"><a href=\"https://donate.wikimedia.org/wiki/Special:FundraiserRedirector?utm_source=donate&amp;utm_medium=sidebar&amp;utm_campaign=C13_en.wikipedia.org&amp;uselang=en\" title=\"Support us\">Donate to Wikipedia</a></li><li id=\"n-shoplink\"><a href=\"//shop.wikimedia.org\" title=\"Visit the Wikipedia store\">Wikipedia store</a></li></ul>\\n\\t\\t\\n\\t</div>\\n</div>\\n\\n\\n\\t<div class=\"portal\" role=\"navigation\" id=\"p-interaction\"  aria-labelledby=\"p-interaction-label\">\\n\\t<h3  id=\"p-interaction-label\">\\n\\t\\tInteraction\\n\\t</h3>\\n\\t<div class=\"body\">\\n\\t\\t<ul><li id=\"n-help\"><a href=\"/wiki/Help:Contents\" title=\"Guidance on how to use and edit Wikipedia\">Help</a></li><li id=\"n-aboutsite\"><a href=\"/wiki/Wikipedia:About\" title=\"Find out about Wikipedia\">About Wikipedia</a></li><li id=\"n-portal\"><a href=\"/wiki/Wikipedia:Community_portal\" title=\"About the project, what you can do, where to find things\">Community portal</a></li><li id=\"n-recentchanges\"><a href=\"/wiki/Special:RecentChanges\" title=\"A list of recent changes in the wiki [r]\" accesskey=\"r\">Recent changes</a></li><li id=\"n-contactpage\"><a href=\"//en.wikipedia.org/wiki/Wikipedia:Contact_us\" title=\"How to contact Wikipedia\">Contact page</a></li></ul>\\n\\t\\t\\n\\t</div>\\n</div>\\n\\n<div class=\"portal\" role=\"navigation\" id=\"p-tb\"  aria-labelledby=\"p-tb-label\">\\n\\t<h3  id=\"p-tb-label\">\\n\\t\\tTools\\n\\t</h3>\\n\\t<div class=\"body\">\\n\\t\\t<ul><li id=\"t-whatlinkshere\"><a href=\"/wiki/Special:WhatLinksHere/NIFTY_50\" title=\"List of all English Wikipedia pages containing links to this page [j]\" accesskey=\"j\">What links here</a></li><li id=\"t-recentchangeslinked\"><a href=\"/wiki/Special:RecentChangesLinked/NIFTY_50\" rel=\"nofollow\" title=\"Recent changes in pages linked from this page [k]\" accesskey=\"k\">Related changes</a></li><li id=\"t-upload\"><a href=\"/wiki/Wikipedia:File_Upload_Wizard\" title=\"Upload files [u]\" accesskey=\"u\">Upload file</a></li><li id=\"t-specialpages\"><a href=\"/wiki/Special:SpecialPages\" title=\"A list of all special pages [q]\" accesskey=\"q\">Special pages</a></li><li id=\"t-permalink\"><a href=\"/w/index.php?title=NIFTY_50&amp;oldid=955061512\" title=\"Permanent link to this revision of the page\">Permanent link</a></li><li id=\"t-info\"><a href=\"/w/index.php?title=NIFTY_50&amp;action=info\" title=\"More information about this page\">Page information</a></li><li id=\"t-wikibase\"><a href=\"https://www.wikidata.org/wiki/Special:EntityPage/Q1853402\" title=\"Link to connected data repository item [g]\" accesskey=\"g\">Wikidata item</a></li><li id=\"t-cite\"><a href=\"/w/index.php?title=Special:CiteThisPage&amp;page=NIFTY_50&amp;id=955061512&amp;wpFormIdentifier=titleform\" title=\"Information on how to cite this page\">Cite this page</a></li></ul>\\n\\t\\t\\n\\t</div>\\n</div>\\n\\n<div class=\"portal\" role=\"navigation\" id=\"p-coll-print_export\"  aria-labelledby=\"p-coll-print_export-label\">\\n\\t<h3  id=\"p-coll-print_export-label\">\\n\\t\\tPrint/export\\n\\t</h3>\\n\\t<div class=\"body\">\\n\\t\\t<ul><li id=\"coll-create_a_book\"><a href=\"/w/index.php?title=Special:Book&amp;bookcmd=book_creator&amp;referer=NIFTY+50\">Create a book</a></li><li id=\"coll-download-as-rl\"><a href=\"/w/index.php?title=Special:ElectronPdf&amp;page=NIFTY+50&amp;action=show-download-screen\">Download as PDF</a></li><li id=\"t-print\"><a href=\"/w/index.php?title=NIFTY_50&amp;printable=yes\" title=\"Printable version of this page [p]\" accesskey=\"p\">Printable version</a></li></ul>\\n\\t\\t\\n\\t</div>\\n</div>\\n\\n<div class=\"portal\" role=\"navigation\" id=\"p-lang\"  aria-labelledby=\"p-lang-label\">\\n\\t<h3  id=\"p-lang-label\">\\n\\t\\tLanguages\\n\\t</h3>\\n\\t<div class=\"body\">\\n\\t\\t<ul><li class=\"interlanguage-link interwiki-de\"><a href=\"https://de.wikipedia.org/wiki/S%26P_CNX_Nifty\" title=\"S&amp;P CNX Nifty – German\" lang=\"de\" hreflang=\"de\" class=\"interlanguage-link-target\">Deutsch</a></li><li class=\"interlanguage-link interwiki-es\"><a href=\"https://es.wikipedia.org/wiki/NIFTY_50\" title=\"NIFTY 50 – Spanish\" lang=\"es\" hreflang=\"es\" class=\"interlanguage-link-target\">Español</a></li><li class=\"interlanguage-link interwiki-fr\"><a href=\"https://fr.wikipedia.org/wiki/S%26P_CNX_Nifty\" title=\"S&amp;P CNX Nifty – French\" lang=\"fr\" hreflang=\"fr\" class=\"interlanguage-link-target\">Français</a></li><li class=\"interlanguage-link interwiki-hi\"><a href=\"https://hi.wikipedia.org/wiki/%E0%A4%A8%E0%A4%BF%E0%A4%AB%E0%A4%BC%E0%A5%8D%E0%A4%9F%E0%A5%80_50\" title=\"निफ़्टी 50 – Hindi\" lang=\"hi\" hreflang=\"hi\" class=\"interlanguage-link-target\">हिन्दी</a></li><li class=\"interlanguage-link interwiki-id\"><a href=\"https://id.wikipedia.org/wiki/S%26P_CNX_Nifty\" title=\"S&amp;P CNX Nifty – Indonesian\" lang=\"id\" hreflang=\"id\" class=\"interlanguage-link-target\">Bahasa Indonesia</a></li><li class=\"interlanguage-link interwiki-ms\"><a href=\"https://ms.wikipedia.org/wiki/NIFTY_50\" title=\"NIFTY 50 – Malay\" lang=\"ms\" hreflang=\"ms\" class=\"interlanguage-link-target\">Bahasa Melayu</a></li><li class=\"interlanguage-link interwiki-pl\"><a href=\"https://pl.wikipedia.org/wiki/S%26P_CNX_Nifty\" title=\"S&amp;P CNX Nifty – Polish\" lang=\"pl\" hreflang=\"pl\" class=\"interlanguage-link-target\">Polski</a></li><li class=\"interlanguage-link interwiki-fi\"><a href=\"https://fi.wikipedia.org/wiki/CNX_Nifty\" title=\"CNX Nifty – Finnish\" lang=\"fi\" hreflang=\"fi\" class=\"interlanguage-link-target\">Suomi</a></li><li class=\"interlanguage-link interwiki-ta\"><a href=\"https://ta.wikipedia.org/wiki/%E0%AE%A8%E0%AE%BF%E0%AE%AA%E0%AF%8D%E0%AE%9F%E0%AF%8D%E0%AE%9F%E0%AE%BF\" title=\"நிப்ட்டி – Tamil\" lang=\"ta\" hreflang=\"ta\" class=\"interlanguage-link-target\">தமிழ்</a></li><li class=\"interlanguage-link interwiki-te\"><a href=\"https://te.wikipedia.org/wiki/%E0%B0%A8%E0%B0%BF%E0%B0%AB%E0%B1%8D%E0%B0%9F%E0%B1%80\" title=\"నిఫ్టీ – Telugu\" lang=\"te\" hreflang=\"te\" class=\"interlanguage-link-target\">తెలుగు</a></li></ul>\\n\\t\\t<div class=\"after-portlet after-portlet-lang\"><span class=\"wb-langlinks-edit wb-langlinks-link\"><a href=\"https://www.wikidata.org/wiki/Special:EntityPage/Q1853402#sitelinks-wikipedia\" title=\"Edit interlanguage links\" class=\"wbc-editpage\">Edit links</a></span></div>\\n\\t</div>\\n</div>\\n\\n\\n</div>\\n\\n</div>\\n\\n<div id=\"footer\" class=\"mw-footer\" role=\"contentinfo\" >\\n\\t<ul id=\"footer-info\" class=\"\">\\n\\t\\t<li id=\"footer-info-lastmod\"> This page was last edited on 5 May 2020, at 19:15<span class=\"anonymous-show\">&#160;(UTC)</span>.</li>\\n\\t\\t<li id=\"footer-info-copyright\">Text is available under the <a rel=\"license\" href=\"//en.wikipedia.org/wiki/Wikipedia:Text_of_Creative_Commons_Attribution-ShareAlike_3.0_Unported_License\">Creative Commons Attribution-ShareAlike License</a><a rel=\"license\" href=\"//creativecommons.org/licenses/by-sa/3.0/\" style=\"display:none;\"></a>;\\nadditional terms may apply.  By using this site, you agree to the <a href=\"//foundation.wikimedia.org/wiki/Terms_of_Use\">Terms of Use</a> and <a href=\"//foundation.wikimedia.org/wiki/Privacy_policy\">Privacy Policy</a>. Wikipedia® is a registered trademark of the <a href=\"//www.wikimediafoundation.org/\">Wikimedia Foundation, Inc.</a>, a non-profit organization.</li>\\n\\t</ul>\\n\\t<ul id=\"footer-places\" class=\"\">\\n\\t\\t<li id=\"footer-places-privacy\"><a href=\"https://foundation.wikimedia.org/wiki/Privacy_policy\" class=\"extiw\" title=\"wmf:Privacy policy\">Privacy policy</a></li>\\n\\t\\t<li id=\"footer-places-about\"><a href=\"/wiki/Wikipedia:About\" title=\"Wikipedia:About\">About Wikipedia</a></li>\\n\\t\\t<li id=\"footer-places-disclaimer\"><a href=\"/wiki/Wikipedia:General_disclaimer\" title=\"Wikipedia:General disclaimer\">Disclaimers</a></li>\\n\\t\\t<li id=\"footer-places-contact\"><a href=\"//en.wikipedia.org/wiki/Wikipedia:Contact_us\">Contact Wikipedia</a></li>\\n\\t\\t<li id=\"footer-places-developers\"><a href=\"https://www.mediawiki.org/wiki/Special:MyLanguage/How_to_contribute\">Developers</a></li>\\n\\t\\t<li id=\"footer-places-statslink\"><a href=\"https://stats.wikimedia.org/#/en.wikipedia.org\">Statistics</a></li>\\n\\t\\t<li id=\"footer-places-cookiestatement\"><a href=\"https://foundation.wikimedia.org/wiki/Cookie_statement\">Cookie statement</a></li>\\n\\t\\t<li id=\"footer-places-mobileview\"><a href=\"//en.m.wikipedia.org/w/index.php?title=NIFTY_50&amp;mobileaction=toggle_view_mobile\" class=\"noprint stopMobileRedirectToggle\">Mobile view</a></li>\\n\\t</ul>\\n\\t<ul id=\"footer-icons\" class=\"noprint\">\\n\\t\\t<li id=\"footer-copyrightico\"><a href=\"https://wikimediafoundation.org/\"><img src=\"/static/images/wikimedia-button.png\" srcset=\"/static/images/wikimedia-button-1.5x.png 1.5x, /static/images/wikimedia-button-2x.png 2x\" width=\"88\" height=\"31\" alt=\"Wikimedia Foundation\"/></a></li>\\n\\t\\t<li id=\"footer-poweredbyico\"><a href=\"https://www.mediawiki.org/\"><img src=\"/static/images/poweredby_mediawiki_88x31.png\" alt=\"Powered by MediaWiki\" srcset=\"/static/images/poweredby_mediawiki_132x47.png 1.5x, /static/images/poweredby_mediawiki_176x62.png 2x\" width=\"88\" height=\"31\"/></a></li>\\n\\t</ul>\\n\\t<div style=\"clear: both;\"></div>\\n</div>\\n\\n\\n<script>(RLQ=window.RLQ||[]).push(function(){mw.config.set({\"wgPageParseReport\":{\"limitreport\":{\"cputime\":\"0.308\",\"walltime\":\"0.405\",\"ppvisitednodes\":{\"value\":1400,\"limit\":1000000},\"postexpandincludesize\":{\"value\":35799,\"limit\":2097152},\"templateargumentsize\":{\"value\":899,\"limit\":2097152},\"expansiondepth\":{\"value\":13,\"limit\":40},\"expensivefunctioncount\":{\"value\":2,\"limit\":500},\"unstrip-depth\":{\"value\":1,\"limit\":20},\"unstrip-size\":{\"value\":59951,\"limit\":5000000},\"entityaccesscount\":{\"value\":0,\"limit\":400},\"timingprofile\":[\"100.00%  307.568      1 -total\",\" 48.54%  149.288      1 Template:Reflist\",\" 38.38%  118.035     12 Template:Cite_web\",\" 18.02%   55.426      1 Template:Infobox_financial_index\",\" 16.73%   51.468      1 Template:Infobox\",\" 10.13%   31.147      1 Template:Otheruses\",\"  9.08%   27.928      1 Template:Use_Indian_English\",\"  7.52%   23.144      2 Template:DMCA\",\"  6.52%   20.060      2 Template:Dated_maintenance_category\",\"  5.29%   16.270      1 Template:Use_dmy_dates\"]},\"scribunto\":{\"limitreport-timeusage\":{\"value\":\"0.132\",\"limit\":\"10.000\"},\"limitreport-memusage\":{\"value\":4724906,\"limit\":52428800}},\"cachereport\":{\"origin\":\"mw1359\",\"timestamp\":\"20200505191518\",\"ttl\":2592000,\"transientcontent\":false}}});});</script>\\n<script type=\"application/ld+json\">{\"@context\":\"https:\\\\/\\\\/schema.org\",\"@type\":\"Article\",\"name\":\"NIFTY 50\",\"url\":\"https:\\\\/\\\\/en.wikipedia.org\\\\/wiki\\\\/NIFTY_50\",\"sameAs\":\"http:\\\\/\\\\/www.wikidata.org\\\\/entity\\\\/Q1853402\",\"mainEntity\":\"http:\\\\/\\\\/www.wikidata.org\\\\/entity\\\\/Q1853402\",\"author\":{\"@type\":\"Organization\",\"name\":\"Contributors to Wikimedia projects\"},\"publisher\":{\"@type\":\"Organization\",\"name\":\"Wikimedia Foundation, Inc.\",\"logo\":{\"@type\":\"ImageObject\",\"url\":\"https:\\\\/\\\\/www.wikimedia.org\\\\/static\\\\/images\\\\/wmf-hor-googpub.png\"}},\"datePublished\":\"2004-12-26T17:17:55Z\",\"dateModified\":\"2020-05-05T19:15:23Z\",\"image\":\"https:\\\\/\\\\/upload.wikimedia.org\\\\/wikipedia\\\\/en\\\\/9\\\\/92\\\\/NIFTY_50_logo.png\",\"headline\":\"Indian stock market and benchmark index\"}</script>\\n<script>(RLQ=window.RLQ||[]).push(function(){mw.config.set({\"wgBackendResponseTime\":90,\"wgHostname\":\"mw1395\"});});</script></body></html>\\n'"
            ]
          },
          "metadata": {
            "tags": []
          },
          "execution_count": 7
        }
      ]
    },
    {
      "cell_type": "code",
      "metadata": {
        "id": "cWDcvd21qQlf",
        "colab_type": "code",
        "colab": {}
      },
      "source": [
        "\n",
        "companylist = {'companies':[],\n",
        "               'symbol':[],\n",
        "               'sector':[]}\n"
      ],
      "execution_count": 0,
      "outputs": []
    },
    {
      "cell_type": "code",
      "metadata": {
        "id": "FR3ia1zNZwFc",
        "colab_type": "code",
        "colab": {}
      },
      "source": [
        "\n",
        "indicators = {'Previous Close':[],\n",
        "             'Open':[],\n",
        "             'Bid':[],\n",
        "             'Ask':[],\n",
        "             \"Day&#x27;s Range\":[],\n",
        "             '52 Week Range':[],\n",
        "             'Volume':[],\n",
        "             'Avg. Volume':[],\n",
        "             'Market Cap':[],\n",
        "             'Beta (5Y Monthly)':[],\n",
        "             'PE Ratio (TTM)':[],\n",
        "             'EPS (TTM)':[],\n",
        "             'Earnings Date':[],\n",
        "             'Forward Dividend &amp; Yield':[],\n",
        "             'Ex-Dividend Date':[],\n",
        "             '1y Target Est':[]}\n"
      ],
      "execution_count": 0,
      "outputs": []
    },
    {
      "cell_type": "code",
      "metadata": {
        "id": "ommJ7kYIEpqn",
        "colab_type": "code",
        "colab": {}
      },
      "source": [
        "firstsplit = htmltextwiki.split('Major single day falls')[1]\n",
        "#print(firstsplit)\n",
        "secondsplit = firstsplit.split('List of 50 companies that form part of NIFTY 50 Index as on 17 November 2019:')[1]\n",
        "#print(secondsplit)\n",
        "thirdsplit = secondsplit.split(\"<td>\")\n",
        "#print(thirdsplit)\n",
        "#print(thirdsplit.split(\"</td>\"))\n",
        "\n",
        "for i in range(1,151):\n",
        "  if i%3 == 1: #0,3,6\n",
        "    companylist['companies'].append(thirdsplit[i].split('\">')[1].split('</a>')[0])\n",
        "  if i%3 == 2:\n",
        "    companylist['symbol'].append(thirdsplit[i].split('</td>')[0])\n",
        "  if i%3 == 0:\n",
        "    companylist['sector'].append(thirdsplit[i].split('</td>')[0])\n",
        "\n",
        "#df = pd.DataFrame(companylist)\n",
        "\n",
        "    \n"
      ],
      "execution_count": 0,
      "outputs": []
    },
    {
      "cell_type": "code",
      "metadata": {
        "id": "uYTCDbpUOdNv",
        "colab_type": "code",
        "outputId": "d20138b1-4c47-4444-c23c-08c11e261b1f",
        "colab": {
          "base_uri": "https://localhost:8080/",
          "height": 72
        }
      },
      "source": [
        "for key, value in companylist.items():\n",
        "\tprint(key, len(value))"
      ],
      "execution_count": 11,
      "outputs": [
        {
          "output_type": "stream",
          "text": [
            "companies 50\n",
            "symbol 50\n",
            "sector 50\n"
          ],
          "name": "stdout"
        }
      ]
    },
    {
      "cell_type": "code",
      "metadata": {
        "id": "e_jgswh-qlmX",
        "colab_type": "code",
        "outputId": "48bd5929-4ce7-4fc8-e546-3fdf10a7740e",
        "colab": {
          "base_uri": "https://localhost:8080/",
          "height": 925
        }
      },
      "source": [
        "exp = ['52 Week Range','Ask','Bid','Day&#x27;s Range','Earnings Date','Forward Dividend &amp; Yield']\n",
        "for company in companylist['symbol']:\n",
        "\n",
        "  url = 'https://finance.yahoo.com/quote/'+company\n",
        "  print(url)\n",
        "  request = requests.get(url)\n",
        "  htmltext = request.text\n",
        "  \n",
        "  \n",
        "  for indicator in indicators:\n",
        "    #print(url)\n",
        "    try:\n",
        "      #print(indicator)\n",
        "      firstsplit = htmltext.split(indicator)\n",
        "      secondsplit = firstsplit[1].split(\"\\\">\")\n",
        "      if indicator in exp:\n",
        "        thirdsplit = secondsplit[1].split(\"</td>\")\n",
        "      else:\n",
        "        thirdsplit = secondsplit[2].split(\"</span>\")\n",
        "      data = thirdsplit[0]\n",
        "      indicators[indicator].append(data)\n",
        "    except:\n",
        "      indicators[indicator].append('NA')\n",
        "\n",
        "\n",
        "#print(indicators)"
      ],
      "execution_count": 12,
      "outputs": [
        {
          "output_type": "stream",
          "text": [
            "https://finance.yahoo.com/quote/ADANIPORTS.NS\n",
            "https://finance.yahoo.com/quote/ASIANPAINT.NS\n",
            "https://finance.yahoo.com/quote/AXISBANK.NS\n",
            "https://finance.yahoo.com/quote/BAJAJ-AUTO.NS\n",
            "https://finance.yahoo.com/quote/BAJFINANCE.NS\n",
            "https://finance.yahoo.com/quote/BAJAJFINSV.NS\n",
            "https://finance.yahoo.com/quote/BHARTIARTL.NS\n",
            "https://finance.yahoo.com/quote/INFRATEL.NS\n",
            "https://finance.yahoo.com/quote/BPCL.NS\n",
            "https://finance.yahoo.com/quote/BRITANNIA.NS\n",
            "https://finance.yahoo.com/quote/CIPLA.NS\n",
            "https://finance.yahoo.com/quote/COALINDIA.NS\n",
            "https://finance.yahoo.com/quote/DRREDDY.NS\n",
            "https://finance.yahoo.com/quote/EICHERMOT.NS\n",
            "https://finance.yahoo.com/quote/GAIL.NS\n",
            "https://finance.yahoo.com/quote/GRASIM.NS\n",
            "https://finance.yahoo.com/quote/HCLTECH.NS\n",
            "https://finance.yahoo.com/quote/HDFC.NS\n",
            "https://finance.yahoo.com/quote/HDFCBANK.NS\n",
            "https://finance.yahoo.com/quote/HEROMOTOCO.NS\n",
            "https://finance.yahoo.com/quote/HINDALCO.NS\n",
            "https://finance.yahoo.com/quote/HINDUNILVR.NS\n",
            "https://finance.yahoo.com/quote/ICICIBANK.NS\n",
            "https://finance.yahoo.com/quote/INDUSINDBK.NS\n",
            "https://finance.yahoo.com/quote/INFY.NS\n",
            "https://finance.yahoo.com/quote/IOC.NS\n",
            "https://finance.yahoo.com/quote/ITC.NS\n",
            "https://finance.yahoo.com/quote/JSWSTEEL.NS\n",
            "https://finance.yahoo.com/quote/KOTAKBANK.NS\n",
            "https://finance.yahoo.com/quote/LT.NS\n",
            "https://finance.yahoo.com/quote/M&amp;M.NS\n",
            "https://finance.yahoo.com/quote/MARUTI.NS\n",
            "https://finance.yahoo.com/quote/NESTLEIND.NS\n",
            "https://finance.yahoo.com/quote/NTPC.NS\n",
            "https://finance.yahoo.com/quote/ONGC.NS\n",
            "https://finance.yahoo.com/quote/POWERGRID.NS\n",
            "https://finance.yahoo.com/quote/RELIANCE.NS\n",
            "https://finance.yahoo.com/quote/SHREECEM.NS\n",
            "https://finance.yahoo.com/quote/SBIN.NS\n",
            "https://finance.yahoo.com/quote/SUNPHARMA.NS\n",
            "https://finance.yahoo.com/quote/TCS.NS\n",
            "https://finance.yahoo.com/quote/TATAMOTORS.NS\n",
            "https://finance.yahoo.com/quote/TATASTEEL.NS\n",
            "https://finance.yahoo.com/quote/TECHM.NS\n",
            "https://finance.yahoo.com/quote/TITAN.NS\n",
            "https://finance.yahoo.com/quote/ULTRACEMCO.NS\n",
            "https://finance.yahoo.com/quote/UPL.NS\n",
            "https://finance.yahoo.com/quote/VEDL.NS\n",
            "https://finance.yahoo.com/quote/WIPRO.NS\n",
            "https://finance.yahoo.com/quote/ZEEL.NS\n"
          ],
          "name": "stdout"
        }
      ]
    },
    {
      "cell_type": "code",
      "metadata": {
        "id": "SqMOlWIZKX6Q",
        "colab_type": "code",
        "colab": {}
      },
      "source": [
        "companylist.update(indicators)"
      ],
      "execution_count": 0,
      "outputs": []
    },
    {
      "cell_type": "code",
      "metadata": {
        "id": "J5EzFQG84b7g",
        "colab_type": "code",
        "outputId": "71fa7736-362a-4984-fcb1-340e7318fb91",
        "colab": {
          "base_uri": "https://localhost:8080/",
          "height": 362
        }
      },
      "source": [
        "for key, value in companylist.items():\n",
        "\tprint(key, len(value))"
      ],
      "execution_count": 14,
      "outputs": [
        {
          "output_type": "stream",
          "text": [
            "companies 50\n",
            "symbol 50\n",
            "sector 50\n",
            "Previous Close 50\n",
            "Open 50\n",
            "Bid 50\n",
            "Ask 50\n",
            "Day&#x27;s Range 50\n",
            "52 Week Range 50\n",
            "Volume 50\n",
            "Avg. Volume 50\n",
            "Market Cap 50\n",
            "Beta (5Y Monthly) 50\n",
            "PE Ratio (TTM) 50\n",
            "EPS (TTM) 50\n",
            "Earnings Date 50\n",
            "Forward Dividend &amp; Yield 50\n",
            "Ex-Dividend Date 50\n",
            "1y Target Est 50\n"
          ],
          "name": "stdout"
        }
      ]
    },
    {
      "cell_type": "code",
      "metadata": {
        "id": "eBtShnfl5cXD",
        "colab_type": "code",
        "outputId": "dd0545a2-8d8c-4489-b199-5e3f371d5ed0",
        "colab": {
          "base_uri": "https://localhost:8080/",
          "height": 925
        }
      },
      "source": [
        "companylist['Previous Close']"
      ],
      "execution_count": 15,
      "outputs": [
        {
          "output_type": "execute_result",
          "data": {
            "text/plain": [
              "['270.15',\n",
              " '1,610.65',\n",
              " '388.85',\n",
              " '2,471.85',\n",
              " '2,106.25',\n",
              " '4,692.90',\n",
              " '546.00',\n",
              " '160.90',\n",
              " '343.80',\n",
              " '2,987.70',\n",
              " '591.75',\n",
              " '133.75',\n",
              " '3,852.50',\n",
              " '13,859.95',\n",
              " '94.70',\n",
              " '482.40',\n",
              " '519.10',\n",
              " '1,732.15',\n",
              " '946.40',\n",
              " '2,026.75',\n",
              " '118.60',\n",
              " '2,010.20',\n",
              " '341.40',\n",
              " '425.50',\n",
              " '665.90',\n",
              " '76.55',\n",
              " '163.90',\n",
              " '165.80',\n",
              " '1,245.95',\n",
              " '837.30',\n",
              " 'NA',\n",
              " '4,843.25',\n",
              " '17,309.30',\n",
              " '94.70',\n",
              " '79.25',\n",
              " '165.40',\n",
              " '1,460.75',\n",
              " '18,741.90',\n",
              " '171.10',\n",
              " '454.40',\n",
              " '1,903.60',\n",
              " '83.20',\n",
              " '277.75',\n",
              " '506.85',\n",
              " '876.45',\n",
              " '3,324.40',\n",
              " '379.00',\n",
              " '79.45',\n",
              " '187.05',\n",
              " '152.65']"
            ]
          },
          "metadata": {
            "tags": []
          },
          "execution_count": 15
        }
      ]
    },
    {
      "cell_type": "code",
      "metadata": {
        "id": "GU6ZmN9E4BJD",
        "colab_type": "code",
        "colab": {}
      },
      "source": [
        "df = pd.DataFrame(companylist)"
      ],
      "execution_count": 0,
      "outputs": []
    },
    {
      "cell_type": "code",
      "metadata": {
        "id": "Hbwk1O-H-q7o",
        "colab_type": "code",
        "outputId": "685b9bef-5d6b-4eeb-a4ee-ce8e1742db88",
        "colab": {
          "base_uri": "https://localhost:8080/",
          "height": 452
        }
      },
      "source": [
        "df.tail()"
      ],
      "execution_count": 17,
      "outputs": [
        {
          "output_type": "execute_result",
          "data": {
            "text/html": [
              "<div>\n",
              "<style scoped>\n",
              "    .dataframe tbody tr th:only-of-type {\n",
              "        vertical-align: middle;\n",
              "    }\n",
              "\n",
              "    .dataframe tbody tr th {\n",
              "        vertical-align: top;\n",
              "    }\n",
              "\n",
              "    .dataframe thead th {\n",
              "        text-align: right;\n",
              "    }\n",
              "</style>\n",
              "<table border=\"1\" class=\"dataframe\">\n",
              "  <thead>\n",
              "    <tr style=\"text-align: right;\">\n",
              "      <th></th>\n",
              "      <th>companies</th>\n",
              "      <th>symbol</th>\n",
              "      <th>sector</th>\n",
              "      <th>Previous Close</th>\n",
              "      <th>Open</th>\n",
              "      <th>Bid</th>\n",
              "      <th>Ask</th>\n",
              "      <th>Day&amp;#x27;s Range</th>\n",
              "      <th>52 Week Range</th>\n",
              "      <th>Volume</th>\n",
              "      <th>Avg. Volume</th>\n",
              "      <th>Market Cap</th>\n",
              "      <th>Beta (5Y Monthly)</th>\n",
              "      <th>PE Ratio (TTM)</th>\n",
              "      <th>EPS (TTM)</th>\n",
              "      <th>Earnings Date</th>\n",
              "      <th>Forward Dividend &amp;amp; Yield</th>\n",
              "      <th>Ex-Dividend Date</th>\n",
              "      <th>1y Target Est</th>\n",
              "    </tr>\n",
              "  </thead>\n",
              "  <tbody>\n",
              "    <tr>\n",
              "      <th>45</th>\n",
              "      <td>UltraTech Cement</td>\n",
              "      <td>ULTRACEMCO.NS</td>\n",
              "      <td>Cement\\n</td>\n",
              "      <td>3,324.40</td>\n",
              "      <td>3,323.95</td>\n",
              "      <td>&lt;span class=\"Trsdu(0.3s) \" data-reactid=\"70</td>\n",
              "      <td>&lt;span class=\"Trsdu(0.3s) \" data-reactid=\"75</td>\n",
              "      <td>3,301.55 - 3,339.15</td>\n",
              "      <td>2,910.00 - 4,904.95</td>\n",
              "      <td>18,293</td>\n",
              "      <td>569,536</td>\n",
              "      <td>959.843B</td>\n",
              "      <td>0.73</td>\n",
              "      <td>24.92</td>\n",
              "      <td>133.53</td>\n",
              "      <td>N/A</td>\n",
              "      <td>11.50 (0.35%)</td>\n",
              "      <td>Jul 10, 2019</td>\n",
              "      <td>3,994.63</td>\n",
              "    </tr>\n",
              "    <tr>\n",
              "      <th>46</th>\n",
              "      <td>United Phosphorus Limited</td>\n",
              "      <td>UPL.NS</td>\n",
              "      <td>Chemicals\\n</td>\n",
              "      <td>379.00</td>\n",
              "      <td>378.00</td>\n",
              "      <td>&lt;span class=\"Trsdu(0.3s) \" data-reactid=\"70</td>\n",
              "      <td>&lt;span class=\"Trsdu(0.3s) \" data-reactid=\"75</td>\n",
              "      <td>374.30 - 382.50</td>\n",
              "      <td>240.15 - 709.05</td>\n",
              "      <td>419,483</td>\n",
              "      <td>4,889,829</td>\n",
              "      <td>288.198B</td>\n",
              "      <td>1.06</td>\n",
              "      <td>21.13</td>\n",
              "      <td>17.85</td>\n",
              "      <td>&lt;span data-reactid=\"121</td>\n",
              "      <td>5.33 (1.38%)</td>\n",
              "      <td>May 28, 2019</td>\n",
              "      <td>939.31</td>\n",
              "    </tr>\n",
              "    <tr>\n",
              "      <th>47</th>\n",
              "      <td>Vedanta</td>\n",
              "      <td>VEDL.NS</td>\n",
              "      <td>Metals\\n</td>\n",
              "      <td>79.45</td>\n",
              "      <td>78.90</td>\n",
              "      <td>&lt;span class=\"Trsdu(0.3s) \" data-reactid=\"70</td>\n",
              "      <td>&lt;span class=\"Trsdu(0.3s) \" data-reactid=\"75</td>\n",
              "      <td>78.10 - 79.50</td>\n",
              "      <td>60.20 - 180.00</td>\n",
              "      <td>2,259,301</td>\n",
              "      <td>25,973,966</td>\n",
              "      <td>291.547B</td>\n",
              "      <td>1.96</td>\n",
              "      <td>3.46</td>\n",
              "      <td>22.76</td>\n",
              "      <td>&lt;span data-reactid=\"121</td>\n",
              "      <td>7.80 (9.89%)</td>\n",
              "      <td>Mar 05, 2020</td>\n",
              "      <td>284.86</td>\n",
              "    </tr>\n",
              "    <tr>\n",
              "      <th>48</th>\n",
              "      <td>Wipro</td>\n",
              "      <td>WIPRO.NS</td>\n",
              "      <td>Information Technology\\n</td>\n",
              "      <td>187.05</td>\n",
              "      <td>184.00</td>\n",
              "      <td>&lt;span class=\"Trsdu(0.3s) \" data-reactid=\"70</td>\n",
              "      <td>&lt;span class=\"Trsdu(0.3s) \" data-reactid=\"75</td>\n",
              "      <td>182.35 - 185.00</td>\n",
              "      <td>159.40 - 301.60</td>\n",
              "      <td>641,929</td>\n",
              "      <td>5,031,871</td>\n",
              "      <td>1.042T</td>\n",
              "      <td>0.35</td>\n",
              "      <td>11.04</td>\n",
              "      <td>16.62</td>\n",
              "      <td>N/A</td>\n",
              "      <td>2.00 (1.09%)</td>\n",
              "      <td>Jan 24, 2020</td>\n",
              "      <td>290.68</td>\n",
              "    </tr>\n",
              "    <tr>\n",
              "      <th>49</th>\n",
              "      <td>Zee Entertainment Enterprises</td>\n",
              "      <td>ZEEL.NS</td>\n",
              "      <td>Media &amp;amp; Entertainment\\n</td>\n",
              "      <td>152.65</td>\n",
              "      <td>151.95</td>\n",
              "      <td>&lt;span class=\"Trsdu(0.3s) \" data-reactid=\"70</td>\n",
              "      <td>&lt;span class=\"Trsdu(0.3s) \" data-reactid=\"75</td>\n",
              "      <td>149.20 - 154.20</td>\n",
              "      <td>114.00 - 405.20</td>\n",
              "      <td>1,062,112</td>\n",
              "      <td>15,341,862</td>\n",
              "      <td>147.533B</td>\n",
              "      <td>0.82</td>\n",
              "      <td>9.31</td>\n",
              "      <td>16.50</td>\n",
              "      <td>&lt;span data-reactid=\"121</td>\n",
              "      <td>3.50 (2.36%)</td>\n",
              "      <td>Jul 15, 2019</td>\n",
              "      <td>544.38</td>\n",
              "    </tr>\n",
              "  </tbody>\n",
              "</table>\n",
              "</div>"
            ],
            "text/plain": [
              "                        companies         symbol  ... Ex-Dividend Date 1y Target Est\n",
              "45               UltraTech Cement  ULTRACEMCO.NS  ...     Jul 10, 2019      3,994.63\n",
              "46      United Phosphorus Limited         UPL.NS  ...     May 28, 2019        939.31\n",
              "47                        Vedanta        VEDL.NS  ...     Mar 05, 2020        284.86\n",
              "48                          Wipro       WIPRO.NS  ...     Jan 24, 2020        290.68\n",
              "49  Zee Entertainment Enterprises        ZEEL.NS  ...     Jul 15, 2019        544.38\n",
              "\n",
              "[5 rows x 19 columns]"
            ]
          },
          "metadata": {
            "tags": []
          },
          "execution_count": 17
        }
      ]
    },
    {
      "cell_type": "code",
      "metadata": {
        "id": "DDPvC2r4_ubg",
        "colab_type": "code",
        "outputId": "96a9b6ff-e005-4c6a-d2f6-1452c3d351ef",
        "colab": {
          "base_uri": "https://localhost:8080/",
          "height": 126
        }
      },
      "source": [
        "!pip install selenium\n"
      ],
      "execution_count": 18,
      "outputs": [
        {
          "output_type": "stream",
          "text": [
            "Collecting selenium\n",
            "\u001b[?25l  Downloading https://files.pythonhosted.org/packages/80/d6/4294f0b4bce4de0abf13e17190289f9d0613b0a44e5dd6a7f5ca98459853/selenium-3.141.0-py2.py3-none-any.whl (904kB)\n",
            "\u001b[K     |████████████████████████████████| 911kB 4.5MB/s \n",
            "\u001b[?25hRequirement already satisfied: urllib3 in /usr/local/lib/python3.6/dist-packages (from selenium) (1.24.3)\n",
            "Installing collected packages: selenium\n",
            "Successfully installed selenium-3.141.0\n"
          ],
          "name": "stdout"
        }
      ]
    },
    {
      "cell_type": "code",
      "metadata": {
        "id": "gtSiEvuUgWMC",
        "colab_type": "code",
        "outputId": "756f516a-3c45-4f3d-ef2a-3c66d46b821a",
        "colab": {
          "base_uri": "https://localhost:8080/",
          "height": 90
        }
      },
      "source": [
        "!pip install phantomjs\n",
        "#/usr/local/lib/python3.6/dist-packages"
      ],
      "execution_count": 19,
      "outputs": [
        {
          "output_type": "stream",
          "text": [
            "Collecting phantomjs\n",
            "  Downloading https://files.pythonhosted.org/packages/91/d2/0e006a5af6b791f4424d80e2a840df6b5d2aa6e9b3812fa2f1f19ca73c43/phantomjs-1.1.7-py3-none-any.whl\n",
            "Installing collected packages: phantomjs\n",
            "Successfully installed phantomjs-1.1.7\n"
          ],
          "name": "stdout"
        }
      ]
    },
    {
      "cell_type": "code",
      "metadata": {
        "id": "c3v4oGBFiQ9C",
        "colab_type": "code",
        "colab": {
          "base_uri": "https://localhost:8080/",
          "height": 1000
        },
        "outputId": "153be256-3eae-4c4e-eaa6-7126de0c0055"
      },
      "source": [
        "!sudo apt-get install libxss1 libappindicator1 libindicator7\n",
        "!wget https://dl.google.com/linux/direct/google-chrome-stable_current_amd64.deb\n",
        "\n",
        "!sudo dpkg -i google-chrome*.deb\n",
        "!sudo apt-get install -f\n",
        "\n",
        "!sudo apt-get install xvfb\n",
        "\n",
        "!sudo apt-get install unzip\n",
        "\n",
        "!wget -N http://chromedriver.storage.googleapis.com/2.26/chromedriver_linux64.zip\n",
        "!unzip chromedriver_linux64.zip\n",
        "!chmod +x chromedriver\n",
        "\n",
        "!sudo mv -f chromedriver /usr/local/share/chromedriver\n",
        "!sudo ln -s /usr/local/share/chromedriver /usr/local/bin/chromedriver\n",
        "!sudo ln -s /usr/local/share/chromedriver /usr/bin/chromedriver\n"
      ],
      "execution_count": 28,
      "outputs": [
        {
          "output_type": "stream",
          "text": [
            "Reading package lists... Done\n",
            "Building dependency tree       \n",
            "Reading state information... Done\n",
            "libxss1 is already the newest version (1:1.2.2-1).\n",
            "libxss1 set to manually installed.\n",
            "The following additional packages will be installed:\n",
            "  libdbusmenu-glib4 libdbusmenu-gtk4\n",
            "Suggested packages:\n",
            "  indicator-application\n",
            "The following NEW packages will be installed:\n",
            "  libappindicator1 libdbusmenu-glib4 libdbusmenu-gtk4 libindicator7\n",
            "0 upgraded, 4 newly installed, 0 to remove and 29 not upgraded.\n",
            "Need to get 109 kB of archives.\n",
            "After this operation, 424 kB of additional disk space will be used.\n",
            "Get:1 http://archive.ubuntu.com/ubuntu bionic-updates/main amd64 libdbusmenu-glib4 amd64 16.04.1+18.04.20171206-0ubuntu2 [41.0 kB]\n",
            "Get:2 http://archive.ubuntu.com/ubuntu bionic-updates/main amd64 libdbusmenu-gtk4 amd64 16.04.1+18.04.20171206-0ubuntu2 [26.9 kB]\n",
            "Get:3 http://archive.ubuntu.com/ubuntu bionic/universe amd64 libindicator7 amd64 16.10.0+18.04.20180321.1-0ubuntu1 [21.7 kB]\n",
            "Get:4 http://archive.ubuntu.com/ubuntu bionic/universe amd64 libappindicator1 amd64 12.10.1+18.04.20180322.1-0ubuntu1 [19.4 kB]\n",
            "Fetched 109 kB in 1s (117 kB/s)\n",
            "debconf: unable to initialize frontend: Dialog\n",
            "debconf: (No usable dialog-like program is installed, so the dialog based frontend cannot be used. at /usr/share/perl5/Debconf/FrontEnd/Dialog.pm line 76, <> line 4.)\n",
            "debconf: falling back to frontend: Readline\n",
            "debconf: unable to initialize frontend: Readline\n",
            "debconf: (This frontend requires a controlling tty.)\n",
            "debconf: falling back to frontend: Teletype\n",
            "dpkg-preconfigure: unable to re-open stdin: \n",
            "Selecting previously unselected package libdbusmenu-glib4:amd64.\n",
            "(Reading database ... 144429 files and directories currently installed.)\n",
            "Preparing to unpack .../libdbusmenu-glib4_16.04.1+18.04.20171206-0ubuntu2_amd64.deb ...\n",
            "Unpacking libdbusmenu-glib4:amd64 (16.04.1+18.04.20171206-0ubuntu2) ...\n",
            "Selecting previously unselected package libdbusmenu-gtk4:amd64.\n",
            "Preparing to unpack .../libdbusmenu-gtk4_16.04.1+18.04.20171206-0ubuntu2_amd64.deb ...\n",
            "Unpacking libdbusmenu-gtk4:amd64 (16.04.1+18.04.20171206-0ubuntu2) ...\n",
            "Selecting previously unselected package libindicator7.\n",
            "Preparing to unpack .../libindicator7_16.10.0+18.04.20180321.1-0ubuntu1_amd64.deb ...\n",
            "Unpacking libindicator7 (16.10.0+18.04.20180321.1-0ubuntu1) ...\n",
            "Selecting previously unselected package libappindicator1.\n",
            "Preparing to unpack .../libappindicator1_12.10.1+18.04.20180322.1-0ubuntu1_amd64.deb ...\n",
            "Unpacking libappindicator1 (12.10.1+18.04.20180322.1-0ubuntu1) ...\n",
            "Setting up libindicator7 (16.10.0+18.04.20180321.1-0ubuntu1) ...\n",
            "Setting up libdbusmenu-glib4:amd64 (16.04.1+18.04.20171206-0ubuntu2) ...\n",
            "Setting up libdbusmenu-gtk4:amd64 (16.04.1+18.04.20171206-0ubuntu2) ...\n",
            "Setting up libappindicator1 (12.10.1+18.04.20180322.1-0ubuntu1) ...\n",
            "Processing triggers for libc-bin (2.27-3ubuntu1) ...\n",
            "/sbin/ldconfig.real: /usr/local/lib/python3.6/dist-packages/ideep4py/lib/libmkldnn.so.0 is not a symbolic link\n",
            "\n",
            "--2020-05-07 04:09:39--  https://dl.google.com/linux/direct/google-chrome-stable_current_amd64.deb\n",
            "Resolving dl.google.com (dl.google.com)... 74.125.195.190, 74.125.195.93, 74.125.195.136, ...\n",
            "Connecting to dl.google.com (dl.google.com)|74.125.195.190|:443... connected.\n",
            "HTTP request sent, awaiting response... 200 OK\n",
            "Length: 66985784 (64M) [application/x-debian-package]\n",
            "Saving to: ‘google-chrome-stable_current_amd64.deb’\n",
            "\n",
            "google-chrome-stabl 100%[===================>]  63.88M   305MB/s    in 0.2s    \n",
            "\n",
            "2020-05-07 04:09:39 (305 MB/s) - ‘google-chrome-stable_current_amd64.deb’ saved [66985784/66985784]\n",
            "\n",
            "Selecting previously unselected package google-chrome-stable.\n",
            "(Reading database ... 144449 files and directories currently installed.)\n",
            "Preparing to unpack google-chrome-stable_current_amd64.deb ...\n",
            "Unpacking google-chrome-stable (81.0.4044.138-1) ...\n",
            "\u001b[1mdpkg:\u001b[0m dependency problems prevent configuration of google-chrome-stable:\n",
            " google-chrome-stable depends on libappindicator3-1; however:\n",
            "  Package libappindicator3-1 is not installed.\n",
            "\n",
            "\u001b[1mdpkg:\u001b[0m error processing package google-chrome-stable (--install):\n",
            " dependency problems - leaving unconfigured\n",
            "Processing triggers for mime-support (3.60ubuntu1) ...\n",
            "Processing triggers for man-db (2.8.3-2ubuntu0.1) ...\n",
            "Errors were encountered while processing:\n",
            " google-chrome-stable\n",
            "Reading package lists... Done\n",
            "Building dependency tree       \n",
            "Reading state information... Done\n",
            "Correcting dependencies... Done\n",
            "The following additional packages will be installed:\n",
            "  libappindicator3-1 libdbusmenu-gtk3-4 libindicator3-7\n",
            "Suggested packages:\n",
            "  indicator-application\n",
            "The following NEW packages will be installed:\n",
            "  libappindicator3-1 libdbusmenu-gtk3-4 libindicator3-7\n",
            "0 upgraded, 3 newly installed, 0 to remove and 29 not upgraded.\n",
            "1 not fully installed or removed.\n",
            "Need to get 72.4 kB of archives.\n",
            "After this operation, 288 kB of additional disk space will be used.\n",
            "Get:1 http://archive.ubuntu.com/ubuntu bionic-updates/main amd64 libdbusmenu-gtk3-4 amd64 16.04.1+18.04.20171206-0ubuntu2 [26.8 kB]\n",
            "Get:2 http://archive.ubuntu.com/ubuntu bionic/main amd64 libindicator3-7 amd64 16.10.0+18.04.20180321.1-0ubuntu1 [26.1 kB]\n",
            "Get:3 http://archive.ubuntu.com/ubuntu bionic/main amd64 libappindicator3-1 amd64 12.10.1+18.04.20180322.1-0ubuntu1 [19.4 kB]\n",
            "Fetched 72.4 kB in 1s (97.1 kB/s)\n",
            "debconf: unable to initialize frontend: Dialog\n",
            "debconf: (No usable dialog-like program is installed, so the dialog based frontend cannot be used. at /usr/share/perl5/Debconf/FrontEnd/Dialog.pm line 76, <> line 3.)\n",
            "debconf: falling back to frontend: Readline\n",
            "debconf: unable to initialize frontend: Readline\n",
            "debconf: (This frontend requires a controlling tty.)\n",
            "debconf: falling back to frontend: Teletype\n",
            "dpkg-preconfigure: unable to re-open stdin: \n",
            "Selecting previously unselected package libdbusmenu-gtk3-4:amd64.\n",
            "(Reading database ... 144563 files and directories currently installed.)\n",
            "Preparing to unpack .../libdbusmenu-gtk3-4_16.04.1+18.04.20171206-0ubuntu2_amd64.deb ...\n",
            "Unpacking libdbusmenu-gtk3-4:amd64 (16.04.1+18.04.20171206-0ubuntu2) ...\n",
            "Selecting previously unselected package libindicator3-7.\n",
            "Preparing to unpack .../libindicator3-7_16.10.0+18.04.20180321.1-0ubuntu1_amd64.deb ...\n",
            "Unpacking libindicator3-7 (16.10.0+18.04.20180321.1-0ubuntu1) ...\n",
            "Selecting previously unselected package libappindicator3-1.\n",
            "Preparing to unpack .../libappindicator3-1_12.10.1+18.04.20180322.1-0ubuntu1_amd64.deb ...\n",
            "Unpacking libappindicator3-1 (12.10.1+18.04.20180322.1-0ubuntu1) ...\n",
            "Setting up libindicator3-7 (16.10.0+18.04.20180321.1-0ubuntu1) ...\n",
            "Setting up libdbusmenu-gtk3-4:amd64 (16.04.1+18.04.20171206-0ubuntu2) ...\n",
            "Setting up libappindicator3-1 (12.10.1+18.04.20180322.1-0ubuntu1) ...\n",
            "Setting up google-chrome-stable (81.0.4044.138-1) ...\n",
            "update-alternatives: using /usr/bin/google-chrome-stable to provide /usr/bin/x-www-browser (x-www-browser) in auto mode\n",
            "update-alternatives: using /usr/bin/google-chrome-stable to provide /usr/bin/gnome-www-browser (gnome-www-browser) in auto mode\n",
            "update-alternatives: using /usr/bin/google-chrome-stable to provide /usr/bin/google-chrome (google-chrome) in auto mode\n",
            "Processing triggers for libc-bin (2.27-3ubuntu1) ...\n",
            "/sbin/ldconfig.real: /usr/local/lib/python3.6/dist-packages/ideep4py/lib/libmkldnn.so.0 is not a symbolic link\n",
            "\n",
            "Reading package lists... Done\n",
            "Building dependency tree       \n",
            "Reading state information... Done\n",
            "The following NEW packages will be installed:\n",
            "  xvfb\n",
            "0 upgraded, 1 newly installed, 0 to remove and 29 not upgraded.\n",
            "Need to get 784 kB of archives.\n",
            "After this operation, 2,266 kB of additional disk space will be used.\n",
            "Get:1 http://archive.ubuntu.com/ubuntu bionic-updates/universe amd64 xvfb amd64 2:1.19.6-1ubuntu4.4 [784 kB]\n",
            "Fetched 784 kB in 1s (705 kB/s)\n",
            "debconf: unable to initialize frontend: Dialog\n",
            "debconf: (No usable dialog-like program is installed, so the dialog based frontend cannot be used. at /usr/share/perl5/Debconf/FrontEnd/Dialog.pm line 76, <> line 1.)\n",
            "debconf: falling back to frontend: Readline\n",
            "debconf: unable to initialize frontend: Readline\n",
            "debconf: (This frontend requires a controlling tty.)\n",
            "debconf: falling back to frontend: Teletype\n",
            "dpkg-preconfigure: unable to re-open stdin: \n",
            "Selecting previously unselected package xvfb.\n",
            "(Reading database ... 144578 files and directories currently installed.)\n",
            "Preparing to unpack .../xvfb_2%3a1.19.6-1ubuntu4.4_amd64.deb ...\n",
            "Unpacking xvfb (2:1.19.6-1ubuntu4.4) ...\n",
            "Setting up xvfb (2:1.19.6-1ubuntu4.4) ...\n",
            "Processing triggers for man-db (2.8.3-2ubuntu0.1) ...\n",
            "Reading package lists... Done\n",
            "Building dependency tree       \n",
            "Reading state information... Done\n",
            "unzip is already the newest version (6.0-21ubuntu1).\n",
            "0 upgraded, 0 newly installed, 0 to remove and 29 not upgraded.\n",
            "--2020-05-07 04:10:06--  http://chromedriver.storage.googleapis.com/2.26/chromedriver_linux64.zip\n",
            "Resolving chromedriver.storage.googleapis.com (chromedriver.storage.googleapis.com)... 74.125.195.128, 2607:f8b0:400e:c09::80\n",
            "Connecting to chromedriver.storage.googleapis.com (chromedriver.storage.googleapis.com)|74.125.195.128|:80... connected.\n",
            "HTTP request sent, awaiting response... 200 OK\n",
            "Length: 3328958 (3.2M) [application/zip]\n",
            "Saving to: ‘chromedriver_linux64.zip’\n",
            "\n",
            "chromedriver_linux6 100%[===================>]   3.17M  --.-KB/s    in 0.02s   \n",
            "\n",
            "2020-05-07 04:10:06 (197 MB/s) - ‘chromedriver_linux64.zip’ saved [3328958/3328958]\n",
            "\n",
            "Archive:  chromedriver_linux64.zip\n",
            "  inflating: chromedriver            \n"
          ],
          "name": "stdout"
        }
      ]
    },
    {
      "cell_type": "code",
      "metadata": {
        "id": "BAqzTgupU_fn",
        "colab_type": "code",
        "colab": {
          "base_uri": "https://localhost:8080/",
          "height": 726
        },
        "outputId": "7e95eece-93a4-498a-e5c6-c3c088e52e09"
      },
      "source": [
        "#!ls /usr/local/share/chromedriver\n",
        "#!chmod 777 /usr/local/share/\n",
        "\n",
        "!sudo apt-get install -y chromium-browser"
      ],
      "execution_count": 42,
      "outputs": [
        {
          "output_type": "stream",
          "text": [
            "Reading package lists... Done\n",
            "Building dependency tree       \n",
            "Reading state information... Done\n",
            "The following additional packages will be installed:\n",
            "  chromium-browser-l10n chromium-codecs-ffmpeg-extra\n",
            "Suggested packages:\n",
            "  webaccounts-chromium-extension unity-chromium-extension adobe-flashplugin\n",
            "The following NEW packages will be installed:\n",
            "  chromium-browser chromium-browser-l10n chromium-codecs-ffmpeg-extra\n",
            "0 upgraded, 3 newly installed, 0 to remove and 29 not upgraded.\n",
            "Need to get 73.2 MB of archives.\n",
            "After this operation, 252 MB of additional disk space will be used.\n",
            "Get:1 http://archive.ubuntu.com/ubuntu bionic-updates/universe amd64 chromium-codecs-ffmpeg-extra amd64 81.0.4044.122-0ubuntu0.18.04.1 [1,095 kB]\n",
            "Get:2 http://archive.ubuntu.com/ubuntu bionic-updates/universe amd64 chromium-browser amd64 81.0.4044.122-0ubuntu0.18.04.1 [68.8 MB]\n",
            "Get:3 http://archive.ubuntu.com/ubuntu bionic-updates/universe amd64 chromium-browser-l10n all 81.0.4044.122-0ubuntu0.18.04.1 [3,230 kB]\n",
            "Fetched 73.2 MB in 5s (15.0 MB/s)\n",
            "debconf: unable to initialize frontend: Dialog\n",
            "debconf: (No usable dialog-like program is installed, so the dialog based frontend cannot be used. at /usr/share/perl5/Debconf/FrontEnd/Dialog.pm line 76, <> line 3.)\n",
            "debconf: falling back to frontend: Readline\n",
            "debconf: unable to initialize frontend: Readline\n",
            "debconf: (This frontend requires a controlling tty.)\n",
            "debconf: falling back to frontend: Teletype\n",
            "dpkg-preconfigure: unable to re-open stdin: \n",
            "Selecting previously unselected package chromium-codecs-ffmpeg-extra.\n",
            "(Reading database ... 144585 files and directories currently installed.)\n",
            "Preparing to unpack .../chromium-codecs-ffmpeg-extra_81.0.4044.122-0ubuntu0.18.04.1_amd64.deb ...\n",
            "Unpacking chromium-codecs-ffmpeg-extra (81.0.4044.122-0ubuntu0.18.04.1) ...\n",
            "Selecting previously unselected package chromium-browser.\n",
            "Preparing to unpack .../chromium-browser_81.0.4044.122-0ubuntu0.18.04.1_amd64.deb ...\n",
            "Unpacking chromium-browser (81.0.4044.122-0ubuntu0.18.04.1) ...\n",
            "Selecting previously unselected package chromium-browser-l10n.\n",
            "Preparing to unpack .../chromium-browser-l10n_81.0.4044.122-0ubuntu0.18.04.1_all.deb ...\n",
            "Unpacking chromium-browser-l10n (81.0.4044.122-0ubuntu0.18.04.1) ...\n",
            "Setting up chromium-codecs-ffmpeg-extra (81.0.4044.122-0ubuntu0.18.04.1) ...\n",
            "Setting up chromium-browser (81.0.4044.122-0ubuntu0.18.04.1) ...\n",
            "Setting up chromium-browser-l10n (81.0.4044.122-0ubuntu0.18.04.1) ...\n",
            "Processing triggers for hicolor-icon-theme (0.17-2) ...\n",
            "Processing triggers for mime-support (3.60ubuntu1) ...\n",
            "Processing triggers for man-db (2.8.3-2ubuntu0.1) ...\n"
          ],
          "name": "stdout"
        }
      ]
    },
    {
      "cell_type": "code",
      "metadata": {
        "id": "SB8QhEaL3Zi7",
        "colab_type": "code",
        "colab": {}
      },
      "source": [
        "url = 'https://in.finance.yahoo.com/quote/HDFCBANK.NS/key-statistics?p=HDFCBANK.NS'"
      ],
      "execution_count": 0,
      "outputs": []
    },
    {
      "cell_type": "code",
      "metadata": {
        "id": "Z0NVRNVi3j9M",
        "colab_type": "code",
        "colab": {
          "base_uri": "https://localhost:8080/",
          "height": 395
        },
        "outputId": "8ac4459b-8231-49ef-d5da-445bab6e8b1e"
      },
      "source": [
        "from selenium import webdriver\n",
        "\n",
        "option = webdriver.ChromeOptions()\n",
        "option.add_argument('headless')\n",
        "\n",
        "path =  '/usr/local/share/chromedriver'\n",
        "\n",
        "driver = webdriver.Chrome(executable_path=path, options=option)\n",
        "\n",
        "driver.get(url)\n",
        "driver.quit()"
      ],
      "execution_count": 43,
      "outputs": [
        {
          "output_type": "error",
          "ename": "WebDriverException",
          "evalue": "ignored",
          "traceback": [
            "\u001b[0;31m---------------------------------------------------------------------------\u001b[0m",
            "\u001b[0;31mWebDriverException\u001b[0m                        Traceback (most recent call last)",
            "\u001b[0;32m<ipython-input-43-99521598f257>\u001b[0m in \u001b[0;36m<module>\u001b[0;34m()\u001b[0m\n\u001b[1;32m      6\u001b[0m \u001b[0mpath\u001b[0m \u001b[0;34m=\u001b[0m  \u001b[0;34m'/usr/local/share/chromedriver'\u001b[0m\u001b[0;34m\u001b[0m\u001b[0;34m\u001b[0m\u001b[0m\n\u001b[1;32m      7\u001b[0m \u001b[0;34m\u001b[0m\u001b[0m\n\u001b[0;32m----> 8\u001b[0;31m \u001b[0mdriver\u001b[0m \u001b[0;34m=\u001b[0m \u001b[0mwebdriver\u001b[0m\u001b[0;34m.\u001b[0m\u001b[0mChrome\u001b[0m\u001b[0;34m(\u001b[0m\u001b[0mexecutable_path\u001b[0m\u001b[0;34m=\u001b[0m\u001b[0mpath\u001b[0m\u001b[0;34m,\u001b[0m \u001b[0moptions\u001b[0m\u001b[0;34m=\u001b[0m\u001b[0moption\u001b[0m\u001b[0;34m)\u001b[0m\u001b[0;34m\u001b[0m\u001b[0;34m\u001b[0m\u001b[0m\n\u001b[0m\u001b[1;32m      9\u001b[0m \u001b[0;34m\u001b[0m\u001b[0m\n\u001b[1;32m     10\u001b[0m \u001b[0mdriver\u001b[0m\u001b[0;34m.\u001b[0m\u001b[0mget\u001b[0m\u001b[0;34m(\u001b[0m\u001b[0murl\u001b[0m\u001b[0;34m)\u001b[0m\u001b[0;34m\u001b[0m\u001b[0;34m\u001b[0m\u001b[0m\n",
            "\u001b[0;32m/usr/local/lib/python3.6/dist-packages/selenium/webdriver/chrome/webdriver.py\u001b[0m in \u001b[0;36m__init__\u001b[0;34m(self, executable_path, port, options, service_args, desired_capabilities, service_log_path, chrome_options, keep_alive)\u001b[0m\n\u001b[1;32m     71\u001b[0m             \u001b[0mservice_args\u001b[0m\u001b[0;34m=\u001b[0m\u001b[0mservice_args\u001b[0m\u001b[0;34m,\u001b[0m\u001b[0;34m\u001b[0m\u001b[0;34m\u001b[0m\u001b[0m\n\u001b[1;32m     72\u001b[0m             log_path=service_log_path)\n\u001b[0;32m---> 73\u001b[0;31m         \u001b[0mself\u001b[0m\u001b[0;34m.\u001b[0m\u001b[0mservice\u001b[0m\u001b[0;34m.\u001b[0m\u001b[0mstart\u001b[0m\u001b[0;34m(\u001b[0m\u001b[0;34m)\u001b[0m\u001b[0;34m\u001b[0m\u001b[0;34m\u001b[0m\u001b[0m\n\u001b[0m\u001b[1;32m     74\u001b[0m \u001b[0;34m\u001b[0m\u001b[0m\n\u001b[1;32m     75\u001b[0m         \u001b[0;32mtry\u001b[0m\u001b[0;34m:\u001b[0m\u001b[0;34m\u001b[0m\u001b[0;34m\u001b[0m\u001b[0m\n",
            "\u001b[0;32m/usr/local/lib/python3.6/dist-packages/selenium/webdriver/common/service.py\u001b[0m in \u001b[0;36mstart\u001b[0;34m(self)\u001b[0m\n\u001b[1;32m     96\u001b[0m         \u001b[0mcount\u001b[0m \u001b[0;34m=\u001b[0m \u001b[0;36m0\u001b[0m\u001b[0;34m\u001b[0m\u001b[0;34m\u001b[0m\u001b[0m\n\u001b[1;32m     97\u001b[0m         \u001b[0;32mwhile\u001b[0m \u001b[0;32mTrue\u001b[0m\u001b[0;34m:\u001b[0m\u001b[0;34m\u001b[0m\u001b[0;34m\u001b[0m\u001b[0m\n\u001b[0;32m---> 98\u001b[0;31m             \u001b[0mself\u001b[0m\u001b[0;34m.\u001b[0m\u001b[0massert_process_still_running\u001b[0m\u001b[0;34m(\u001b[0m\u001b[0;34m)\u001b[0m\u001b[0;34m\u001b[0m\u001b[0;34m\u001b[0m\u001b[0m\n\u001b[0m\u001b[1;32m     99\u001b[0m             \u001b[0;32mif\u001b[0m \u001b[0mself\u001b[0m\u001b[0;34m.\u001b[0m\u001b[0mis_connectable\u001b[0m\u001b[0;34m(\u001b[0m\u001b[0;34m)\u001b[0m\u001b[0;34m:\u001b[0m\u001b[0;34m\u001b[0m\u001b[0;34m\u001b[0m\u001b[0m\n\u001b[1;32m    100\u001b[0m                 \u001b[0;32mbreak\u001b[0m\u001b[0;34m\u001b[0m\u001b[0;34m\u001b[0m\u001b[0m\n",
            "\u001b[0;32m/usr/local/lib/python3.6/dist-packages/selenium/webdriver/common/service.py\u001b[0m in \u001b[0;36massert_process_still_running\u001b[0;34m(self)\u001b[0m\n\u001b[1;32m    109\u001b[0m             raise WebDriverException(\n\u001b[1;32m    110\u001b[0m                 \u001b[0;34m'Service %s unexpectedly exited. Status code was: %s'\u001b[0m\u001b[0;34m\u001b[0m\u001b[0;34m\u001b[0m\u001b[0m\n\u001b[0;32m--> 111\u001b[0;31m                 \u001b[0;34m%\u001b[0m \u001b[0;34m(\u001b[0m\u001b[0mself\u001b[0m\u001b[0;34m.\u001b[0m\u001b[0mpath\u001b[0m\u001b[0;34m,\u001b[0m \u001b[0mreturn_code\u001b[0m\u001b[0;34m)\u001b[0m\u001b[0;34m\u001b[0m\u001b[0;34m\u001b[0m\u001b[0m\n\u001b[0m\u001b[1;32m    112\u001b[0m             )\n\u001b[1;32m    113\u001b[0m \u001b[0;34m\u001b[0m\u001b[0m\n",
            "\u001b[0;31mWebDriverException\u001b[0m: Message: Service /usr/local/share/chromedriver unexpectedly exited. Status code was: 127\n"
          ]
        }
      ]
    }
  ]
}