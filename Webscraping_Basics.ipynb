{
  "nbformat": 4,
  "nbformat_minor": 0,
  "metadata": {
    "colab": {
      "name": "Webscraping Basics.ipynb",
      "provenance": [],
      "authorship_tag": "ABX9TyONoYr9sgI7d6TwIt3ONDl1",
      "include_colab_link": true
    },
    "kernelspec": {
      "name": "python3",
      "display_name": "Python 3"
    }
  },
  "cells": [
    {
      "cell_type": "markdown",
      "metadata": {
        "id": "view-in-github",
        "colab_type": "text"
      },
      "source": [
        "<a href=\"https://colab.research.google.com/github/jesvin1/WebScraping/blob/master/Webscraping_Basics.ipynb\" target=\"_parent\"><img src=\"https://colab.research.google.com/assets/colab-badge.svg\" alt=\"Open In Colab\"/></a>"
      ]
    },
    {
      "cell_type": "code",
      "metadata": {
        "id": "DYhwBP6gZqmi",
        "colab_type": "code",
        "colab": {}
      },
      "source": [
        "import requests"
      ],
      "execution_count": 0,
      "outputs": []
    },
    {
      "cell_type": "code",
      "metadata": {
        "id": "nIs6qL_uZ3Gw",
        "colab_type": "code",
        "colab": {}
      },
      "source": [
        "url = 'https://finance.yahoo.com/quote/HDFCBANK.NS'"
      ],
      "execution_count": 0,
      "outputs": []
    },
    {
      "cell_type": "code",
      "metadata": {
        "id": "-ATCHL6vaFE1",
        "colab_type": "code",
        "colab": {}
      },
      "source": [
        "request = requests.get(url)"
      ],
      "execution_count": 0,
      "outputs": []
    },
    {
      "cell_type": "code",
      "metadata": {
        "id": "XurCbBXxaJDq",
        "colab_type": "code",
        "outputId": "32a4865c-4731-435f-e1f5-4d97eda7e794",
        "colab": {
          "base_uri": "https://localhost:8080/",
          "height": 35
        }
      },
      "source": [
        "request"
      ],
      "execution_count": 5,
      "outputs": [
        {
          "output_type": "execute_result",
          "data": {
            "text/plain": [
              "<Response [200]>"
            ]
          },
          "metadata": {
            "tags": []
          },
          "execution_count": 5
        }
      ]
    },
    {
      "cell_type": "code",
      "metadata": {
        "id": "zmmpooegaTcP",
        "colab_type": "code",
        "outputId": "5226f445-6dca-4b7e-af9b-ddf384802835",
        "colab": {
          "base_uri": "https://localhost:8080/",
          "height": 35
        }
      },
      "source": [
        "request.status_code"
      ],
      "execution_count": 0,
      "outputs": [
        {
          "output_type": "execute_result",
          "data": {
            "text/plain": [
              "200"
            ]
          },
          "metadata": {
            "tags": []
          },
          "execution_count": 6
        }
      ]
    },
    {
      "cell_type": "code",
      "metadata": {
        "id": "oDJZv7bhaXcp",
        "colab_type": "code",
        "colab": {}
      },
      "source": [
        "htmltext = request.text"
      ],
      "execution_count": 0,
      "outputs": []
    },
    {
      "cell_type": "code",
      "metadata": {
        "id": "cWDcvd21qQlf",
        "colab_type": "code",
        "colab": {}
      },
      "source": [
        "indicator = ['Previous Close',\n",
        "             'Open',\n",
        "             'Bid',\n",
        "             'Ask',\n",
        "             \"Day's range\",\n",
        "             '52-week range',\n",
        "             'Volume',\n",
        "             'Avg. volume',\n",
        "             'Market cap',\n",
        "             'Beta (5Y monthly)',\n",
        "             'PE ratio (TTM)',\n",
        "             'EPS (TTM)',\n",
        "             'Earnings date',\n",
        "             'Forward dividend & yield',\n",
        "             'Ex-dividend date',\n",
        "             '1y target est']"
      ],
      "execution_count": 0,
      "outputs": []
    },
    {
      "cell_type": "code",
      "metadata": {
        "id": "e_jgswh-qlmX",
        "colab_type": "code",
        "colab": {}
      },
      "source": [
        "firstsplit = htmltext.split(\"Open\")\n",
        "secondsplit = firstsplit[1].split(\"\\\">\")\n",
        "thirdsplit = secondsplit[2].split(\"</span>\")\n",
        "thirdsplit[0]"
      ],
      "execution_count": 0,
      "outputs": []
    }
  ]
}